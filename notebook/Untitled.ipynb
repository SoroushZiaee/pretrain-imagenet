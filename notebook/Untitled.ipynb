{
 "cells": [
  {
   "cell_type": "code",
   "execution_count": null,
   "id": "babcf551-1df3-4f59-b716-4476ed121d99",
   "metadata": {},
   "outputs": [],
   "source": [
    "import os"
   ]
  },
  {
   "cell_type": "code",
   "execution_count": null,
   "id": "fe31ea7b-60e5-4256-a6ec-e02319dbb0a4",
   "metadata": {},
   "outputs": [],
   "source": [
    "len(os.listdir(\"../data/LaMem/preprocessed/dataset/test\"))"
   ]
  },
  {
   "cell_type": "code",
   "execution_count": null,
   "id": "b3864985",
   "metadata": {},
   "outputs": [],
   "source": [
    "from time import sleep\n",
    "\n",
    "\n",
    "while True:\n",
    "    print(len(os.listdir(\"../data/LaMem/preprocessed/dataset/train\")))\n",
    "    sleep(3)\n",
    "    \n"
   ]
  },
  {
   "cell_type": "code",
   "execution_count": null,
   "id": "3132aad9",
   "metadata": {},
   "outputs": [],
   "source": [
    "len(os.listdir(\"/home/soroush1/projects/def-kohitij/soroush1/pretrain-imagenet/data/LaMem/lamem_images/lamem/images\"))"
   ]
  },
  {
   "cell_type": "code",
   "execution_count": null,
   "id": "93d586aa",
   "metadata": {},
   "outputs": [],
   "source": [
    "import pandas as pd"
   ]
  },
  {
   "cell_type": "code",
   "execution_count": null,
   "id": "f63f165b",
   "metadata": {},
   "outputs": [],
   "source": [
    "temp = pd.read_csv(\"/home/soroush1/projects/def-kohitij/soroush1/pretrain-imagenet/data/LaMem/lamem_images/lamem/splits/train_3.txt\", delim_whitespace=True, header=None)\n",
    "temp[\"image_number\"] = temp[0].apply(lambda x: int(x.split(\".\")[0]))\n",
    "temp.sort_values(\"image_number\", inplace=True)"
   ]
  },
  {
   "cell_type": "code",
   "execution_count": null,
   "id": "7e8b0ef7",
   "metadata": {},
   "outputs": [],
   "source": [
    "df = []\n",
    "for i in range(1, 6):\n",
    "    temp = pd.read_csv(f\"/home/soroush1/projects/def-kohitij/soroush1/pretrain-imagenet/data/LaMem/lamem_images/lamem/splits/train_{i}.txt\", delim_whitespace=True, header=None)\n",
    "    temp[\"image_number\"] = temp[0].apply(lambda x: int(x.split(\".\")[0]))\n",
    "    temp.sort_values(\"image_number\", inplace=True)\n",
    "    temp.columns = [\"image_name\", \"memo_score\", \"image_number\"]\n",
    "    df.append(temp)\n",
    "\n",
    "df = pd.concat(df, axis=0)\n",
    "df.reset_index(drop=True, inplace=True)\n",
    "\n",
    "new_df = pd.merge(left=pd.Series(df[\"image_number\"].unique(), name=\"image_number\"), right=df[[\"memo_score\", \"image_number\", \"image_name\"]], how=\"left\", on=\"image_number\")\n",
    "# new_df.drop_duplicates(subset=['image_number'], inplace=True)\n",
    "new_df.sort_values(\"image_number\", inplace=True)\n",
    "new_df.reset_index(drop=True, inplace=True)\n",
    "print(f\"{new_df.shape = }\")\n",
    "print(f\"{new_df.shape = }\")\n",
    "new_df.head()"
   ]
  },
  {
   "cell_type": "code",
   "execution_count": null,
   "id": "d9f39679",
   "metadata": {},
   "outputs": [],
   "source": [
    "df = []\n",
    "for i in range(1, 6):\n",
    "    temp = pd.read_csv(f\"/home/soroush1/projects/def-kohitij/soroush1/pretrain-imagenet/data/LaMem/lamem_images/lamem/splits/val_{i}.txt\", delim_whitespace=True, header=None)\n",
    "    temp[\"image_number\"] = temp[0].apply(lambda x: int(x.split(\".\")[0]))\n",
    "    temp.sort_values(\"image_number\", inplace=True)\n",
    "    temp.columns = [\"image_name\", \"memo_score\", \"image_number\"]\n",
    "    df.append(temp)\n",
    "\n",
    "df = pd.concat(df, axis=0)\n",
    "df.reset_index(drop=True, inplace=True)\n",
    "\n",
    "new_df = pd.merge(left=pd.Series(df[\"image_number\"].unique(), name=\"image_number\"), right=df[[\"memo_score\", \"image_number\", \"image_name\"]], how=\"left\", on=\"image_number\")\n",
    "# new_df.drop_duplicates(subset=['image_number'], inplace=True)\n",
    "new_df.sort_values(\"image_number\", inplace=True)\n",
    "new_df.reset_index(drop=True, inplace=True)\n",
    "print(f\"{new_df.shape = }\")\n",
    "print(f\"{new_df.shape = }\")\n",
    "new_df.head()"
   ]
  },
  {
   "cell_type": "code",
   "execution_count": null,
   "id": "d47eddda",
   "metadata": {},
   "outputs": [],
   "source": [
    "df = []\n",
    "for i in range(1, 6):\n",
    "    temp = pd.read_csv(f\"/home/soroush1/projects/def-kohitij/soroush1/pretrain-imagenet/data/LaMem/lamem_images/lamem/splits/test_{i}.txt\", delim_whitespace=True, header=None)\n",
    "    temp[\"image_number\"] = temp[0].apply(lambda x: int(x.split(\".\")[0]))\n",
    "    temp.sort_values(\"image_number\", inplace=True)\n",
    "    temp.columns = [\"image_name\", \"memo_score\", \"image_number\"]\n",
    "    df.append(temp)\n",
    "\n",
    "df = pd.concat(df, axis=0)\n",
    "df.reset_index(drop=True, inplace=True)\n",
    "\n",
    "new_df = pd.merge(left=pd.Series(df[\"image_number\"].unique(), name=\"image_number\"), right=df[[\"memo_score\", \"image_number\", \"image_name\"]], how=\"left\", on=\"image_number\")\n",
    "new_df.sort_values(\"image_number\", inplace=True)\n",
    "new_df.reset_index(drop=True, inplace=True)\n",
    "print(f\"{new_df.shape = }\")\n",
    "print(f\"{new_df.shape = }\")\n",
    "new_df.head()"
   ]
  },
  {
   "cell_type": "code",
   "execution_count": null,
   "id": "e8b01044",
   "metadata": {},
   "outputs": [],
   "source": [
    "import torch"
   ]
  },
  {
   "cell_type": "code",
   "execution_count": null,
   "id": "3045933a",
   "metadata": {},
   "outputs": [],
   "source": [
    "x = torch.load(\"/home/soroush1/projects/def-kohitij/soroush1/pretrain-imagenet/data/LaMem/preprocessed/dataset/00058345.pt\")"
   ]
  },
  {
   "cell_type": "code",
   "execution_count": null,
   "id": "59dbdb8f",
   "metadata": {},
   "outputs": [],
   "source": [
    "x.size()"
   ]
  }
 ],
 "metadata": {
  "kernelspec": {
   "display_name": "Python 3 (ipykernel)",
   "language": "python",
   "name": "python3"
  },
  "language_info": {
   "codemirror_mode": {
    "name": "ipython",
    "version": 3
   },
   "file_extension": ".py",
   "mimetype": "text/x-python",
   "name": "python",
   "nbconvert_exporter": "python",
   "pygments_lexer": "ipython3",
   "version": "3.11.5"
  }
 },
 "nbformat": 4,
 "nbformat_minor": 5
}
