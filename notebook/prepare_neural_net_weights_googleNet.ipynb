{
 "cells": [
  {
   "cell_type": "code",
   "execution_count": 1,
   "id": "95acacdc",
   "metadata": {},
   "outputs": [],
   "source": [
    "import torch\n",
    "import torch.nn as nn\n",
    "from torchvision.models import googlenet"
   ]
  },
  {
   "cell_type": "code",
   "execution_count": 4,
   "id": "212ee26f",
   "metadata": {},
   "outputs": [],
   "source": [
    "class GoogleNetRegression(nn.Module):\n",
    "    def __init__(self, num_output_features=1, checkpoint=None):\n",
    "        super().__init__()\n",
    "        # Load a pre-trained ResNet-50 model\n",
    "        self.googlenet_model = googlenet(weights=None, init_weights=True)\n",
    "        # Replace the classifier layer for regression\n",
    "        num_ftrs = self.googlenet_model.fc.in_features\n",
    "        self.googlenet_model.fc = nn.Linear(num_ftrs, num_output_features)\n",
    "        # If your targets are in the range [0, 1], you might want to add a sigmoid layer:\n",
    "        self.sigmoid = nn.Sigmoid()\n",
    "\n",
    "    # If the checkpoint contains other items, make sure to load the state_dict correctly\n",
    "        if checkpoint is not None:\n",
    "            self._checkpoint = self._prepare_lightning_state_dict(\n",
    "                checkpoint[\"state_dict\"]\n",
    "            )\n",
    "            self.googlenet_model.load_state_dict(self._checkpoint)\n",
    "\n",
    "    def _prepare_lightning_state_dict(self, state_dict):\n",
    "        # If the state_dict is from a Lightning model, it might contain the model and optimizer states\n",
    "        new_state_dict = {}\n",
    "        for key, value in state_dict.items():\n",
    "            if key.startswith(\"model.googlenet_model.\"):\n",
    "                new_state_dict[key.replace(\"model.googlenet_model.\", \"\")] = value\n",
    "\n",
    "        return new_state_dict\n",
    "\n",
    "    def forward(self, x):\n",
    "        # Get the main output from the GoogLeNet model\n",
    "        outputs = self.googlenet_model(x)\n",
    "        if isinstance(outputs, torch.Tensor):\n",
    "            x = outputs\n",
    "        else:  # If outputs are GoogLeNetOutputs, extract the main output\n",
    "            x = outputs.logits\n",
    "\n",
    "        # Apply the sigmoid function to the main output\n",
    "        x = self.sigmoid(x)\n",
    "        return x"
   ]
  },
  {
   "cell_type": "code",
   "execution_count": 5,
   "id": "ff37d59d",
   "metadata": {},
   "outputs": [],
   "source": [
    "MODEL_WEIGHTS = \"/home/soroush1/projects/def-kohitij/soroush1/pretrain-imagenet/googlenet_lalem/lightning_logs/version_3/checkpoints/epoch=185-step=65472.ckpt\"\n",
    "\n",
    "# Load the checkpoint\n",
    "checkpoint = torch.load(MODEL_WEIGHTS, map_location=torch.device(\"cpu\"))\n",
    "googlenet_model = GoogleNetRegression(num_output_features=1, checkpoint=checkpoint)"
   ]
  }
 ],
 "metadata": {
  "kernelspec": {
   "display_name": "Python 3 (ipykernel)",
   "language": "python",
   "name": "python3"
  },
  "language_info": {
   "codemirror_mode": {
    "name": "ipython",
    "version": 3
   },
   "file_extension": ".py",
   "mimetype": "text/x-python",
   "name": "python",
   "nbconvert_exporter": "python",
   "pygments_lexer": "ipython3",
   "version": "3.11.2"
  }
 },
 "nbformat": 4,
 "nbformat_minor": 5
}
