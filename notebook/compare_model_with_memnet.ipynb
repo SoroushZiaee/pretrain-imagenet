{
 "cells": [
  {
   "cell_type": "code",
   "execution_count": 1,
   "metadata": {},
   "outputs": [],
   "source": [
    "%load_ext lab_black\n",
    "%load_ext autoreload\n",
    "%autoreload 2"
   ]
  },
  {
   "cell_type": "code",
   "execution_count": 2,
   "metadata": {},
   "outputs": [],
   "source": [
    "import sys\n",
    "\n",
    "if not \"..\" in sys.path:\n",
    "    sys.path.append(\"..\")"
   ]
  },
  {
   "cell_type": "code",
   "execution_count": 3,
   "metadata": {},
   "outputs": [],
   "source": [
    "from tqdm import tqdm\n",
    "\n",
    "import torch\n",
    "from lit_modules.litmodels import LitMemNet, LitResNet50\n",
    "from lit_modules.litdatamodules.lit_lamem import LitLaMemDataModule"
   ]
  },
  {
   "cell_type": "code",
   "execution_count": 4,
   "metadata": {},
   "outputs": [],
   "source": [
    "RESNET_CHECKPOINT = \"/home/soroush1/projects/def-kohitij/soroush1/pretrain-imagenet/resnet_lalem/lightning_logs/version_0/checkpoints/epoch=499-step=88000.ckpt\"\n",
    "MEMNET_CHECKPOINT = (\n",
    "    \"https://github.com/andrewrkeyes/Memnet-Pytorch-Model/raw/master/model.ckpt\"\n",
    ")"
   ]
  },
  {
   "cell_type": "code",
   "execution_count": 5,
   "metadata": {},
   "outputs": [],
   "source": [
    "checkpoint = torch.utils.model_zoo.load_url(MEMNET_CHECKPOINT)"
   ]
  },
  {
   "cell_type": "code",
   "execution_count": 6,
   "metadata": {},
   "outputs": [
    {
     "name": "stderr",
     "output_type": "stream",
     "text": [
      "/lustre06/project/6067616/soroush1/pretrain-imagenet/.venv/lib/python3.11/site-packages/torch/cuda/__init__.py:546: UserWarning: Can't initialize NVML\n",
      "  warnings.warn(\"Can't initialize NVML\")\n"
     ]
    },
    {
     "name": "stdout",
     "output_type": "stream",
     "text": [
      "Completed\n"
     ]
    }
   ],
   "source": [
    "memnet = LitMemNet(checkpoint=checkpoint)\n",
    "resnet = LitResNet50.load_from_checkpoint(RESNET_CHECKPOINT)\n",
    "\n",
    "memnet.eval()\n",
    "resnet.eval()\n",
    "\n",
    "print(\"Completed\")"
   ]
  },
  {
   "cell_type": "code",
   "execution_count": 7,
   "metadata": {},
   "outputs": [],
   "source": [
    "root = \"/home/soroush1/projects/def-kohitij/soroush1/pretrain-imagenet/data/LaMem/lamem_images/lamem\"\n",
    "dataset = LitLaMemDataModule(root=root, batch_size=128, num_workers=3)\n",
    "dataset.setup(\"TEST\")\n",
    "\n",
    "test_loader = dataset.test_dataloader()"
   ]
  },
  {
   "cell_type": "code",
   "execution_count": null,
   "metadata": {},
   "outputs": [
    {
     "name": "stderr",
     "output_type": "stream",
     "text": [
      "1it [00:18, 18.72s/it]"
     ]
    }
   ],
   "source": [
    "criterion = torch.nn.MSELoss()\n",
    "device = torch.device(\"cuda\" if torch.cuda.is_available() else \"cpu\")\n",
    "memnet.to(device)\n",
    "resnet.to(device)\n",
    "\n",
    "losses = []\n",
    "for i, (x, y) in tqdm(enumerate(test_loader)):\n",
    "    x = x.to(device)\n",
    "    y = y.to(device)\n",
    "\n",
    "    memnet_output = memnet(x)\n",
    "    memnet_output = torch.nn.functional.sigmoid(memnet_output)\n",
    "\n",
    "    resnet_output = resnet(x)\n",
    "\n",
    "    loss = criterion(resnet_output.squeeze(), memnet_output.squeeze())\n",
    "    losses.append(loss)\n",
    "\n",
    "print(\"Completed\")"
   ]
  }
 ],
 "metadata": {
  "kernelspec": {
   "display_name": "Python 3 (ipykernel)",
   "language": "python",
   "name": "python3"
  },
  "language_info": {
   "codemirror_mode": {
    "name": "ipython",
    "version": 3
   },
   "file_extension": ".py",
   "mimetype": "text/x-python",
   "name": "python",
   "nbconvert_exporter": "python",
   "pygments_lexer": "ipython3",
   "version": "3.11.2"
  }
 },
 "nbformat": 4,
 "nbformat_minor": 4
}
