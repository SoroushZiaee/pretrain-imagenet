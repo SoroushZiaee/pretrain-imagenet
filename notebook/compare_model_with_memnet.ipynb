{
 "cells": [
  {
   "cell_type": "code",
   "execution_count": 1,
   "metadata": {},
   "outputs": [],
   "source": [
    "%load_ext lab_black\n",
    "%load_ext autoreload\n",
    "%autoreload 2"
   ]
  },
  {
   "cell_type": "code",
   "execution_count": 2,
   "metadata": {},
   "outputs": [],
   "source": [
    "import sys\n",
    "\n",
    "if not \"..\" in sys.path:\n",
    "    sys.path.append(\"..\")"
   ]
  },
  {
   "cell_type": "code",
   "execution_count": 3,
   "metadata": {},
   "outputs": [],
   "source": [
    "from tqdm import tqdm\n",
    "\n",
    "import torch\n",
    "from lit_modules.litmodels import LitMemNet, LitVGG19\n",
    "from lit_modules.litdatamodules.lit_lamem import LitLaMemDataModule"
   ]
  },
  {
   "cell_type": "code",
   "execution_count": 4,
   "metadata": {},
   "outputs": [],
   "source": [
    "RESNET_CHECKPOINT = \"/home/soroush1/projects/def-kohitij/soroush1/pretrain-imagenet/vgg19_lalem/lightning_logs/version_2/checkpoints/epoch=95-step=33792.ckpt\"\n",
    "MEMNET_CHECKPOINT = (\n",
    "    \"https://github.com/andrewrkeyes/Memnet-Pytorch-Model/raw/master/model.ckpt\"\n",
    ")"
   ]
  },
  {
   "cell_type": "code",
   "execution_count": 5,
   "metadata": {},
   "outputs": [],
   "source": [
    "checkpoint = torch.utils.model_zoo.load_url(MEMNET_CHECKPOINT)"
   ]
  },
  {
   "cell_type": "code",
   "execution_count": 6,
   "metadata": {},
   "outputs": [
    {
     "name": "stdout",
     "output_type": "stream",
     "text": [
      "Completed\n"
     ]
    }
   ],
   "source": [
    "memnet = LitMemNet(checkpoint=checkpoint)\n",
    "resnet = LitVGG19.load_from_checkpoint(RESNET_CHECKPOINT)\n",
    "\n",
    "memnet.eval()\n",
    "resnet.eval()\n",
    "\n",
    "print(\"Completed\")"
   ]
  },
  {
   "cell_type": "code",
   "execution_count": 7,
   "metadata": {},
   "outputs": [],
   "source": [
    "root = \"/home/soroush1/projects/def-kohitij/soroush1/pretrain-imagenet/data/LaMem/lamem_images/lamem\"\n",
    "dataset = LitLaMemDataModule(root=root, batch_size=64, num_workers=1)\n",
    "dataset.setup(\"TEST\")\n",
    "\n",
    "test_loader = dataset.test_dataloader()"
   ]
  },
  {
   "cell_type": "code",
   "execution_count": 8,
   "metadata": {},
   "outputs": [
    {
     "name": "stderr",
     "output_type": "stream",
     "text": [
      "100%|███████████████████████████████████████████████████████████████████████████████████████████████████████████████████████████████████████████████████| 157/157 [07:18<00:00,  2.80s/it]"
     ]
    },
    {
     "name": "stdout",
     "output_type": "stream",
     "text": [
      "Completed. Average Loss: 0.008263905870781582\n"
     ]
    },
    {
     "name": "stderr",
     "output_type": "stream",
     "text": [
      "\n"
     ]
    }
   ],
   "source": [
    "criterion = torch.nn.MSELoss()\n",
    "device = torch.device(\"cuda\" if torch.cuda.is_available() else \"cpu\")\n",
    "memnet.to(device)\n",
    "resnet.to(device)\n",
    "\n",
    "# No gradient computation needed for inference\n",
    "\n",
    "losses = []\n",
    "with torch.no_grad():\n",
    "    for x, y in tqdm(test_loader):\n",
    "        # Transfer input and target to the device\n",
    "        x = x.to(device)\n",
    "        y = y.to(\n",
    "            device\n",
    "        )  # Assuming 'y' is used for some evaluation, though not shown in this code\n",
    "\n",
    "        # Get the outputs from both models\n",
    "        memnet_output = torch.nn.functional.sigmoid(memnet(x))\n",
    "        resnet_output = resnet(x)\n",
    "\n",
    "        # Calculate the loss\n",
    "        loss = criterion(resnet_output.squeeze(), memnet_output.squeeze())\n",
    "        losses.append(loss.item())  # Store loss value\n",
    "\n",
    "# Optionally, calculate the average loss\n",
    "average_loss = sum(losses) / len(losses)\n",
    "print(f\"Completed. Average Loss: {average_loss}\")"
   ]
  },
  {
   "cell_type": "code",
   "execution_count": null,
   "metadata": {},
   "outputs": [],
   "source": [
    "import matplotlib.pyplot as plt\n",
    "\n",
    "plt.plot(losses)"
   ]
  },
  {
   "cell_type": "code",
   "execution_count": null,
   "metadata": {},
   "outputs": [],
   "source": [
    "import gc\n",
    "\n",
    "# Clear GPU cache\n",
    "if torch.cuda.is_available():\n",
    "    torch.cuda.empty_cache()\n",
    "\n",
    "# Collect garbage\n",
    "gc.collect()"
   ]
  }
 ],
 "metadata": {
  "kernelspec": {
   "display_name": "Python 3 (ipykernel)",
   "language": "python",
   "name": "python3"
  },
  "language_info": {
   "codemirror_mode": {
    "name": "ipython",
    "version": 3
   },
   "file_extension": ".py",
   "mimetype": "text/x-python",
   "name": "python",
   "nbconvert_exporter": "python",
   "pygments_lexer": "ipython3",
   "version": "3.11.2"
  }
 },
 "nbformat": 4,
 "nbformat_minor": 4
}
