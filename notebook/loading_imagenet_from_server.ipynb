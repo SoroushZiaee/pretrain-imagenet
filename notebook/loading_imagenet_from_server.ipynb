{
 "cells": [
  {
   "cell_type": "code",
   "execution_count": 2,
   "id": "a38774c8",
   "metadata": {},
   "outputs": [
    {
     "name": "stdout",
     "output_type": "stream",
     "text": [
      "The autoreload extension is already loaded. To reload it, use:\n",
      "  %reload_ext autoreload\n"
     ]
    }
   ],
   "source": [
    "%load_ext autoreload\n",
    "%autoreload 2"
   ]
  },
  {
   "cell_type": "code",
   "execution_count": 40,
   "id": "5621c654-f5ff-40ec-912b-747560b1e95c",
   "metadata": {},
   "outputs": [
    {
     "name": "stdout",
     "output_type": "stream",
     "text": [
      "ILSVRC2012_devkit_t12\t      ILSVRC2012_img_train\tILSVRC2012_img_val\n",
      "ILSVRC2012_devkit_t12.tar.gz  ILSVRC2012_img_train.tar\tILSVRC2012_img_val.tar\n"
     ]
    }
   ],
   "source": [
    "!ls ../data/ImageNet"
   ]
  },
  {
   "cell_type": "code",
   "execution_count": 39,
   "id": "0a5b7d12-c719-470b-be07-3580a0ebb78a",
   "metadata": {},
   "outputs": [
    {
     "name": "stdout",
     "output_type": "stream",
     "text": [
      "ILSVRC2012_devkit_t12\t\t\t ILSVRC2012_img_val.tar\n",
      "ILSVRC2012_devkit_t3\t\t\t ILSVRC2012.md5\n",
      "ILSVRC2012_img_test_patch_v10102019.tar  test\n",
      "ILSVRC2012_img_test_v10102019.tar\t train\n",
      "ILSVRC2012_img_train_t3.tar\t\t train_T3\n",
      "ILSVRC2012_img_train.tar\t\t validation\n"
     ]
    }
   ],
   "source": [
    "!ls /datashare/ImageNet/ILSVRC2012"
   ]
  },
  {
   "cell_type": "code",
   "execution_count": 75,
   "id": "2d6fc099-8d0c-4124-a27b-01b2aa5bb593",
   "metadata": {},
   "outputs": [
    {
     "name": "stdout",
     "output_type": "stream",
     "text": [
      "6.28GiB 0:03:36 [29.7MiB/s] [================================>] 100%            \n",
      " 137GiB 0:10:17 [ 228MiB/s] [================================>] 100%            \n"
     ]
    }
   ],
   "source": [
    "!cp -r /datashare/ImageNet/ILSVRC2012/ILSVRC2012_devkit_t12 ../data/ImageNet/\n",
    "!cp /datashare/ImageNet/ILSVRC2012/ILSVRC2012_img_train.tar ../data/ImageNet/\n",
    "!cp /datashare/ImageNet/ILSVRC2012/ILSVRC2012_img_val.tar ../data/ImageNet/\n",
    "\n",
    "!mkdir ILSVRC2012_img_train\n",
    "!mkdir ILSVRC2012_img_val\n",
    "\n",
    "!pv ../data/ImageNet/ILSVRC2012_img_val.tar | tar -xf - -C ../data/ImageNet/ILSVRC2012_img_val\n",
    "!pv ../data/ImageNet/ILSVRC2012_img_train.tar | tar -xf - -C ../data/ImageNet/ILSVRC2012_img_train"
   ]
  },
  {
   "cell_type": "code",
   "execution_count": 42,
   "id": "1ba07652-ac06-431f-b5e2-c0b2d8d4812f",
   "metadata": {},
   "outputs": [],
   "source": [
    "from scipy.io import loadmat"
   ]
  },
  {
   "cell_type": "code",
   "execution_count": 71,
   "id": "5a43311e-34f6-44cc-9d5f-aeb660151146",
   "metadata": {},
   "outputs": [],
   "source": [
    "METADATA = \"../data/ImageNet/ILSVRC2012_devkit_t12/data/meta.mat\"\n",
    "\n",
    "meta_data = loadmat(file_name=METADATA, squeeze_me=True, struct_as_record=False)"
   ]
  },
  {
   "cell_type": "code",
   "execution_count": 72,
   "id": "99650cbb-cdf8-46a8-934a-1809e9229b7e",
   "metadata": {},
   "outputs": [
    {
     "data": {
      "text/plain": [
       "1860"
      ]
     },
     "execution_count": 72,
     "metadata": {},
     "output_type": "execute_result"
    }
   ],
   "source": [
    "len(meta_data[\"synsets\"])"
   ]
  },
  {
   "cell_type": "code",
   "execution_count": 73,
   "id": "cf47e5d7-957b-4020-b208-d4e82ee08572",
   "metadata": {},
   "outputs": [],
   "source": [
    "synsets = meta_data[\"synsets\"][0]"
   ]
  },
  {
   "cell_type": "code",
   "execution_count": 74,
   "id": "ad3e2779-3ba7-4d70-92d3-18b0349eb5c3",
   "metadata": {},
   "outputs": [
    {
     "data": {
      "text/plain": [
       "'n02119789'"
      ]
     },
     "execution_count": 74,
     "metadata": {},
     "output_type": "execute_result"
    }
   ],
   "source": [
    "synsets.WNID"
   ]
  },
  {
   "cell_type": "code",
   "execution_count": 19,
   "id": "07889cb5",
   "metadata": {},
   "outputs": [
    {
     "name": "stdout",
     "output_type": "stream",
     "text": [
      "sys.path = ['', '/cvmfs/soft.computecanada.ca/custom/python/site-packages', '/cvmfs/soft.computecanada.ca/easybuild/software/2020/avx2/Core/python/3.11.5/lib/python311.zip', '/cvmfs/soft.computecanada.ca/easybuild/software/2020/avx2/Core/python/3.11.5/lib/python3.11', '/cvmfs/soft.computecanada.ca/easybuild/software/2020/avx2/Core/python/3.11.5/lib/python3.11/lib-dynload', '/home/soroush1/projects/def-kohitij/soroush1/pretrain-imagenet/.venv/lib/python3.11/site-packages', '..']\n"
     ]
    }
   ],
   "source": [
    "import os\n",
    "import sys\n",
    "\n",
    "from torchvision.datas\n",
    "\n",
    "\n",
    "if not \"..\" in sys.path:\n",
    "    sys.path.append(\"..\")\n",
    "else:\n",
    "    print(f\"{sys.path = }\")"
   ]
  },
  {
   "cell_type": "code",
   "execution_count": 23,
   "id": "f732a1c5",
   "metadata": {},
   "outputs": [
    {
     "ename": "RuntimeError",
     "evalue": "The archive ILSVRC2012_devkit_t12.tar.gz is not present in the root directory or is corrupted. You need to download it externally and place it in data/ImageNet.",
     "output_type": "error",
     "traceback": [
      "\u001b[0;31m---------------------------------------------------------------------------\u001b[0m",
      "\u001b[0;31mRuntimeError\u001b[0m                              Traceback (most recent call last)",
      "Cell \u001b[0;32mIn[23], line 6\u001b[0m\n\u001b[1;32m      3\u001b[0m TRAIN_PATH \u001b[38;5;241m=\u001b[39m os\u001b[38;5;241m.\u001b[39mpath\u001b[38;5;241m.\u001b[39mjoin(IMAGENET_PATH, \u001b[38;5;124m\"\u001b[39m\u001b[38;5;124mILSVRC2012_img_train.tar\u001b[39m\u001b[38;5;124m\"\u001b[39m)\n\u001b[1;32m      4\u001b[0m VAL_PATH \u001b[38;5;241m=\u001b[39m os\u001b[38;5;241m.\u001b[39mpath\u001b[38;5;241m.\u001b[39mjoin(IMAGENET_PATH, \u001b[38;5;124m\"\u001b[39m\u001b[38;5;124mILSVRC2012_img_val.tar\u001b[39m\u001b[38;5;124m\"\u001b[39m)\n\u001b[0;32m----> 6\u001b[0m trainset \u001b[38;5;241m=\u001b[39m \u001b[43mImageNet\u001b[49m\u001b[43m(\u001b[49m\u001b[43mroot\u001b[49m\u001b[43m \u001b[49m\u001b[38;5;241;43m=\u001b[39;49m\u001b[43m \u001b[49m\u001b[43mIMAGENET_PATH\u001b[49m\u001b[43m,\u001b[49m\u001b[43m \u001b[49m\u001b[43msplit\u001b[49m\u001b[38;5;241;43m=\u001b[39;49m\u001b[38;5;124;43m\"\u001b[39;49m\u001b[38;5;124;43mtrain\u001b[39;49m\u001b[38;5;124;43m\"\u001b[39;49m\u001b[43m)\u001b[49m\n",
      "File \u001b[0;32m~/projects/def-kohitij/soroush1/pretrain-imagenet/.venv/lib/python3.11/site-packages/torchvision/datasets/imagenet.py:46\u001b[0m, in \u001b[0;36mImageNet.__init__\u001b[0;34m(self, root, split, **kwargs)\u001b[0m\n\u001b[1;32m     43\u001b[0m root \u001b[38;5;241m=\u001b[39m \u001b[38;5;28mself\u001b[39m\u001b[38;5;241m.\u001b[39mroot \u001b[38;5;241m=\u001b[39m os\u001b[38;5;241m.\u001b[39mpath\u001b[38;5;241m.\u001b[39mexpanduser(root)\n\u001b[1;32m     44\u001b[0m \u001b[38;5;28mself\u001b[39m\u001b[38;5;241m.\u001b[39msplit \u001b[38;5;241m=\u001b[39m verify_str_arg(split, \u001b[38;5;124m\"\u001b[39m\u001b[38;5;124msplit\u001b[39m\u001b[38;5;124m\"\u001b[39m, (\u001b[38;5;124m\"\u001b[39m\u001b[38;5;124mtrain\u001b[39m\u001b[38;5;124m\"\u001b[39m, \u001b[38;5;124m\"\u001b[39m\u001b[38;5;124mval\u001b[39m\u001b[38;5;124m\"\u001b[39m))\n\u001b[0;32m---> 46\u001b[0m \u001b[38;5;28;43mself\u001b[39;49m\u001b[38;5;241;43m.\u001b[39;49m\u001b[43mparse_archives\u001b[49m\u001b[43m(\u001b[49m\u001b[43m)\u001b[49m\n\u001b[1;32m     47\u001b[0m wnid_to_classes \u001b[38;5;241m=\u001b[39m load_meta_file(\u001b[38;5;28mself\u001b[39m\u001b[38;5;241m.\u001b[39mroot)[\u001b[38;5;241m0\u001b[39m]\n\u001b[1;32m     49\u001b[0m \u001b[38;5;28msuper\u001b[39m()\u001b[38;5;241m.\u001b[39m\u001b[38;5;21m__init__\u001b[39m(\u001b[38;5;28mself\u001b[39m\u001b[38;5;241m.\u001b[39msplit_folder, \u001b[38;5;241m*\u001b[39m\u001b[38;5;241m*\u001b[39mkwargs)\n",
      "File \u001b[0;32m~/projects/def-kohitij/soroush1/pretrain-imagenet/.venv/lib/python3.11/site-packages/torchvision/datasets/imagenet.py:59\u001b[0m, in \u001b[0;36mImageNet.parse_archives\u001b[0;34m(self)\u001b[0m\n\u001b[1;32m     57\u001b[0m \u001b[38;5;28;01mdef\u001b[39;00m \u001b[38;5;21mparse_archives\u001b[39m(\u001b[38;5;28mself\u001b[39m) \u001b[38;5;241m-\u001b[39m\u001b[38;5;241m>\u001b[39m \u001b[38;5;28;01mNone\u001b[39;00m:\n\u001b[1;32m     58\u001b[0m     \u001b[38;5;28;01mif\u001b[39;00m \u001b[38;5;129;01mnot\u001b[39;00m check_integrity(os\u001b[38;5;241m.\u001b[39mpath\u001b[38;5;241m.\u001b[39mjoin(\u001b[38;5;28mself\u001b[39m\u001b[38;5;241m.\u001b[39mroot, META_FILE)):\n\u001b[0;32m---> 59\u001b[0m         \u001b[43mparse_devkit_archive\u001b[49m\u001b[43m(\u001b[49m\u001b[38;5;28;43mself\u001b[39;49m\u001b[38;5;241;43m.\u001b[39;49m\u001b[43mroot\u001b[49m\u001b[43m)\u001b[49m\n\u001b[1;32m     61\u001b[0m     \u001b[38;5;28;01mif\u001b[39;00m \u001b[38;5;129;01mnot\u001b[39;00m os\u001b[38;5;241m.\u001b[39mpath\u001b[38;5;241m.\u001b[39misdir(\u001b[38;5;28mself\u001b[39m\u001b[38;5;241m.\u001b[39msplit_folder):\n\u001b[1;32m     62\u001b[0m         \u001b[38;5;28;01mif\u001b[39;00m \u001b[38;5;28mself\u001b[39m\u001b[38;5;241m.\u001b[39msplit \u001b[38;5;241m==\u001b[39m \u001b[38;5;124m\"\u001b[39m\u001b[38;5;124mtrain\u001b[39m\u001b[38;5;124m\"\u001b[39m:\n",
      "File \u001b[0;32m~/projects/def-kohitij/soroush1/pretrain-imagenet/.venv/lib/python3.11/site-packages/torchvision/datasets/imagenet.py:140\u001b[0m, in \u001b[0;36mparse_devkit_archive\u001b[0;34m(root, file)\u001b[0m\n\u001b[1;32m    137\u001b[0m     file \u001b[38;5;241m=\u001b[39m archive_meta[\u001b[38;5;241m0\u001b[39m]\n\u001b[1;32m    138\u001b[0m md5 \u001b[38;5;241m=\u001b[39m archive_meta[\u001b[38;5;241m1\u001b[39m]\n\u001b[0;32m--> 140\u001b[0m \u001b[43m_verify_archive\u001b[49m\u001b[43m(\u001b[49m\u001b[43mroot\u001b[49m\u001b[43m,\u001b[49m\u001b[43m \u001b[49m\u001b[43mfile\u001b[49m\u001b[43m,\u001b[49m\u001b[43m \u001b[49m\u001b[43mmd5\u001b[49m\u001b[43m)\u001b[49m\n\u001b[1;32m    142\u001b[0m \u001b[38;5;28;01mwith\u001b[39;00m get_tmp_dir() \u001b[38;5;28;01mas\u001b[39;00m tmp_dir:\n\u001b[1;32m    143\u001b[0m     extract_archive(os\u001b[38;5;241m.\u001b[39mpath\u001b[38;5;241m.\u001b[39mjoin(root, file), tmp_dir)\n",
      "File \u001b[0;32m~/projects/def-kohitij/soroush1/pretrain-imagenet/.venv/lib/python3.11/site-packages/torchvision/datasets/imagenet.py:96\u001b[0m, in \u001b[0;36m_verify_archive\u001b[0;34m(root, file, md5)\u001b[0m\n\u001b[1;32m     91\u001b[0m \u001b[38;5;28;01mif\u001b[39;00m \u001b[38;5;129;01mnot\u001b[39;00m check_integrity(os\u001b[38;5;241m.\u001b[39mpath\u001b[38;5;241m.\u001b[39mjoin(root, file), md5):\n\u001b[1;32m     92\u001b[0m     msg \u001b[38;5;241m=\u001b[39m (\n\u001b[1;32m     93\u001b[0m         \u001b[38;5;124m\"\u001b[39m\u001b[38;5;124mThe archive \u001b[39m\u001b[38;5;132;01m{}\u001b[39;00m\u001b[38;5;124m is not present in the root directory or is corrupted. \u001b[39m\u001b[38;5;124m\"\u001b[39m\n\u001b[1;32m     94\u001b[0m         \u001b[38;5;124m\"\u001b[39m\u001b[38;5;124mYou need to download it externally and place it in \u001b[39m\u001b[38;5;132;01m{}\u001b[39;00m\u001b[38;5;124m.\u001b[39m\u001b[38;5;124m\"\u001b[39m\n\u001b[1;32m     95\u001b[0m     )\n\u001b[0;32m---> 96\u001b[0m     \u001b[38;5;28;01mraise\u001b[39;00m \u001b[38;5;167;01mRuntimeError\u001b[39;00m(msg\u001b[38;5;241m.\u001b[39mformat(file, root))\n",
      "\u001b[0;31mRuntimeError\u001b[0m: The archive ILSVRC2012_devkit_t12.tar.gz is not present in the root directory or is corrupted. You need to download it externally and place it in data/ImageNet."
     ]
    }
   ],
   "source": [
    "IMAGENET_PATH = os.path.join(\"data\", \"ImageNet\")\n",
    "DEVKIT_PATH = os.path.join(IMAGENET_PATH, \"ILSVRC2012_devkit_t12.tar.gz\")\n",
    "TRAIN_PATH = os.path.join(IMAGENET_PATH, \"ILSVRC2012_img_train.tar\")\n",
    "VAL_PATH = os.path.join(IMAGENET_PATH, \"ILSVRC2012_img_val.tar\")\n",
    "\n",
    "trainset = ImageNet(root = IMAGENET_PATH, split=\"train\")"
   ]
  },
  {
   "cell_type": "code",
   "execution_count": null,
   "id": "453aef4e-fc60-40d9-a6ff-f2bf9f2dcbbb",
   "metadata": {},
   "outputs": [],
   "source": []
  },
  {
   "cell_type": "code",
   "execution_count": null,
   "id": "786e671e-243b-4450-ac5e-db933311c666",
   "metadata": {},
   "outputs": [],
   "source": []
  }
 ],
 "metadata": {
  "kernelspec": {
   "display_name": "Python 3 (ipykernel)",
   "language": "python",
   "name": "python3"
  },
  "language_info": {
   "codemirror_mode": {
    "name": "ipython",
    "version": 3
   },
   "file_extension": ".py",
   "mimetype": "text/x-python",
   "name": "python",
   "nbconvert_exporter": "python",
   "pygments_lexer": "ipython3",
   "version": "3.11.5"
  }
 },
 "nbformat": 4,
 "nbformat_minor": 5
}
