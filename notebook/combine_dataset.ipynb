{
 "cells": [
  {
   "cell_type": "code",
   "execution_count": 1,
   "id": "90043c42-e5a1-42c6-99ad-74e2c81bebc6",
   "metadata": {},
   "outputs": [],
   "source": [
    "%load_ext autoreload\n",
    "%autoreload 2\n",
    "%load_ext lab_black"
   ]
  },
  {
   "cell_type": "code",
   "execution_count": 2,
   "id": "3582c60b-6e8e-4933-afdc-6ddc4043dceb",
   "metadata": {},
   "outputs": [],
   "source": [
    "import sys\n",
    "import os\n",
    "\n",
    "if not \"..\" in sys.path:\n",
    "    sys.path.append(\"..\")"
   ]
  },
  {
   "cell_type": "code",
   "execution_count": 3,
   "id": "e23051e7-9e5d-4344-b3ad-a5b2a454035d",
   "metadata": {},
   "outputs": [],
   "source": [
    "from lit_modules.litdatamodules.lit_imagenet import LitImageNetDataModule\n",
    "from lit_modules.litdatamodules.lit_lamem import LitLaMemDataModule\n",
    "\n",
    "import lightning as L\n",
    "from lightning.pytorch.utilities.types import TRAIN_DATALOADERS\n",
    "from lightning.pytorch.utilities import CombinedLoader\n",
    "from lightning.pytorch.callbacks import (\n",
    "    DeviceStatsMonitor,\n",
    "    StochasticWeightAveraging,\n",
    "    LearningRateMonitor,\n",
    ")\n",
    "\n",
    "from torchvision import transforms\n",
    "from torch.utils.data import DataLoader\n",
    "\n",
    "from typing import Dict, List\n",
    "import pandas as pd\n",
    "\n",
    "from lit_modules import LitResNet50\n",
    "from lightning import Trainer"
   ]
  },
  {
   "cell_type": "code",
   "execution_count": 4,
   "id": "2e4153b7",
   "metadata": {},
   "outputs": [],
   "source": [
    "class LitCombineDataModule(L.LightningDataModule):\n",
    "    def __init__(\n",
    "        self,\n",
    "        root_imagenet: str,\n",
    "        meta_path_imagenet: str,\n",
    "        root_lamem: str,\n",
    "        num_workers: int = 10,\n",
    "        batch_size: int = 32,\n",
    "        mode: str = \"min_size\",\n",
    "        desired_image_size: int = 224,\n",
    "    ) -> None:\n",
    "        super().__init__()\n",
    "        self.save_hyperparameters(\"batch_size\")\n",
    "        self.save_hyperparameters(\"desired_image_size\")\n",
    "        self.mode = mode\n",
    "\n",
    "        self.data_modules = {\n",
    "            \"regression\": LitLaMemDataModule(\n",
    "                root=root_lamem,\n",
    "                num_workers=num_workers,\n",
    "                batch_size=batch_size,\n",
    "                desired_image_size=desired_image_size,\n",
    "            ),\n",
    "            \"classification\": LitImageNetDataModule(\n",
    "                root=root_imagenet,\n",
    "                meta_path=meta_path_imagenet,\n",
    "                num_workers=num_workers,\n",
    "                batch_size=batch_size,\n",
    "                desired_image_size=desired_image_size,\n",
    "            ),\n",
    "        }\n",
    "\n",
    "    def setup(self, stage: str) -> None:\n",
    "\n",
    "        for key, value in self.data_modules.items():\n",
    "            value.setup(stage)\n",
    "\n",
    "    def train_dataloader(self):\n",
    "        data_loaders = {\n",
    "            \"regression\": self.data_modules[\"regression\"].train_dataloader(),\n",
    "            \"classification\": self.data_modules[\"classification\"].train_dataloader(),\n",
    "        }\n",
    "\n",
    "        return CombinedLoader(data_loaders, mode=self.mode)\n",
    "\n",
    "    def val_dataloader(self):\n",
    "        data_loaders = {\n",
    "            \"regression\": self.data_modules[\"regression\"].val_dataloader(),\n",
    "            \"classification\": self.data_modules[\"classification\"].val_dataloader(),\n",
    "        }\n",
    "\n",
    "        return CombinedLoader(data_loaders, mode=self.mode)"
   ]
  },
  {
   "cell_type": "code",
   "execution_count": 5,
   "id": "4bb011df",
   "metadata": {
    "scrolled": true
   },
   "outputs": [
    {
     "name": "stdout",
     "output_type": "stream",
     "text": [
      "dict_keys(['regression', 'classification']), batch_idx=0, dataloader_idx=0\n",
      "dict_keys(['regression', 'classification']), batch_idx=1, dataloader_idx=0\n",
      "dict_keys(['regression', 'classification']), batch_idx=2, dataloader_idx=0\n"
     ]
    },
    {
     "name": "stderr",
     "output_type": "stream",
     "text": [
      "/home/soroush1/projects/def-kohitij/soroush1/pretrain-imagenet/.venv/lib/python3.11/site-packages/lightning/fabric/plugins/environments/slurm.py:204: The `srun` command is available on your system but is not used. HINT: If your intention is to run Lightning on SLURM, prepend your python command with `srun` like so: srun python /home/soroush1/projects/def-kohitij/soroush1/pretrai ...\n",
      "GPU available: True (cuda), used: True\n",
      "TPU available: False, using: 0 TPU cores\n",
      "IPU available: False, using: 0 IPUs\n",
      "HPU available: False, using: 0 HPUs\n",
      "`Trainer(overfit_batches=1)` was configured so 1 batch will be used.\n",
      "/home/soroush1/projects/def-kohitij/soroush1/pretrain-imagenet/.venv/lib/python3.11/site-packages/lightning/fabric/plugins/environments/slurm.py:204: The `srun` command is available on your system but is not used. HINT: If your intention is to run Lightning on SLURM, prepend your python command with `srun` like so: srun python /home/soroush1/projects/def-kohitij/soroush1/pretrai ...\n",
      "2024-03-15 00:37:56.127697: I tensorflow/core/util/port.cc:111] oneDNN custom operations are on. You may see slightly different numerical results due to floating-point round-off errors from different computation orders. To turn them off, set the environment variable `TF_ENABLE_ONEDNN_OPTS=0`.\n",
      "2024-03-15 00:37:56.174667: E tensorflow/compiler/xla/stream_executor/cuda/cuda_dnn.cc:9342] Unable to register cuDNN factory: Attempting to register factory for plugin cuDNN when one has already been registered\n",
      "2024-03-15 00:37:56.174826: E tensorflow/compiler/xla/stream_executor/cuda/cuda_fft.cc:609] Unable to register cuFFT factory: Attempting to register factory for plugin cuFFT when one has already been registered\n",
      "2024-03-15 00:37:56.174910: E tensorflow/compiler/xla/stream_executor/cuda/cuda_blas.cc:1518] Unable to register cuBLAS factory: Attempting to register factory for plugin cuBLAS when one has already been registered\n",
      "2024-03-15 00:37:56.189150: I tensorflow/core/platform/cpu_feature_guard.cc:182] This TensorFlow binary is optimized to use available CPU instructions in performance-critical operations.\n",
      "To enable the following instructions: AVX2 AVX512F AVX512_VNNI FMA, in other operations, rebuild TensorFlow with the appropriate compiler flags.\n",
      "2024-03-15 00:38:02.548381: W tensorflow/compiler/tf2tensorrt/utils/py_utils.cc:38] TF-TRT Warning: Could not find TensorRT\n",
      "LOCAL_RANK: 0 - CUDA_VISIBLE_DEVICES: [0]\n",
      "\n",
      "  | Name         | Type               | Params | In sizes                 | Out sizes\n",
      "-------------------------------------------------------------------------------------------\n",
      "0 | model        | ResNet50Regression | 25.6 M | [[64, 3, 224, 224], '?'] | [64, 1]  \n",
      "  | other params | n/a                | 2      | n/a                      | n/a      \n",
      "-------------------------------------------------------------------------------------------\n",
      "25.6 M    Trainable params\n",
      "0         Non-trainable params\n",
      "25.6 M    Total params\n",
      "102.228   Total estimated model params size (MB)\n"
     ]
    },
    {
     "name": "stdout",
     "output_type": "stream",
     "text": [
      "x.size() = torch.Size([64, 1000])\n"
     ]
    },
    {
     "data": {
      "application/vnd.jupyter.widget-view+json": {
       "model_id": "",
       "version_major": 2,
       "version_minor": 0
      },
      "text/plain": [
       "Sanity Checking: |                                                                                            …"
      ]
     },
     "metadata": {},
     "output_type": "display_data"
    },
    {
     "name": "stdout",
     "output_type": "stream",
     "text": [
      "key = 'regression'\n",
      "x.size() = torch.Size([64, 1000])\n",
      "validation: output.size() = torch.Size([64, 1])\n",
      "key = 'classification'\n",
      "validation: output.size() = torch.Size([64, 1000])\n"
     ]
    },
    {
     "name": "stderr",
     "output_type": "stream",
     "text": [
      "/home/soroush1/projects/def-kohitij/soroush1/pretrain-imagenet/.venv/lib/python3.11/site-packages/lightning/pytorch/loops/fit_loop.py:298: The number of training batches (1) is smaller than the logging interval Trainer(log_every_n_steps=50). Set a lower value for log_every_n_steps if you want to see logs for the training epoch.\n"
     ]
    },
    {
     "data": {
      "application/vnd.jupyter.widget-view+json": {
       "model_id": "6d2fb3f48c914bd693d1097e63842141",
       "version_major": 2,
       "version_minor": 0
      },
      "text/plain": [
       "Training: |                                                                                                   …"
      ]
     },
     "metadata": {},
     "output_type": "display_data"
    },
    {
     "name": "stdout",
     "output_type": "stream",
     "text": [
      "x.size() = torch.Size([64, 1000])\n",
      "output.size() = torch.Size([64, 1])\n",
      "output.size() = torch.Size([64, 1000])\n"
     ]
    },
    {
     "data": {
      "application/vnd.jupyter.widget-view+json": {
       "model_id": "",
       "version_major": 2,
       "version_minor": 0
      },
      "text/plain": [
       "Validation: |                                                                                                 …"
      ]
     },
     "metadata": {},
     "output_type": "display_data"
    },
    {
     "name": "stdout",
     "output_type": "stream",
     "text": [
      "key = 'regression'\n",
      "x.size() = torch.Size([64, 1000])\n",
      "validation: output.size() = torch.Size([64, 1])\n",
      "key = 'classification'\n",
      "validation: output.size() = torch.Size([64, 1000])\n",
      "x.size() = torch.Size([64, 1000])\n",
      "output.size() = torch.Size([64, 1])\n",
      "output.size() = torch.Size([64, 1000])\n"
     ]
    },
    {
     "data": {
      "application/vnd.jupyter.widget-view+json": {
       "model_id": "",
       "version_major": 2,
       "version_minor": 0
      },
      "text/plain": [
       "Validation: |                                                                                                 …"
      ]
     },
     "metadata": {},
     "output_type": "display_data"
    },
    {
     "name": "stdout",
     "output_type": "stream",
     "text": [
      "key = 'regression'\n",
      "x.size() = torch.Size([64, 1000])\n",
      "validation: output.size() = torch.Size([64, 1])\n",
      "key = 'classification'\n",
      "validation: output.size() = torch.Size([64, 1000])\n",
      "x.size() = torch.Size([64, 1000])\n",
      "output.size() = torch.Size([64, 1])\n",
      "output.size() = torch.Size([64, 1000])\n"
     ]
    },
    {
     "data": {
      "application/vnd.jupyter.widget-view+json": {
       "model_id": "",
       "version_major": 2,
       "version_minor": 0
      },
      "text/plain": [
       "Validation: |                                                                                                 …"
      ]
     },
     "metadata": {},
     "output_type": "display_data"
    },
    {
     "name": "stdout",
     "output_type": "stream",
     "text": [
      "key = 'regression'\n",
      "x.size() = torch.Size([64, 1000])\n",
      "validation: output.size() = torch.Size([64, 1])\n",
      "key = 'classification'\n",
      "validation: output.size() = torch.Size([64, 1000])\n",
      "x.size() = torch.Size([64, 1000])\n",
      "output.size() = torch.Size([64, 1])\n",
      "output.size() = torch.Size([64, 1000])\n"
     ]
    },
    {
     "data": {
      "application/vnd.jupyter.widget-view+json": {
       "model_id": "",
       "version_major": 2,
       "version_minor": 0
      },
      "text/plain": [
       "Validation: |                                                                                                 …"
      ]
     },
     "metadata": {},
     "output_type": "display_data"
    },
    {
     "name": "stdout",
     "output_type": "stream",
     "text": [
      "key = 'regression'\n",
      "x.size() = torch.Size([64, 1000])\n",
      "validation: output.size() = torch.Size([64, 1])\n",
      "key = 'classification'\n",
      "validation: output.size() = torch.Size([64, 1000])\n",
      "x.size() = torch.Size([64, 1000])\n",
      "output.size() = torch.Size([64, 1])\n",
      "output.size() = torch.Size([64, 1000])\n"
     ]
    },
    {
     "data": {
      "application/vnd.jupyter.widget-view+json": {
       "model_id": "",
       "version_major": 2,
       "version_minor": 0
      },
      "text/plain": [
       "Validation: |                                                                                                 …"
      ]
     },
     "metadata": {},
     "output_type": "display_data"
    },
    {
     "name": "stdout",
     "output_type": "stream",
     "text": [
      "key = 'regression'\n",
      "x.size() = torch.Size([64, 1000])\n",
      "validation: output.size() = torch.Size([64, 1])\n",
      "key = 'classification'\n",
      "validation: output.size() = torch.Size([64, 1000])\n",
      "x.size() = torch.Size([64, 1000])\n",
      "output.size() = torch.Size([64, 1])\n",
      "output.size() = torch.Size([64, 1000])\n"
     ]
    },
    {
     "data": {
      "application/vnd.jupyter.widget-view+json": {
       "model_id": "",
       "version_major": 2,
       "version_minor": 0
      },
      "text/plain": [
       "Validation: |                                                                                                 …"
      ]
     },
     "metadata": {},
     "output_type": "display_data"
    },
    {
     "name": "stdout",
     "output_type": "stream",
     "text": [
      "key = 'regression'\n",
      "x.size() = torch.Size([64, 1000])\n",
      "validation: output.size() = torch.Size([64, 1])\n",
      "key = 'classification'\n",
      "validation: output.size() = torch.Size([64, 1000])\n",
      "x.size() = torch.Size([64, 1000])\n",
      "output.size() = torch.Size([64, 1])\n",
      "output.size() = torch.Size([64, 1000])\n"
     ]
    },
    {
     "data": {
      "application/vnd.jupyter.widget-view+json": {
       "model_id": "",
       "version_major": 2,
       "version_minor": 0
      },
      "text/plain": [
       "Validation: |                                                                                                 …"
      ]
     },
     "metadata": {},
     "output_type": "display_data"
    },
    {
     "name": "stdout",
     "output_type": "stream",
     "text": [
      "key = 'regression'\n",
      "x.size() = torch.Size([64, 1000])\n",
      "validation: output.size() = torch.Size([64, 1])\n",
      "key = 'classification'\n",
      "validation: output.size() = torch.Size([64, 1000])\n",
      "x.size() = torch.Size([64, 1000])\n",
      "output.size() = torch.Size([64, 1])\n",
      "output.size() = torch.Size([64, 1000])\n"
     ]
    },
    {
     "data": {
      "application/vnd.jupyter.widget-view+json": {
       "model_id": "",
       "version_major": 2,
       "version_minor": 0
      },
      "text/plain": [
       "Validation: |                                                                                                 …"
      ]
     },
     "metadata": {},
     "output_type": "display_data"
    },
    {
     "name": "stdout",
     "output_type": "stream",
     "text": [
      "key = 'regression'\n",
      "x.size() = torch.Size([64, 1000])\n",
      "validation: output.size() = torch.Size([64, 1])\n",
      "key = 'classification'\n",
      "validation: output.size() = torch.Size([64, 1000])\n",
      "x.size() = torch.Size([64, 1000])\n",
      "output.size() = torch.Size([64, 1])\n",
      "output.size() = torch.Size([64, 1000])\n"
     ]
    },
    {
     "data": {
      "application/vnd.jupyter.widget-view+json": {
       "model_id": "",
       "version_major": 2,
       "version_minor": 0
      },
      "text/plain": [
       "Validation: |                                                                                                 …"
      ]
     },
     "metadata": {},
     "output_type": "display_data"
    },
    {
     "name": "stdout",
     "output_type": "stream",
     "text": [
      "key = 'regression'\n",
      "x.size() = torch.Size([64, 1000])\n",
      "validation: output.size() = torch.Size([64, 1])\n",
      "key = 'classification'\n",
      "validation: output.size() = torch.Size([64, 1000])\n",
      "x.size() = torch.Size([64, 1000])\n",
      "output.size() = torch.Size([64, 1])\n",
      "output.size() = torch.Size([64, 1000])\n"
     ]
    },
    {
     "data": {
      "application/vnd.jupyter.widget-view+json": {
       "model_id": "",
       "version_major": 2,
       "version_minor": 0
      },
      "text/plain": [
       "Validation: |                                                                                                 …"
      ]
     },
     "metadata": {},
     "output_type": "display_data"
    },
    {
     "name": "stdout",
     "output_type": "stream",
     "text": [
      "key = 'regression'\n",
      "x.size() = torch.Size([64, 1000])\n",
      "validation: output.size() = torch.Size([64, 1])\n",
      "key = 'classification'\n",
      "validation: output.size() = torch.Size([64, 1000])\n",
      "x.size() = torch.Size([64, 1000])\n",
      "output.size() = torch.Size([64, 1])\n",
      "output.size() = torch.Size([64, 1000])\n"
     ]
    },
    {
     "data": {
      "application/vnd.jupyter.widget-view+json": {
       "model_id": "",
       "version_major": 2,
       "version_minor": 0
      },
      "text/plain": [
       "Validation: |                                                                                                 …"
      ]
     },
     "metadata": {},
     "output_type": "display_data"
    },
    {
     "name": "stdout",
     "output_type": "stream",
     "text": [
      "key = 'regression'\n",
      "x.size() = torch.Size([64, 1000])\n",
      "validation: output.size() = torch.Size([64, 1])\n",
      "key = 'classification'\n",
      "validation: output.size() = torch.Size([64, 1000])\n",
      "x.size() = torch.Size([64, 1000])\n",
      "output.size() = torch.Size([64, 1])\n",
      "output.size() = torch.Size([64, 1000])\n"
     ]
    },
    {
     "data": {
      "application/vnd.jupyter.widget-view+json": {
       "model_id": "",
       "version_major": 2,
       "version_minor": 0
      },
      "text/plain": [
       "Validation: |                                                                                                 …"
      ]
     },
     "metadata": {},
     "output_type": "display_data"
    },
    {
     "name": "stdout",
     "output_type": "stream",
     "text": [
      "key = 'regression'\n",
      "x.size() = torch.Size([64, 1000])\n",
      "validation: output.size() = torch.Size([64, 1])\n",
      "key = 'classification'\n",
      "validation: output.size() = torch.Size([64, 1000])\n",
      "x.size() = torch.Size([64, 1000])\n",
      "output.size() = torch.Size([64, 1])\n",
      "output.size() = torch.Size([64, 1000])\n"
     ]
    },
    {
     "data": {
      "application/vnd.jupyter.widget-view+json": {
       "model_id": "",
       "version_major": 2,
       "version_minor": 0
      },
      "text/plain": [
       "Validation: |                                                                                                 …"
      ]
     },
     "metadata": {},
     "output_type": "display_data"
    },
    {
     "name": "stdout",
     "output_type": "stream",
     "text": [
      "key = 'regression'\n",
      "x.size() = torch.Size([64, 1000])\n",
      "validation: output.size() = torch.Size([64, 1])\n",
      "key = 'classification'\n",
      "validation: output.size() = torch.Size([64, 1000])\n",
      "x.size() = torch.Size([64, 1000])\n",
      "output.size() = torch.Size([64, 1])\n",
      "output.size() = torch.Size([64, 1000])\n"
     ]
    },
    {
     "data": {
      "application/vnd.jupyter.widget-view+json": {
       "model_id": "",
       "version_major": 2,
       "version_minor": 0
      },
      "text/plain": [
       "Validation: |                                                                                                 …"
      ]
     },
     "metadata": {},
     "output_type": "display_data"
    },
    {
     "name": "stdout",
     "output_type": "stream",
     "text": [
      "key = 'regression'\n",
      "x.size() = torch.Size([64, 1000])\n",
      "validation: output.size() = torch.Size([64, 1])\n",
      "key = 'classification'\n",
      "validation: output.size() = torch.Size([64, 1000])\n",
      "x.size() = torch.Size([64, 1000])\n",
      "output.size() = torch.Size([64, 1])\n",
      "output.size() = torch.Size([64, 1000])\n"
     ]
    },
    {
     "data": {
      "application/vnd.jupyter.widget-view+json": {
       "model_id": "",
       "version_major": 2,
       "version_minor": 0
      },
      "text/plain": [
       "Validation: |                                                                                                 …"
      ]
     },
     "metadata": {},
     "output_type": "display_data"
    },
    {
     "name": "stdout",
     "output_type": "stream",
     "text": [
      "key = 'regression'\n",
      "x.size() = torch.Size([64, 1000])\n",
      "validation: output.size() = torch.Size([64, 1])\n",
      "key = 'classification'\n",
      "validation: output.size() = torch.Size([64, 1000])\n",
      "x.size() = torch.Size([64, 1000])\n",
      "output.size() = torch.Size([64, 1])\n",
      "output.size() = torch.Size([64, 1000])\n"
     ]
    },
    {
     "data": {
      "application/vnd.jupyter.widget-view+json": {
       "model_id": "",
       "version_major": 2,
       "version_minor": 0
      },
      "text/plain": [
       "Validation: |                                                                                                 …"
      ]
     },
     "metadata": {},
     "output_type": "display_data"
    },
    {
     "name": "stdout",
     "output_type": "stream",
     "text": [
      "key = 'regression'\n",
      "x.size() = torch.Size([64, 1000])\n",
      "validation: output.size() = torch.Size([64, 1])\n",
      "key = 'classification'\n",
      "validation: output.size() = torch.Size([64, 1000])\n",
      "x.size() = torch.Size([64, 1000])\n",
      "output.size() = torch.Size([64, 1])\n",
      "output.size() = torch.Size([64, 1000])\n"
     ]
    },
    {
     "data": {
      "application/vnd.jupyter.widget-view+json": {
       "model_id": "",
       "version_major": 2,
       "version_minor": 0
      },
      "text/plain": [
       "Validation: |                                                                                                 …"
      ]
     },
     "metadata": {},
     "output_type": "display_data"
    },
    {
     "name": "stdout",
     "output_type": "stream",
     "text": [
      "key = 'regression'\n",
      "x.size() = torch.Size([64, 1000])\n",
      "validation: output.size() = torch.Size([64, 1])\n",
      "key = 'classification'\n",
      "validation: output.size() = torch.Size([64, 1000])\n",
      "x.size() = torch.Size([64, 1000])\n",
      "output.size() = torch.Size([64, 1])\n",
      "output.size() = torch.Size([64, 1000])\n"
     ]
    },
    {
     "data": {
      "application/vnd.jupyter.widget-view+json": {
       "model_id": "",
       "version_major": 2,
       "version_minor": 0
      },
      "text/plain": [
       "Validation: |                                                                                                 …"
      ]
     },
     "metadata": {},
     "output_type": "display_data"
    },
    {
     "name": "stdout",
     "output_type": "stream",
     "text": [
      "key = 'regression'\n",
      "x.size() = torch.Size([64, 1000])\n",
      "validation: output.size() = torch.Size([64, 1])\n",
      "key = 'classification'\n",
      "validation: output.size() = torch.Size([64, 1000])\n",
      "x.size() = torch.Size([64, 1000])\n",
      "output.size() = torch.Size([64, 1])\n",
      "output.size() = torch.Size([64, 1000])\n"
     ]
    },
    {
     "data": {
      "application/vnd.jupyter.widget-view+json": {
       "model_id": "",
       "version_major": 2,
       "version_minor": 0
      },
      "text/plain": [
       "Validation: |                                                                                                 …"
      ]
     },
     "metadata": {},
     "output_type": "display_data"
    },
    {
     "name": "stdout",
     "output_type": "stream",
     "text": [
      "key = 'regression'\n",
      "x.size() = torch.Size([64, 1000])\n",
      "validation: output.size() = torch.Size([64, 1])\n",
      "key = 'classification'\n",
      "validation: output.size() = torch.Size([64, 1000])\n",
      "x.size() = torch.Size([64, 1000])\n",
      "output.size() = torch.Size([64, 1])\n",
      "output.size() = torch.Size([64, 1000])\n"
     ]
    },
    {
     "data": {
      "application/vnd.jupyter.widget-view+json": {
       "model_id": "",
       "version_major": 2,
       "version_minor": 0
      },
      "text/plain": [
       "Validation: |                                                                                                 …"
      ]
     },
     "metadata": {},
     "output_type": "display_data"
    },
    {
     "name": "stdout",
     "output_type": "stream",
     "text": [
      "key = 'regression'\n",
      "x.size() = torch.Size([64, 1000])\n",
      "validation: output.size() = torch.Size([64, 1])\n",
      "key = 'classification'\n",
      "validation: output.size() = torch.Size([64, 1000])\n",
      "x.size() = torch.Size([64, 1000])\n",
      "output.size() = torch.Size([64, 1])\n",
      "output.size() = torch.Size([64, 1000])\n"
     ]
    },
    {
     "data": {
      "application/vnd.jupyter.widget-view+json": {
       "model_id": "",
       "version_major": 2,
       "version_minor": 0
      },
      "text/plain": [
       "Validation: |                                                                                                 …"
      ]
     },
     "metadata": {},
     "output_type": "display_data"
    },
    {
     "name": "stdout",
     "output_type": "stream",
     "text": [
      "key = 'regression'\n",
      "x.size() = torch.Size([64, 1000])\n",
      "validation: output.size() = torch.Size([64, 1])\n",
      "key = 'classification'\n",
      "validation: output.size() = torch.Size([64, 1000])\n",
      "x.size() = torch.Size([64, 1000])\n",
      "output.size() = torch.Size([64, 1])\n",
      "output.size() = torch.Size([64, 1000])\n"
     ]
    },
    {
     "data": {
      "application/vnd.jupyter.widget-view+json": {
       "model_id": "",
       "version_major": 2,
       "version_minor": 0
      },
      "text/plain": [
       "Validation: |                                                                                                 …"
      ]
     },
     "metadata": {},
     "output_type": "display_data"
    },
    {
     "name": "stdout",
     "output_type": "stream",
     "text": [
      "key = 'regression'\n",
      "x.size() = torch.Size([64, 1000])\n",
      "validation: output.size() = torch.Size([64, 1])\n",
      "key = 'classification'\n",
      "validation: output.size() = torch.Size([64, 1000])\n",
      "x.size() = torch.Size([64, 1000])\n",
      "output.size() = torch.Size([64, 1])\n",
      "output.size() = torch.Size([64, 1000])\n"
     ]
    },
    {
     "data": {
      "application/vnd.jupyter.widget-view+json": {
       "model_id": "",
       "version_major": 2,
       "version_minor": 0
      },
      "text/plain": [
       "Validation: |                                                                                                 …"
      ]
     },
     "metadata": {},
     "output_type": "display_data"
    },
    {
     "name": "stdout",
     "output_type": "stream",
     "text": [
      "key = 'regression'\n",
      "x.size() = torch.Size([64, 1000])\n",
      "validation: output.size() = torch.Size([64, 1])\n",
      "key = 'classification'\n",
      "validation: output.size() = torch.Size([64, 1000])\n",
      "x.size() = torch.Size([64, 1000])\n",
      "output.size() = torch.Size([64, 1])\n",
      "output.size() = torch.Size([64, 1000])\n"
     ]
    },
    {
     "data": {
      "application/vnd.jupyter.widget-view+json": {
       "model_id": "",
       "version_major": 2,
       "version_minor": 0
      },
      "text/plain": [
       "Validation: |                                                                                                 …"
      ]
     },
     "metadata": {},
     "output_type": "display_data"
    },
    {
     "name": "stdout",
     "output_type": "stream",
     "text": [
      "key = 'regression'\n",
      "x.size() = torch.Size([64, 1000])\n",
      "validation: output.size() = torch.Size([64, 1])\n",
      "key = 'classification'\n",
      "validation: output.size() = torch.Size([64, 1000])\n",
      "x.size() = torch.Size([64, 1000])\n",
      "output.size() = torch.Size([64, 1])\n",
      "output.size() = torch.Size([64, 1000])\n"
     ]
    },
    {
     "data": {
      "application/vnd.jupyter.widget-view+json": {
       "model_id": "",
       "version_major": 2,
       "version_minor": 0
      },
      "text/plain": [
       "Validation: |                                                                                                 …"
      ]
     },
     "metadata": {},
     "output_type": "display_data"
    },
    {
     "name": "stdout",
     "output_type": "stream",
     "text": [
      "key = 'regression'\n",
      "x.size() = torch.Size([64, 1000])\n",
      "validation: output.size() = torch.Size([64, 1])\n",
      "key = 'classification'\n",
      "validation: output.size() = torch.Size([64, 1000])\n",
      "x.size() = torch.Size([64, 1000])\n",
      "output.size() = torch.Size([64, 1])\n",
      "output.size() = torch.Size([64, 1000])\n"
     ]
    },
    {
     "data": {
      "application/vnd.jupyter.widget-view+json": {
       "model_id": "",
       "version_major": 2,
       "version_minor": 0
      },
      "text/plain": [
       "Validation: |                                                                                                 …"
      ]
     },
     "metadata": {},
     "output_type": "display_data"
    },
    {
     "name": "stdout",
     "output_type": "stream",
     "text": [
      "key = 'regression'\n",
      "x.size() = torch.Size([64, 1000])\n",
      "validation: output.size() = torch.Size([64, 1])\n",
      "key = 'classification'\n",
      "validation: output.size() = torch.Size([64, 1000])\n",
      "x.size() = torch.Size([64, 1000])\n",
      "output.size() = torch.Size([64, 1])\n",
      "output.size() = torch.Size([64, 1000])\n"
     ]
    },
    {
     "data": {
      "application/vnd.jupyter.widget-view+json": {
       "model_id": "",
       "version_major": 2,
       "version_minor": 0
      },
      "text/plain": [
       "Validation: |                                                                                                 …"
      ]
     },
     "metadata": {},
     "output_type": "display_data"
    },
    {
     "name": "stdout",
     "output_type": "stream",
     "text": [
      "key = 'regression'\n",
      "x.size() = torch.Size([64, 1000])\n",
      "validation: output.size() = torch.Size([64, 1])\n",
      "key = 'classification'\n",
      "validation: output.size() = torch.Size([64, 1000])\n",
      "x.size() = torch.Size([64, 1000])\n",
      "output.size() = torch.Size([64, 1])\n",
      "output.size() = torch.Size([64, 1000])\n"
     ]
    },
    {
     "data": {
      "application/vnd.jupyter.widget-view+json": {
       "model_id": "",
       "version_major": 2,
       "version_minor": 0
      },
      "text/plain": [
       "Validation: |                                                                                                 …"
      ]
     },
     "metadata": {},
     "output_type": "display_data"
    },
    {
     "name": "stdout",
     "output_type": "stream",
     "text": [
      "key = 'regression'\n",
      "x.size() = torch.Size([64, 1000])\n",
      "validation: output.size() = torch.Size([64, 1])\n",
      "key = 'classification'\n",
      "validation: output.size() = torch.Size([64, 1000])\n",
      "x.size() = torch.Size([64, 1000])\n",
      "output.size() = torch.Size([64, 1])\n",
      "output.size() = torch.Size([64, 1000])\n"
     ]
    },
    {
     "data": {
      "application/vnd.jupyter.widget-view+json": {
       "model_id": "",
       "version_major": 2,
       "version_minor": 0
      },
      "text/plain": [
       "Validation: |                                                                                                 …"
      ]
     },
     "metadata": {},
     "output_type": "display_data"
    },
    {
     "name": "stdout",
     "output_type": "stream",
     "text": [
      "key = 'regression'\n",
      "x.size() = torch.Size([64, 1000])\n",
      "validation: output.size() = torch.Size([64, 1])\n",
      "key = 'classification'\n",
      "validation: output.size() = torch.Size([64, 1000])\n",
      "x.size() = torch.Size([64, 1000])\n",
      "output.size() = torch.Size([64, 1])\n",
      "output.size() = torch.Size([64, 1000])\n"
     ]
    },
    {
     "data": {
      "application/vnd.jupyter.widget-view+json": {
       "model_id": "",
       "version_major": 2,
       "version_minor": 0
      },
      "text/plain": [
       "Validation: |                                                                                                 …"
      ]
     },
     "metadata": {},
     "output_type": "display_data"
    },
    {
     "name": "stdout",
     "output_type": "stream",
     "text": [
      "key = 'regression'\n",
      "x.size() = torch.Size([64, 1000])\n",
      "validation: output.size() = torch.Size([64, 1])\n",
      "key = 'classification'\n",
      "validation: output.size() = torch.Size([64, 1000])\n",
      "x.size() = torch.Size([64, 1000])\n",
      "output.size() = torch.Size([64, 1])\n",
      "output.size() = torch.Size([64, 1000])\n"
     ]
    },
    {
     "data": {
      "application/vnd.jupyter.widget-view+json": {
       "model_id": "",
       "version_major": 2,
       "version_minor": 0
      },
      "text/plain": [
       "Validation: |                                                                                                 …"
      ]
     },
     "metadata": {},
     "output_type": "display_data"
    },
    {
     "name": "stdout",
     "output_type": "stream",
     "text": [
      "key = 'regression'\n",
      "x.size() = torch.Size([64, 1000])\n",
      "validation: output.size() = torch.Size([64, 1])\n",
      "key = 'classification'\n",
      "validation: output.size() = torch.Size([64, 1000])\n",
      "x.size() = torch.Size([64, 1000])\n",
      "output.size() = torch.Size([64, 1])\n",
      "output.size() = torch.Size([64, 1000])\n"
     ]
    },
    {
     "data": {
      "application/vnd.jupyter.widget-view+json": {
       "model_id": "",
       "version_major": 2,
       "version_minor": 0
      },
      "text/plain": [
       "Validation: |                                                                                                 …"
      ]
     },
     "metadata": {},
     "output_type": "display_data"
    },
    {
     "name": "stdout",
     "output_type": "stream",
     "text": [
      "key = 'regression'\n",
      "x.size() = torch.Size([64, 1000])\n",
      "validation: output.size() = torch.Size([64, 1])\n",
      "key = 'classification'\n",
      "validation: output.size() = torch.Size([64, 1000])\n",
      "x.size() = torch.Size([64, 1000])\n",
      "output.size() = torch.Size([64, 1])\n",
      "output.size() = torch.Size([64, 1000])\n"
     ]
    },
    {
     "data": {
      "application/vnd.jupyter.widget-view+json": {
       "model_id": "",
       "version_major": 2,
       "version_minor": 0
      },
      "text/plain": [
       "Validation: |                                                                                                 …"
      ]
     },
     "metadata": {},
     "output_type": "display_data"
    },
    {
     "name": "stdout",
     "output_type": "stream",
     "text": [
      "key = 'regression'\n",
      "x.size() = torch.Size([64, 1000])\n",
      "validation: output.size() = torch.Size([64, 1])\n",
      "key = 'classification'\n",
      "validation: output.size() = torch.Size([64, 1000])\n",
      "x.size() = torch.Size([64, 1000])\n",
      "output.size() = torch.Size([64, 1])\n",
      "output.size() = torch.Size([64, 1000])\n"
     ]
    },
    {
     "data": {
      "application/vnd.jupyter.widget-view+json": {
       "model_id": "",
       "version_major": 2,
       "version_minor": 0
      },
      "text/plain": [
       "Validation: |                                                                                                 …"
      ]
     },
     "metadata": {},
     "output_type": "display_data"
    },
    {
     "name": "stdout",
     "output_type": "stream",
     "text": [
      "key = 'regression'\n",
      "x.size() = torch.Size([64, 1000])\n",
      "validation: output.size() = torch.Size([64, 1])\n",
      "key = 'classification'\n",
      "validation: output.size() = torch.Size([64, 1000])\n",
      "x.size() = torch.Size([64, 1000])\n",
      "output.size() = torch.Size([64, 1])\n",
      "output.size() = torch.Size([64, 1000])\n"
     ]
    },
    {
     "data": {
      "application/vnd.jupyter.widget-view+json": {
       "model_id": "",
       "version_major": 2,
       "version_minor": 0
      },
      "text/plain": [
       "Validation: |                                                                                                 …"
      ]
     },
     "metadata": {},
     "output_type": "display_data"
    },
    {
     "name": "stdout",
     "output_type": "stream",
     "text": [
      "key = 'regression'\n",
      "x.size() = torch.Size([64, 1000])\n",
      "validation: output.size() = torch.Size([64, 1])\n",
      "key = 'classification'\n",
      "validation: output.size() = torch.Size([64, 1000])\n",
      "x.size() = torch.Size([64, 1000])\n",
      "output.size() = torch.Size([64, 1])\n",
      "output.size() = torch.Size([64, 1000])\n"
     ]
    },
    {
     "data": {
      "application/vnd.jupyter.widget-view+json": {
       "model_id": "",
       "version_major": 2,
       "version_minor": 0
      },
      "text/plain": [
       "Validation: |                                                                                                 …"
      ]
     },
     "metadata": {},
     "output_type": "display_data"
    },
    {
     "name": "stdout",
     "output_type": "stream",
     "text": [
      "key = 'regression'\n",
      "x.size() = torch.Size([64, 1000])\n",
      "validation: output.size() = torch.Size([64, 1])\n",
      "key = 'classification'\n",
      "validation: output.size() = torch.Size([64, 1000])\n",
      "x.size() = torch.Size([64, 1000])\n",
      "output.size() = torch.Size([64, 1])\n",
      "output.size() = torch.Size([64, 1000])\n"
     ]
    },
    {
     "data": {
      "application/vnd.jupyter.widget-view+json": {
       "model_id": "",
       "version_major": 2,
       "version_minor": 0
      },
      "text/plain": [
       "Validation: |                                                                                                 …"
      ]
     },
     "metadata": {},
     "output_type": "display_data"
    },
    {
     "name": "stdout",
     "output_type": "stream",
     "text": [
      "key = 'regression'\n",
      "x.size() = torch.Size([64, 1000])\n",
      "validation: output.size() = torch.Size([64, 1])\n",
      "key = 'classification'\n",
      "validation: output.size() = torch.Size([64, 1000])\n",
      "x.size() = torch.Size([64, 1000])\n",
      "output.size() = torch.Size([64, 1])\n",
      "output.size() = torch.Size([64, 1000])\n"
     ]
    },
    {
     "data": {
      "application/vnd.jupyter.widget-view+json": {
       "model_id": "",
       "version_major": 2,
       "version_minor": 0
      },
      "text/plain": [
       "Validation: |                                                                                                 …"
      ]
     },
     "metadata": {},
     "output_type": "display_data"
    },
    {
     "name": "stdout",
     "output_type": "stream",
     "text": [
      "key = 'regression'\n",
      "x.size() = torch.Size([64, 1000])\n",
      "validation: output.size() = torch.Size([64, 1])\n",
      "key = 'classification'\n",
      "validation: output.size() = torch.Size([64, 1000])\n",
      "x.size() = torch.Size([64, 1000])\n",
      "output.size() = torch.Size([64, 1])\n",
      "output.size() = torch.Size([64, 1000])\n"
     ]
    },
    {
     "data": {
      "application/vnd.jupyter.widget-view+json": {
       "model_id": "",
       "version_major": 2,
       "version_minor": 0
      },
      "text/plain": [
       "Validation: |                                                                                                 …"
      ]
     },
     "metadata": {},
     "output_type": "display_data"
    },
    {
     "name": "stdout",
     "output_type": "stream",
     "text": [
      "key = 'regression'\n",
      "x.size() = torch.Size([64, 1000])\n",
      "validation: output.size() = torch.Size([64, 1])\n",
      "key = 'classification'\n",
      "validation: output.size() = torch.Size([64, 1000])\n",
      "x.size() = torch.Size([64, 1000])\n",
      "output.size() = torch.Size([64, 1])\n",
      "output.size() = torch.Size([64, 1000])\n"
     ]
    },
    {
     "data": {
      "application/vnd.jupyter.widget-view+json": {
       "model_id": "",
       "version_major": 2,
       "version_minor": 0
      },
      "text/plain": [
       "Validation: |                                                                                                 …"
      ]
     },
     "metadata": {},
     "output_type": "display_data"
    },
    {
     "name": "stdout",
     "output_type": "stream",
     "text": [
      "key = 'regression'\n",
      "x.size() = torch.Size([64, 1000])\n",
      "validation: output.size() = torch.Size([64, 1])\n",
      "key = 'classification'\n",
      "validation: output.size() = torch.Size([64, 1000])\n",
      "x.size() = torch.Size([64, 1000])\n",
      "output.size() = torch.Size([64, 1])\n",
      "output.size() = torch.Size([64, 1000])\n"
     ]
    },
    {
     "data": {
      "application/vnd.jupyter.widget-view+json": {
       "model_id": "",
       "version_major": 2,
       "version_minor": 0
      },
      "text/plain": [
       "Validation: |                                                                                                 …"
      ]
     },
     "metadata": {},
     "output_type": "display_data"
    },
    {
     "name": "stdout",
     "output_type": "stream",
     "text": [
      "key = 'regression'\n",
      "x.size() = torch.Size([64, 1000])\n",
      "validation: output.size() = torch.Size([64, 1])\n",
      "key = 'classification'\n",
      "validation: output.size() = torch.Size([64, 1000])\n",
      "x.size() = torch.Size([64, 1000])\n",
      "output.size() = torch.Size([64, 1])\n",
      "output.size() = torch.Size([64, 1000])\n"
     ]
    },
    {
     "data": {
      "application/vnd.jupyter.widget-view+json": {
       "model_id": "",
       "version_major": 2,
       "version_minor": 0
      },
      "text/plain": [
       "Validation: |                                                                                                 …"
      ]
     },
     "metadata": {},
     "output_type": "display_data"
    },
    {
     "name": "stdout",
     "output_type": "stream",
     "text": [
      "key = 'regression'\n",
      "x.size() = torch.Size([64, 1000])\n",
      "validation: output.size() = torch.Size([64, 1])\n",
      "key = 'classification'\n",
      "validation: output.size() = torch.Size([64, 1000])\n",
      "x.size() = torch.Size([64, 1000])\n",
      "output.size() = torch.Size([64, 1])\n",
      "output.size() = torch.Size([64, 1000])\n"
     ]
    },
    {
     "data": {
      "application/vnd.jupyter.widget-view+json": {
       "model_id": "",
       "version_major": 2,
       "version_minor": 0
      },
      "text/plain": [
       "Validation: |                                                                                                 …"
      ]
     },
     "metadata": {},
     "output_type": "display_data"
    },
    {
     "name": "stdout",
     "output_type": "stream",
     "text": [
      "key = 'regression'\n",
      "x.size() = torch.Size([64, 1000])\n",
      "validation: output.size() = torch.Size([64, 1])\n",
      "key = 'classification'\n",
      "validation: output.size() = torch.Size([64, 1000])\n",
      "x.size() = torch.Size([64, 1000])\n",
      "output.size() = torch.Size([64, 1])\n",
      "output.size() = torch.Size([64, 1000])\n"
     ]
    },
    {
     "data": {
      "application/vnd.jupyter.widget-view+json": {
       "model_id": "",
       "version_major": 2,
       "version_minor": 0
      },
      "text/plain": [
       "Validation: |                                                                                                 …"
      ]
     },
     "metadata": {},
     "output_type": "display_data"
    },
    {
     "name": "stdout",
     "output_type": "stream",
     "text": [
      "key = 'regression'\n",
      "x.size() = torch.Size([64, 1000])\n",
      "validation: output.size() = torch.Size([64, 1])\n",
      "key = 'classification'\n",
      "validation: output.size() = torch.Size([64, 1000])\n",
      "x.size() = torch.Size([64, 1000])\n",
      "output.size() = torch.Size([64, 1])\n",
      "output.size() = torch.Size([64, 1000])\n"
     ]
    },
    {
     "data": {
      "application/vnd.jupyter.widget-view+json": {
       "model_id": "",
       "version_major": 2,
       "version_minor": 0
      },
      "text/plain": [
       "Validation: |                                                                                                 …"
      ]
     },
     "metadata": {},
     "output_type": "display_data"
    },
    {
     "name": "stdout",
     "output_type": "stream",
     "text": [
      "key = 'regression'\n",
      "x.size() = torch.Size([64, 1000])\n",
      "validation: output.size() = torch.Size([64, 1])\n",
      "key = 'classification'\n",
      "validation: output.size() = torch.Size([64, 1000])\n",
      "x.size() = torch.Size([64, 1000])\n",
      "output.size() = torch.Size([64, 1])\n",
      "output.size() = torch.Size([64, 1000])\n"
     ]
    },
    {
     "data": {
      "application/vnd.jupyter.widget-view+json": {
       "model_id": "",
       "version_major": 2,
       "version_minor": 0
      },
      "text/plain": [
       "Validation: |                                                                                                 …"
      ]
     },
     "metadata": {},
     "output_type": "display_data"
    },
    {
     "name": "stdout",
     "output_type": "stream",
     "text": [
      "key = 'regression'\n",
      "x.size() = torch.Size([64, 1000])\n",
      "validation: output.size() = torch.Size([64, 1])\n",
      "key = 'classification'\n",
      "validation: output.size() = torch.Size([64, 1000])\n",
      "x.size() = torch.Size([64, 1000])\n",
      "output.size() = torch.Size([64, 1])\n",
      "output.size() = torch.Size([64, 1000])\n"
     ]
    },
    {
     "data": {
      "application/vnd.jupyter.widget-view+json": {
       "model_id": "",
       "version_major": 2,
       "version_minor": 0
      },
      "text/plain": [
       "Validation: |                                                                                                 …"
      ]
     },
     "metadata": {},
     "output_type": "display_data"
    },
    {
     "name": "stdout",
     "output_type": "stream",
     "text": [
      "key = 'regression'\n",
      "x.size() = torch.Size([64, 1000])\n",
      "validation: output.size() = torch.Size([64, 1])\n",
      "key = 'classification'\n",
      "validation: output.size() = torch.Size([64, 1000])\n",
      "x.size() = torch.Size([64, 1000])\n",
      "output.size() = torch.Size([64, 1])\n",
      "output.size() = torch.Size([64, 1000])\n"
     ]
    },
    {
     "data": {
      "application/vnd.jupyter.widget-view+json": {
       "model_id": "",
       "version_major": 2,
       "version_minor": 0
      },
      "text/plain": [
       "Validation: |                                                                                                 …"
      ]
     },
     "metadata": {},
     "output_type": "display_data"
    },
    {
     "name": "stdout",
     "output_type": "stream",
     "text": [
      "key = 'regression'\n",
      "x.size() = torch.Size([64, 1000])\n",
      "validation: output.size() = torch.Size([64, 1])\n",
      "key = 'classification'\n",
      "validation: output.size() = torch.Size([64, 1000])\n",
      "x.size() = torch.Size([64, 1000])\n",
      "output.size() = torch.Size([64, 1])\n",
      "output.size() = torch.Size([64, 1000])\n"
     ]
    },
    {
     "data": {
      "application/vnd.jupyter.widget-view+json": {
       "model_id": "",
       "version_major": 2,
       "version_minor": 0
      },
      "text/plain": [
       "Validation: |                                                                                                 …"
      ]
     },
     "metadata": {},
     "output_type": "display_data"
    },
    {
     "name": "stdout",
     "output_type": "stream",
     "text": [
      "key = 'regression'\n",
      "x.size() = torch.Size([64, 1000])\n",
      "validation: output.size() = torch.Size([64, 1])\n",
      "key = 'classification'\n",
      "validation: output.size() = torch.Size([64, 1000])\n",
      "x.size() = torch.Size([64, 1000])\n",
      "output.size() = torch.Size([64, 1])\n",
      "output.size() = torch.Size([64, 1000])\n"
     ]
    },
    {
     "data": {
      "application/vnd.jupyter.widget-view+json": {
       "model_id": "",
       "version_major": 2,
       "version_minor": 0
      },
      "text/plain": [
       "Validation: |                                                                                                 …"
      ]
     },
     "metadata": {},
     "output_type": "display_data"
    },
    {
     "name": "stdout",
     "output_type": "stream",
     "text": [
      "key = 'regression'\n",
      "x.size() = torch.Size([64, 1000])\n",
      "validation: output.size() = torch.Size([64, 1])\n",
      "key = 'classification'\n",
      "validation: output.size() = torch.Size([64, 1000])\n",
      "x.size() = torch.Size([64, 1000])\n",
      "output.size() = torch.Size([64, 1])\n",
      "output.size() = torch.Size([64, 1000])\n"
     ]
    },
    {
     "data": {
      "application/vnd.jupyter.widget-view+json": {
       "model_id": "",
       "version_major": 2,
       "version_minor": 0
      },
      "text/plain": [
       "Validation: |                                                                                                 …"
      ]
     },
     "metadata": {},
     "output_type": "display_data"
    },
    {
     "name": "stdout",
     "output_type": "stream",
     "text": [
      "key = 'regression'\n",
      "x.size() = torch.Size([64, 1000])\n",
      "validation: output.size() = torch.Size([64, 1])\n",
      "key = 'classification'\n",
      "validation: output.size() = torch.Size([64, 1000])\n",
      "x.size() = torch.Size([64, 1000])\n",
      "output.size() = torch.Size([64, 1])\n",
      "output.size() = torch.Size([64, 1000])\n"
     ]
    },
    {
     "data": {
      "application/vnd.jupyter.widget-view+json": {
       "model_id": "",
       "version_major": 2,
       "version_minor": 0
      },
      "text/plain": [
       "Validation: |                                                                                                 …"
      ]
     },
     "metadata": {},
     "output_type": "display_data"
    },
    {
     "name": "stdout",
     "output_type": "stream",
     "text": [
      "key = 'regression'\n",
      "x.size() = torch.Size([64, 1000])\n",
      "validation: output.size() = torch.Size([64, 1])\n",
      "key = 'classification'\n",
      "validation: output.size() = torch.Size([64, 1000])\n",
      "x.size() = torch.Size([64, 1000])\n",
      "output.size() = torch.Size([64, 1])\n",
      "output.size() = torch.Size([64, 1000])\n"
     ]
    },
    {
     "data": {
      "application/vnd.jupyter.widget-view+json": {
       "model_id": "",
       "version_major": 2,
       "version_minor": 0
      },
      "text/plain": [
       "Validation: |                                                                                                 …"
      ]
     },
     "metadata": {},
     "output_type": "display_data"
    },
    {
     "name": "stdout",
     "output_type": "stream",
     "text": [
      "key = 'regression'\n",
      "x.size() = torch.Size([64, 1000])\n",
      "validation: output.size() = torch.Size([64, 1])\n",
      "key = 'classification'\n",
      "validation: output.size() = torch.Size([64, 1000])\n",
      "x.size() = torch.Size([64, 1000])\n",
      "output.size() = torch.Size([64, 1])\n",
      "output.size() = torch.Size([64, 1000])\n"
     ]
    },
    {
     "data": {
      "application/vnd.jupyter.widget-view+json": {
       "model_id": "",
       "version_major": 2,
       "version_minor": 0
      },
      "text/plain": [
       "Validation: |                                                                                                 …"
      ]
     },
     "metadata": {},
     "output_type": "display_data"
    },
    {
     "name": "stdout",
     "output_type": "stream",
     "text": [
      "key = 'regression'\n",
      "x.size() = torch.Size([64, 1000])\n",
      "validation: output.size() = torch.Size([64, 1])\n",
      "key = 'classification'\n",
      "validation: output.size() = torch.Size([64, 1000])\n",
      "x.size() = torch.Size([64, 1000])\n",
      "output.size() = torch.Size([64, 1])\n",
      "output.size() = torch.Size([64, 1000])\n"
     ]
    },
    {
     "data": {
      "application/vnd.jupyter.widget-view+json": {
       "model_id": "",
       "version_major": 2,
       "version_minor": 0
      },
      "text/plain": [
       "Validation: |                                                                                                 …"
      ]
     },
     "metadata": {},
     "output_type": "display_data"
    },
    {
     "name": "stdout",
     "output_type": "stream",
     "text": [
      "key = 'regression'\n",
      "x.size() = torch.Size([64, 1000])\n",
      "validation: output.size() = torch.Size([64, 1])\n",
      "key = 'classification'\n",
      "validation: output.size() = torch.Size([64, 1000])\n",
      "x.size() = torch.Size([64, 1000])\n",
      "output.size() = torch.Size([64, 1])\n",
      "output.size() = torch.Size([64, 1000])\n"
     ]
    },
    {
     "data": {
      "application/vnd.jupyter.widget-view+json": {
       "model_id": "",
       "version_major": 2,
       "version_minor": 0
      },
      "text/plain": [
       "Validation: |                                                                                                 …"
      ]
     },
     "metadata": {},
     "output_type": "display_data"
    },
    {
     "name": "stdout",
     "output_type": "stream",
     "text": [
      "key = 'regression'\n",
      "x.size() = torch.Size([64, 1000])\n",
      "validation: output.size() = torch.Size([64, 1])\n",
      "key = 'classification'\n",
      "validation: output.size() = torch.Size([64, 1000])\n",
      "x.size() = torch.Size([64, 1000])\n",
      "output.size() = torch.Size([64, 1])\n",
      "output.size() = torch.Size([64, 1000])\n"
     ]
    },
    {
     "data": {
      "application/vnd.jupyter.widget-view+json": {
       "model_id": "",
       "version_major": 2,
       "version_minor": 0
      },
      "text/plain": [
       "Validation: |                                                                                                 …"
      ]
     },
     "metadata": {},
     "output_type": "display_data"
    },
    {
     "name": "stdout",
     "output_type": "stream",
     "text": [
      "key = 'regression'\n",
      "x.size() = torch.Size([64, 1000])\n",
      "validation: output.size() = torch.Size([64, 1])\n",
      "key = 'classification'\n",
      "validation: output.size() = torch.Size([64, 1000])\n",
      "x.size() = torch.Size([64, 1000])\n",
      "output.size() = torch.Size([64, 1])\n",
      "output.size() = torch.Size([64, 1000])\n"
     ]
    },
    {
     "data": {
      "application/vnd.jupyter.widget-view+json": {
       "model_id": "",
       "version_major": 2,
       "version_minor": 0
      },
      "text/plain": [
       "Validation: |                                                                                                 …"
      ]
     },
     "metadata": {},
     "output_type": "display_data"
    },
    {
     "name": "stdout",
     "output_type": "stream",
     "text": [
      "key = 'regression'\n",
      "x.size() = torch.Size([64, 1000])\n",
      "validation: output.size() = torch.Size([64, 1])\n",
      "key = 'classification'\n",
      "validation: output.size() = torch.Size([64, 1000])\n",
      "x.size() = torch.Size([64, 1000])\n",
      "output.size() = torch.Size([64, 1])\n",
      "output.size() = torch.Size([64, 1000])\n"
     ]
    },
    {
     "data": {
      "application/vnd.jupyter.widget-view+json": {
       "model_id": "",
       "version_major": 2,
       "version_minor": 0
      },
      "text/plain": [
       "Validation: |                                                                                                 …"
      ]
     },
     "metadata": {},
     "output_type": "display_data"
    },
    {
     "name": "stdout",
     "output_type": "stream",
     "text": [
      "key = 'regression'\n",
      "x.size() = torch.Size([64, 1000])\n",
      "validation: output.size() = torch.Size([64, 1])\n",
      "key = 'classification'\n",
      "validation: output.size() = torch.Size([64, 1000])\n",
      "x.size() = torch.Size([64, 1000])\n",
      "output.size() = torch.Size([64, 1])\n",
      "output.size() = torch.Size([64, 1000])\n"
     ]
    },
    {
     "data": {
      "application/vnd.jupyter.widget-view+json": {
       "model_id": "",
       "version_major": 2,
       "version_minor": 0
      },
      "text/plain": [
       "Validation: |                                                                                                 …"
      ]
     },
     "metadata": {},
     "output_type": "display_data"
    },
    {
     "name": "stdout",
     "output_type": "stream",
     "text": [
      "key = 'regression'\n",
      "x.size() = torch.Size([64, 1000])\n",
      "validation: output.size() = torch.Size([64, 1])\n",
      "key = 'classification'\n",
      "validation: output.size() = torch.Size([64, 1000])\n",
      "x.size() = torch.Size([64, 1000])\n",
      "output.size() = torch.Size([64, 1])\n",
      "output.size() = torch.Size([64, 1000])\n"
     ]
    },
    {
     "data": {
      "application/vnd.jupyter.widget-view+json": {
       "model_id": "",
       "version_major": 2,
       "version_minor": 0
      },
      "text/plain": [
       "Validation: |                                                                                                 …"
      ]
     },
     "metadata": {},
     "output_type": "display_data"
    },
    {
     "name": "stdout",
     "output_type": "stream",
     "text": [
      "key = 'regression'\n",
      "x.size() = torch.Size([64, 1000])\n",
      "validation: output.size() = torch.Size([64, 1])\n",
      "key = 'classification'\n",
      "validation: output.size() = torch.Size([64, 1000])\n",
      "x.size() = torch.Size([64, 1000])\n",
      "output.size() = torch.Size([64, 1])\n",
      "output.size() = torch.Size([64, 1000])\n"
     ]
    },
    {
     "data": {
      "application/vnd.jupyter.widget-view+json": {
       "model_id": "",
       "version_major": 2,
       "version_minor": 0
      },
      "text/plain": [
       "Validation: |                                                                                                 …"
      ]
     },
     "metadata": {},
     "output_type": "display_data"
    },
    {
     "name": "stdout",
     "output_type": "stream",
     "text": [
      "key = 'regression'\n",
      "x.size() = torch.Size([64, 1000])\n",
      "validation: output.size() = torch.Size([64, 1])\n",
      "key = 'classification'\n",
      "validation: output.size() = torch.Size([64, 1000])\n",
      "x.size() = torch.Size([64, 1000])\n",
      "output.size() = torch.Size([64, 1])\n",
      "output.size() = torch.Size([64, 1000])\n"
     ]
    },
    {
     "data": {
      "application/vnd.jupyter.widget-view+json": {
       "model_id": "",
       "version_major": 2,
       "version_minor": 0
      },
      "text/plain": [
       "Validation: |                                                                                                 …"
      ]
     },
     "metadata": {},
     "output_type": "display_data"
    },
    {
     "name": "stdout",
     "output_type": "stream",
     "text": [
      "key = 'regression'\n",
      "x.size() = torch.Size([64, 1000])\n",
      "validation: output.size() = torch.Size([64, 1])\n",
      "key = 'classification'\n",
      "validation: output.size() = torch.Size([64, 1000])\n",
      "x.size() = torch.Size([64, 1000])\n",
      "output.size() = torch.Size([64, 1])\n",
      "output.size() = torch.Size([64, 1000])\n"
     ]
    },
    {
     "data": {
      "application/vnd.jupyter.widget-view+json": {
       "model_id": "",
       "version_major": 2,
       "version_minor": 0
      },
      "text/plain": [
       "Validation: |                                                                                                 …"
      ]
     },
     "metadata": {},
     "output_type": "display_data"
    },
    {
     "name": "stdout",
     "output_type": "stream",
     "text": [
      "key = 'regression'\n",
      "x.size() = torch.Size([64, 1000])\n",
      "validation: output.size() = torch.Size([64, 1])\n",
      "key = 'classification'\n",
      "validation: output.size() = torch.Size([64, 1000])\n",
      "x.size() = torch.Size([64, 1000])\n",
      "output.size() = torch.Size([64, 1])\n",
      "output.size() = torch.Size([64, 1000])\n"
     ]
    },
    {
     "data": {
      "application/vnd.jupyter.widget-view+json": {
       "model_id": "",
       "version_major": 2,
       "version_minor": 0
      },
      "text/plain": [
       "Validation: |                                                                                                 …"
      ]
     },
     "metadata": {},
     "output_type": "display_data"
    },
    {
     "name": "stdout",
     "output_type": "stream",
     "text": [
      "key = 'regression'\n",
      "x.size() = torch.Size([64, 1000])\n",
      "validation: output.size() = torch.Size([64, 1])\n",
      "key = 'classification'\n",
      "validation: output.size() = torch.Size([64, 1000])\n",
      "x.size() = torch.Size([64, 1000])\n",
      "output.size() = torch.Size([64, 1])\n",
      "output.size() = torch.Size([64, 1000])\n"
     ]
    },
    {
     "data": {
      "application/vnd.jupyter.widget-view+json": {
       "model_id": "",
       "version_major": 2,
       "version_minor": 0
      },
      "text/plain": [
       "Validation: |                                                                                                 …"
      ]
     },
     "metadata": {},
     "output_type": "display_data"
    },
    {
     "name": "stdout",
     "output_type": "stream",
     "text": [
      "key = 'regression'\n",
      "x.size() = torch.Size([64, 1000])\n",
      "validation: output.size() = torch.Size([64, 1])\n",
      "key = 'classification'\n",
      "validation: output.size() = torch.Size([64, 1000])\n",
      "x.size() = torch.Size([64, 1000])\n",
      "output.size() = torch.Size([64, 1])\n",
      "output.size() = torch.Size([64, 1000])\n"
     ]
    },
    {
     "data": {
      "application/vnd.jupyter.widget-view+json": {
       "model_id": "",
       "version_major": 2,
       "version_minor": 0
      },
      "text/plain": [
       "Validation: |                                                                                                 …"
      ]
     },
     "metadata": {},
     "output_type": "display_data"
    },
    {
     "name": "stdout",
     "output_type": "stream",
     "text": [
      "key = 'regression'\n",
      "x.size() = torch.Size([64, 1000])\n",
      "validation: output.size() = torch.Size([64, 1])\n",
      "key = 'classification'\n",
      "validation: output.size() = torch.Size([64, 1000])\n",
      "x.size() = torch.Size([64, 1000])\n",
      "output.size() = torch.Size([64, 1])\n",
      "output.size() = torch.Size([64, 1000])\n"
     ]
    },
    {
     "data": {
      "application/vnd.jupyter.widget-view+json": {
       "model_id": "",
       "version_major": 2,
       "version_minor": 0
      },
      "text/plain": [
       "Validation: |                                                                                                 …"
      ]
     },
     "metadata": {},
     "output_type": "display_data"
    },
    {
     "name": "stdout",
     "output_type": "stream",
     "text": [
      "key = 'regression'\n",
      "x.size() = torch.Size([64, 1000])\n",
      "validation: output.size() = torch.Size([64, 1])\n",
      "key = 'classification'\n",
      "validation: output.size() = torch.Size([64, 1000])\n",
      "x.size() = torch.Size([64, 1000])\n",
      "output.size() = torch.Size([64, 1])\n",
      "output.size() = torch.Size([64, 1000])\n"
     ]
    },
    {
     "data": {
      "application/vnd.jupyter.widget-view+json": {
       "model_id": "",
       "version_major": 2,
       "version_minor": 0
      },
      "text/plain": [
       "Validation: |                                                                                                 …"
      ]
     },
     "metadata": {},
     "output_type": "display_data"
    },
    {
     "name": "stdout",
     "output_type": "stream",
     "text": [
      "key = 'regression'\n",
      "x.size() = torch.Size([64, 1000])\n",
      "validation: output.size() = torch.Size([64, 1])\n",
      "key = 'classification'\n",
      "validation: output.size() = torch.Size([64, 1000])\n",
      "x.size() = torch.Size([64, 1000])\n",
      "output.size() = torch.Size([64, 1])\n",
      "output.size() = torch.Size([64, 1000])\n"
     ]
    },
    {
     "data": {
      "application/vnd.jupyter.widget-view+json": {
       "model_id": "",
       "version_major": 2,
       "version_minor": 0
      },
      "text/plain": [
       "Validation: |                                                                                                 …"
      ]
     },
     "metadata": {},
     "output_type": "display_data"
    },
    {
     "name": "stdout",
     "output_type": "stream",
     "text": [
      "key = 'regression'\n",
      "x.size() = torch.Size([64, 1000])\n",
      "validation: output.size() = torch.Size([64, 1])\n",
      "key = 'classification'\n",
      "validation: output.size() = torch.Size([64, 1000])\n",
      "x.size() = torch.Size([64, 1000])\n",
      "output.size() = torch.Size([64, 1])\n",
      "output.size() = torch.Size([64, 1000])\n"
     ]
    },
    {
     "data": {
      "application/vnd.jupyter.widget-view+json": {
       "model_id": "",
       "version_major": 2,
       "version_minor": 0
      },
      "text/plain": [
       "Validation: |                                                                                                 …"
      ]
     },
     "metadata": {},
     "output_type": "display_data"
    },
    {
     "name": "stdout",
     "output_type": "stream",
     "text": [
      "key = 'regression'\n",
      "x.size() = torch.Size([64, 1000])\n",
      "validation: output.size() = torch.Size([64, 1])\n",
      "key = 'classification'\n",
      "validation: output.size() = torch.Size([64, 1000])\n",
      "x.size() = torch.Size([64, 1000])\n",
      "output.size() = torch.Size([64, 1])\n",
      "output.size() = torch.Size([64, 1000])\n"
     ]
    },
    {
     "data": {
      "application/vnd.jupyter.widget-view+json": {
       "model_id": "",
       "version_major": 2,
       "version_minor": 0
      },
      "text/plain": [
       "Validation: |                                                                                                 …"
      ]
     },
     "metadata": {},
     "output_type": "display_data"
    },
    {
     "name": "stdout",
     "output_type": "stream",
     "text": [
      "key = 'regression'\n",
      "x.size() = torch.Size([64, 1000])\n",
      "validation: output.size() = torch.Size([64, 1])\n",
      "key = 'classification'\n",
      "validation: output.size() = torch.Size([64, 1000])\n",
      "x.size() = torch.Size([64, 1000])\n",
      "output.size() = torch.Size([64, 1])\n",
      "output.size() = torch.Size([64, 1000])\n"
     ]
    },
    {
     "data": {
      "application/vnd.jupyter.widget-view+json": {
       "model_id": "",
       "version_major": 2,
       "version_minor": 0
      },
      "text/plain": [
       "Validation: |                                                                                                 …"
      ]
     },
     "metadata": {},
     "output_type": "display_data"
    },
    {
     "name": "stdout",
     "output_type": "stream",
     "text": [
      "key = 'regression'\n",
      "x.size() = torch.Size([64, 1000])\n",
      "validation: output.size() = torch.Size([64, 1])\n",
      "key = 'classification'\n",
      "validation: output.size() = torch.Size([64, 1000])\n",
      "x.size() = torch.Size([64, 1000])\n",
      "output.size() = torch.Size([64, 1])\n",
      "output.size() = torch.Size([64, 1000])\n"
     ]
    },
    {
     "data": {
      "application/vnd.jupyter.widget-view+json": {
       "model_id": "",
       "version_major": 2,
       "version_minor": 0
      },
      "text/plain": [
       "Validation: |                                                                                                 …"
      ]
     },
     "metadata": {},
     "output_type": "display_data"
    },
    {
     "name": "stdout",
     "output_type": "stream",
     "text": [
      "key = 'regression'\n",
      "x.size() = torch.Size([64, 1000])\n",
      "validation: output.size() = torch.Size([64, 1])\n",
      "key = 'classification'\n",
      "validation: output.size() = torch.Size([64, 1000])\n",
      "x.size() = torch.Size([64, 1000])\n",
      "output.size() = torch.Size([64, 1])\n",
      "output.size() = torch.Size([64, 1000])\n"
     ]
    },
    {
     "data": {
      "application/vnd.jupyter.widget-view+json": {
       "model_id": "",
       "version_major": 2,
       "version_minor": 0
      },
      "text/plain": [
       "Validation: |                                                                                                 …"
      ]
     },
     "metadata": {},
     "output_type": "display_data"
    },
    {
     "name": "stdout",
     "output_type": "stream",
     "text": [
      "key = 'regression'\n",
      "x.size() = torch.Size([64, 1000])\n",
      "validation: output.size() = torch.Size([64, 1])\n",
      "key = 'classification'\n",
      "validation: output.size() = torch.Size([64, 1000])\n",
      "x.size() = torch.Size([64, 1000])\n",
      "output.size() = torch.Size([64, 1])\n",
      "output.size() = torch.Size([64, 1000])\n"
     ]
    },
    {
     "data": {
      "application/vnd.jupyter.widget-view+json": {
       "model_id": "",
       "version_major": 2,
       "version_minor": 0
      },
      "text/plain": [
       "Validation: |                                                                                                 …"
      ]
     },
     "metadata": {},
     "output_type": "display_data"
    },
    {
     "name": "stdout",
     "output_type": "stream",
     "text": [
      "key = 'regression'\n",
      "x.size() = torch.Size([64, 1000])\n",
      "validation: output.size() = torch.Size([64, 1])\n",
      "key = 'classification'\n",
      "validation: output.size() = torch.Size([64, 1000])\n",
      "x.size() = torch.Size([64, 1000])\n",
      "output.size() = torch.Size([64, 1])\n",
      "output.size() = torch.Size([64, 1000])\n"
     ]
    },
    {
     "data": {
      "application/vnd.jupyter.widget-view+json": {
       "model_id": "",
       "version_major": 2,
       "version_minor": 0
      },
      "text/plain": [
       "Validation: |                                                                                                 …"
      ]
     },
     "metadata": {},
     "output_type": "display_data"
    },
    {
     "name": "stdout",
     "output_type": "stream",
     "text": [
      "key = 'regression'\n",
      "x.size() = torch.Size([64, 1000])\n",
      "validation: output.size() = torch.Size([64, 1])\n",
      "key = 'classification'\n",
      "validation: output.size() = torch.Size([64, 1000])\n",
      "x.size() = torch.Size([64, 1000])\n",
      "output.size() = torch.Size([64, 1])\n",
      "output.size() = torch.Size([64, 1000])\n"
     ]
    },
    {
     "data": {
      "application/vnd.jupyter.widget-view+json": {
       "model_id": "",
       "version_major": 2,
       "version_minor": 0
      },
      "text/plain": [
       "Validation: |                                                                                                 …"
      ]
     },
     "metadata": {},
     "output_type": "display_data"
    },
    {
     "name": "stdout",
     "output_type": "stream",
     "text": [
      "key = 'regression'\n",
      "x.size() = torch.Size([64, 1000])\n",
      "validation: output.size() = torch.Size([64, 1])\n",
      "key = 'classification'\n",
      "validation: output.size() = torch.Size([64, 1000])\n",
      "x.size() = torch.Size([64, 1000])\n",
      "output.size() = torch.Size([64, 1])\n",
      "output.size() = torch.Size([64, 1000])\n"
     ]
    },
    {
     "data": {
      "application/vnd.jupyter.widget-view+json": {
       "model_id": "",
       "version_major": 2,
       "version_minor": 0
      },
      "text/plain": [
       "Validation: |                                                                                                 …"
      ]
     },
     "metadata": {},
     "output_type": "display_data"
    },
    {
     "name": "stdout",
     "output_type": "stream",
     "text": [
      "key = 'regression'\n",
      "x.size() = torch.Size([64, 1000])\n",
      "validation: output.size() = torch.Size([64, 1])\n",
      "key = 'classification'\n",
      "validation: output.size() = torch.Size([64, 1000])\n",
      "x.size() = torch.Size([64, 1000])\n",
      "output.size() = torch.Size([64, 1])\n",
      "output.size() = torch.Size([64, 1000])\n"
     ]
    },
    {
     "data": {
      "application/vnd.jupyter.widget-view+json": {
       "model_id": "",
       "version_major": 2,
       "version_minor": 0
      },
      "text/plain": [
       "Validation: |                                                                                                 …"
      ]
     },
     "metadata": {},
     "output_type": "display_data"
    },
    {
     "name": "stdout",
     "output_type": "stream",
     "text": [
      "key = 'regression'\n",
      "x.size() = torch.Size([64, 1000])\n",
      "validation: output.size() = torch.Size([64, 1])\n",
      "key = 'classification'\n",
      "validation: output.size() = torch.Size([64, 1000])\n",
      "x.size() = torch.Size([64, 1000])\n",
      "output.size() = torch.Size([64, 1])\n",
      "output.size() = torch.Size([64, 1000])\n"
     ]
    },
    {
     "data": {
      "application/vnd.jupyter.widget-view+json": {
       "model_id": "",
       "version_major": 2,
       "version_minor": 0
      },
      "text/plain": [
       "Validation: |                                                                                                 …"
      ]
     },
     "metadata": {},
     "output_type": "display_data"
    },
    {
     "name": "stdout",
     "output_type": "stream",
     "text": [
      "key = 'regression'\n",
      "x.size() = torch.Size([64, 1000])\n",
      "validation: output.size() = torch.Size([64, 1])\n",
      "key = 'classification'\n",
      "validation: output.size() = torch.Size([64, 1000])\n",
      "x.size() = torch.Size([64, 1000])\n",
      "output.size() = torch.Size([64, 1])\n",
      "output.size() = torch.Size([64, 1000])\n"
     ]
    },
    {
     "data": {
      "application/vnd.jupyter.widget-view+json": {
       "model_id": "",
       "version_major": 2,
       "version_minor": 0
      },
      "text/plain": [
       "Validation: |                                                                                                 …"
      ]
     },
     "metadata": {},
     "output_type": "display_data"
    },
    {
     "name": "stdout",
     "output_type": "stream",
     "text": [
      "key = 'regression'\n",
      "x.size() = torch.Size([64, 1000])\n",
      "validation: output.size() = torch.Size([64, 1])\n",
      "key = 'classification'\n",
      "validation: output.size() = torch.Size([64, 1000])\n",
      "x.size() = torch.Size([64, 1000])\n",
      "output.size() = torch.Size([64, 1])\n",
      "output.size() = torch.Size([64, 1000])\n"
     ]
    },
    {
     "data": {
      "application/vnd.jupyter.widget-view+json": {
       "model_id": "",
       "version_major": 2,
       "version_minor": 0
      },
      "text/plain": [
       "Validation: |                                                                                                 …"
      ]
     },
     "metadata": {},
     "output_type": "display_data"
    },
    {
     "name": "stdout",
     "output_type": "stream",
     "text": [
      "key = 'regression'\n",
      "x.size() = torch.Size([64, 1000])\n",
      "validation: output.size() = torch.Size([64, 1])\n",
      "key = 'classification'\n",
      "validation: output.size() = torch.Size([64, 1000])\n",
      "x.size() = torch.Size([64, 1000])\n",
      "output.size() = torch.Size([64, 1])\n",
      "output.size() = torch.Size([64, 1000])\n"
     ]
    },
    {
     "data": {
      "application/vnd.jupyter.widget-view+json": {
       "model_id": "",
       "version_major": 2,
       "version_minor": 0
      },
      "text/plain": [
       "Validation: |                                                                                                 …"
      ]
     },
     "metadata": {},
     "output_type": "display_data"
    },
    {
     "name": "stdout",
     "output_type": "stream",
     "text": [
      "key = 'regression'\n",
      "x.size() = torch.Size([64, 1000])\n",
      "validation: output.size() = torch.Size([64, 1])\n",
      "key = 'classification'\n",
      "validation: output.size() = torch.Size([64, 1000])\n",
      "x.size() = torch.Size([64, 1000])\n",
      "output.size() = torch.Size([64, 1])\n",
      "output.size() = torch.Size([64, 1000])\n"
     ]
    },
    {
     "data": {
      "application/vnd.jupyter.widget-view+json": {
       "model_id": "",
       "version_major": 2,
       "version_minor": 0
      },
      "text/plain": [
       "Validation: |                                                                                                 …"
      ]
     },
     "metadata": {},
     "output_type": "display_data"
    },
    {
     "name": "stdout",
     "output_type": "stream",
     "text": [
      "key = 'regression'\n",
      "x.size() = torch.Size([64, 1000])\n",
      "validation: output.size() = torch.Size([64, 1])\n",
      "key = 'classification'\n",
      "validation: output.size() = torch.Size([64, 1000])\n",
      "x.size() = torch.Size([64, 1000])\n",
      "output.size() = torch.Size([64, 1])\n",
      "output.size() = torch.Size([64, 1000])\n"
     ]
    },
    {
     "data": {
      "application/vnd.jupyter.widget-view+json": {
       "model_id": "",
       "version_major": 2,
       "version_minor": 0
      },
      "text/plain": [
       "Validation: |                                                                                                 …"
      ]
     },
     "metadata": {},
     "output_type": "display_data"
    },
    {
     "name": "stdout",
     "output_type": "stream",
     "text": [
      "key = 'regression'\n",
      "x.size() = torch.Size([64, 1000])\n",
      "validation: output.size() = torch.Size([64, 1])\n",
      "key = 'classification'\n",
      "validation: output.size() = torch.Size([64, 1000])\n",
      "x.size() = torch.Size([64, 1000])\n",
      "output.size() = torch.Size([64, 1])\n",
      "output.size() = torch.Size([64, 1000])\n"
     ]
    },
    {
     "data": {
      "application/vnd.jupyter.widget-view+json": {
       "model_id": "",
       "version_major": 2,
       "version_minor": 0
      },
      "text/plain": [
       "Validation: |                                                                                                 …"
      ]
     },
     "metadata": {},
     "output_type": "display_data"
    },
    {
     "name": "stdout",
     "output_type": "stream",
     "text": [
      "key = 'regression'\n",
      "x.size() = torch.Size([64, 1000])\n",
      "validation: output.size() = torch.Size([64, 1])\n",
      "key = 'classification'\n",
      "validation: output.size() = torch.Size([64, 1000])\n",
      "x.size() = torch.Size([64, 1000])\n",
      "output.size() = torch.Size([64, 1])\n",
      "output.size() = torch.Size([64, 1000])\n"
     ]
    },
    {
     "data": {
      "application/vnd.jupyter.widget-view+json": {
       "model_id": "",
       "version_major": 2,
       "version_minor": 0
      },
      "text/plain": [
       "Validation: |                                                                                                 …"
      ]
     },
     "metadata": {},
     "output_type": "display_data"
    },
    {
     "name": "stdout",
     "output_type": "stream",
     "text": [
      "key = 'regression'\n",
      "x.size() = torch.Size([64, 1000])\n",
      "validation: output.size() = torch.Size([64, 1])\n",
      "key = 'classification'\n",
      "validation: output.size() = torch.Size([64, 1000])\n",
      "x.size() = torch.Size([64, 1000])\n",
      "output.size() = torch.Size([64, 1])\n",
      "output.size() = torch.Size([64, 1000])\n"
     ]
    },
    {
     "data": {
      "application/vnd.jupyter.widget-view+json": {
       "model_id": "",
       "version_major": 2,
       "version_minor": 0
      },
      "text/plain": [
       "Validation: |                                                                                                 …"
      ]
     },
     "metadata": {},
     "output_type": "display_data"
    },
    {
     "name": "stdout",
     "output_type": "stream",
     "text": [
      "key = 'regression'\n",
      "x.size() = torch.Size([64, 1000])\n",
      "validation: output.size() = torch.Size([64, 1])\n",
      "key = 'classification'\n",
      "validation: output.size() = torch.Size([64, 1000])\n",
      "x.size() = torch.Size([64, 1000])\n",
      "output.size() = torch.Size([64, 1])\n",
      "output.size() = torch.Size([64, 1000])\n"
     ]
    },
    {
     "data": {
      "application/vnd.jupyter.widget-view+json": {
       "model_id": "",
       "version_major": 2,
       "version_minor": 0
      },
      "text/plain": [
       "Validation: |                                                                                                 …"
      ]
     },
     "metadata": {},
     "output_type": "display_data"
    },
    {
     "name": "stdout",
     "output_type": "stream",
     "text": [
      "key = 'regression'\n",
      "x.size() = torch.Size([64, 1000])\n",
      "validation: output.size() = torch.Size([64, 1])\n",
      "key = 'classification'\n",
      "validation: output.size() = torch.Size([64, 1000])\n",
      "x.size() = torch.Size([64, 1000])\n",
      "output.size() = torch.Size([64, 1])\n",
      "output.size() = torch.Size([64, 1000])\n"
     ]
    },
    {
     "data": {
      "application/vnd.jupyter.widget-view+json": {
       "model_id": "",
       "version_major": 2,
       "version_minor": 0
      },
      "text/plain": [
       "Validation: |                                                                                                 …"
      ]
     },
     "metadata": {},
     "output_type": "display_data"
    },
    {
     "name": "stdout",
     "output_type": "stream",
     "text": [
      "key = 'regression'\n",
      "x.size() = torch.Size([64, 1000])\n",
      "validation: output.size() = torch.Size([64, 1])\n",
      "key = 'classification'\n",
      "validation: output.size() = torch.Size([64, 1000])\n",
      "x.size() = torch.Size([64, 1000])\n",
      "output.size() = torch.Size([64, 1])\n",
      "output.size() = torch.Size([64, 1000])\n"
     ]
    },
    {
     "data": {
      "application/vnd.jupyter.widget-view+json": {
       "model_id": "",
       "version_major": 2,
       "version_minor": 0
      },
      "text/plain": [
       "Validation: |                                                                                                 …"
      ]
     },
     "metadata": {},
     "output_type": "display_data"
    },
    {
     "name": "stdout",
     "output_type": "stream",
     "text": [
      "key = 'regression'\n",
      "x.size() = torch.Size([64, 1000])\n",
      "validation: output.size() = torch.Size([64, 1])\n",
      "key = 'classification'\n",
      "validation: output.size() = torch.Size([64, 1000])\n",
      "x.size() = torch.Size([64, 1000])\n",
      "output.size() = torch.Size([64, 1])\n",
      "output.size() = torch.Size([64, 1000])\n"
     ]
    },
    {
     "data": {
      "application/vnd.jupyter.widget-view+json": {
       "model_id": "",
       "version_major": 2,
       "version_minor": 0
      },
      "text/plain": [
       "Validation: |                                                                                                 …"
      ]
     },
     "metadata": {},
     "output_type": "display_data"
    },
    {
     "name": "stdout",
     "output_type": "stream",
     "text": [
      "key = 'regression'\n",
      "x.size() = torch.Size([64, 1000])\n",
      "validation: output.size() = torch.Size([64, 1])\n",
      "key = 'classification'\n",
      "validation: output.size() = torch.Size([64, 1000])\n",
      "x.size() = torch.Size([64, 1000])\n",
      "output.size() = torch.Size([64, 1])\n",
      "output.size() = torch.Size([64, 1000])\n"
     ]
    },
    {
     "data": {
      "application/vnd.jupyter.widget-view+json": {
       "model_id": "",
       "version_major": 2,
       "version_minor": 0
      },
      "text/plain": [
       "Validation: |                                                                                                 …"
      ]
     },
     "metadata": {},
     "output_type": "display_data"
    },
    {
     "name": "stdout",
     "output_type": "stream",
     "text": [
      "key = 'regression'\n",
      "x.size() = torch.Size([64, 1000])\n",
      "validation: output.size() = torch.Size([64, 1])\n",
      "key = 'classification'\n",
      "validation: output.size() = torch.Size([64, 1000])\n",
      "x.size() = torch.Size([64, 1000])\n",
      "output.size() = torch.Size([64, 1])\n",
      "output.size() = torch.Size([64, 1000])\n"
     ]
    },
    {
     "data": {
      "application/vnd.jupyter.widget-view+json": {
       "model_id": "",
       "version_major": 2,
       "version_minor": 0
      },
      "text/plain": [
       "Validation: |                                                                                                 …"
      ]
     },
     "metadata": {},
     "output_type": "display_data"
    },
    {
     "name": "stdout",
     "output_type": "stream",
     "text": [
      "key = 'regression'\n",
      "x.size() = torch.Size([64, 1000])\n",
      "validation: output.size() = torch.Size([64, 1])\n",
      "key = 'classification'\n",
      "validation: output.size() = torch.Size([64, 1000])\n",
      "x.size() = torch.Size([64, 1000])\n",
      "output.size() = torch.Size([64, 1])\n",
      "output.size() = torch.Size([64, 1000])\n"
     ]
    },
    {
     "data": {
      "application/vnd.jupyter.widget-view+json": {
       "model_id": "",
       "version_major": 2,
       "version_minor": 0
      },
      "text/plain": [
       "Validation: |                                                                                                 …"
      ]
     },
     "metadata": {},
     "output_type": "display_data"
    },
    {
     "name": "stdout",
     "output_type": "stream",
     "text": [
      "key = 'regression'\n",
      "x.size() = torch.Size([64, 1000])\n",
      "validation: output.size() = torch.Size([64, 1])\n",
      "key = 'classification'\n",
      "validation: output.size() = torch.Size([64, 1000])\n",
      "x.size() = torch.Size([64, 1000])\n",
      "output.size() = torch.Size([64, 1])\n",
      "output.size() = torch.Size([64, 1000])\n"
     ]
    },
    {
     "data": {
      "application/vnd.jupyter.widget-view+json": {
       "model_id": "",
       "version_major": 2,
       "version_minor": 0
      },
      "text/plain": [
       "Validation: |                                                                                                 …"
      ]
     },
     "metadata": {},
     "output_type": "display_data"
    },
    {
     "name": "stdout",
     "output_type": "stream",
     "text": [
      "key = 'regression'\n",
      "x.size() = torch.Size([64, 1000])\n",
      "validation: output.size() = torch.Size([64, 1])\n",
      "key = 'classification'\n",
      "validation: output.size() = torch.Size([64, 1000])\n",
      "x.size() = torch.Size([64, 1000])\n",
      "output.size() = torch.Size([64, 1])\n",
      "output.size() = torch.Size([64, 1000])\n"
     ]
    },
    {
     "data": {
      "application/vnd.jupyter.widget-view+json": {
       "model_id": "",
       "version_major": 2,
       "version_minor": 0
      },
      "text/plain": [
       "Validation: |                                                                                                 …"
      ]
     },
     "metadata": {},
     "output_type": "display_data"
    },
    {
     "name": "stdout",
     "output_type": "stream",
     "text": [
      "key = 'regression'\n",
      "x.size() = torch.Size([64, 1000])\n",
      "validation: output.size() = torch.Size([64, 1])\n",
      "key = 'classification'\n",
      "validation: output.size() = torch.Size([64, 1000])\n",
      "x.size() = torch.Size([64, 1000])\n",
      "output.size() = torch.Size([64, 1])\n",
      "output.size() = torch.Size([64, 1000])\n"
     ]
    },
    {
     "data": {
      "application/vnd.jupyter.widget-view+json": {
       "model_id": "",
       "version_major": 2,
       "version_minor": 0
      },
      "text/plain": [
       "Validation: |                                                                                                 …"
      ]
     },
     "metadata": {},
     "output_type": "display_data"
    },
    {
     "name": "stdout",
     "output_type": "stream",
     "text": [
      "key = 'regression'\n",
      "x.size() = torch.Size([64, 1000])\n",
      "validation: output.size() = torch.Size([64, 1])\n",
      "key = 'classification'\n",
      "validation: output.size() = torch.Size([64, 1000])\n",
      "x.size() = torch.Size([64, 1000])\n",
      "output.size() = torch.Size([64, 1])\n",
      "output.size() = torch.Size([64, 1000])\n"
     ]
    },
    {
     "data": {
      "application/vnd.jupyter.widget-view+json": {
       "model_id": "",
       "version_major": 2,
       "version_minor": 0
      },
      "text/plain": [
       "Validation: |                                                                                                 …"
      ]
     },
     "metadata": {},
     "output_type": "display_data"
    },
    {
     "name": "stdout",
     "output_type": "stream",
     "text": [
      "key = 'regression'\n",
      "x.size() = torch.Size([64, 1000])\n",
      "validation: output.size() = torch.Size([64, 1])\n",
      "key = 'classification'\n",
      "validation: output.size() = torch.Size([64, 1000])\n",
      "x.size() = torch.Size([64, 1000])\n",
      "output.size() = torch.Size([64, 1])\n",
      "output.size() = torch.Size([64, 1000])\n"
     ]
    },
    {
     "data": {
      "application/vnd.jupyter.widget-view+json": {
       "model_id": "",
       "version_major": 2,
       "version_minor": 0
      },
      "text/plain": [
       "Validation: |                                                                                                 …"
      ]
     },
     "metadata": {},
     "output_type": "display_data"
    },
    {
     "name": "stdout",
     "output_type": "stream",
     "text": [
      "key = 'regression'\n",
      "x.size() = torch.Size([64, 1000])\n",
      "validation: output.size() = torch.Size([64, 1])\n",
      "key = 'classification'\n",
      "validation: output.size() = torch.Size([64, 1000])\n",
      "x.size() = torch.Size([64, 1000])\n",
      "output.size() = torch.Size([64, 1])\n",
      "output.size() = torch.Size([64, 1000])\n"
     ]
    },
    {
     "data": {
      "application/vnd.jupyter.widget-view+json": {
       "model_id": "",
       "version_major": 2,
       "version_minor": 0
      },
      "text/plain": [
       "Validation: |                                                                                                 …"
      ]
     },
     "metadata": {},
     "output_type": "display_data"
    },
    {
     "name": "stdout",
     "output_type": "stream",
     "text": [
      "key = 'regression'\n",
      "x.size() = torch.Size([64, 1000])\n",
      "validation: output.size() = torch.Size([64, 1])\n",
      "key = 'classification'\n",
      "validation: output.size() = torch.Size([64, 1000])\n",
      "x.size() = torch.Size([64, 1000])\n",
      "output.size() = torch.Size([64, 1])\n",
      "output.size() = torch.Size([64, 1000])\n"
     ]
    },
    {
     "data": {
      "application/vnd.jupyter.widget-view+json": {
       "model_id": "",
       "version_major": 2,
       "version_minor": 0
      },
      "text/plain": [
       "Validation: |                                                                                                 …"
      ]
     },
     "metadata": {},
     "output_type": "display_data"
    },
    {
     "name": "stdout",
     "output_type": "stream",
     "text": [
      "key = 'regression'\n",
      "x.size() = torch.Size([64, 1000])\n",
      "validation: output.size() = torch.Size([64, 1])\n",
      "key = 'classification'\n",
      "validation: output.size() = torch.Size([64, 1000])\n",
      "x.size() = torch.Size([64, 1000])\n",
      "output.size() = torch.Size([64, 1])\n",
      "output.size() = torch.Size([64, 1000])\n"
     ]
    },
    {
     "data": {
      "application/vnd.jupyter.widget-view+json": {
       "model_id": "",
       "version_major": 2,
       "version_minor": 0
      },
      "text/plain": [
       "Validation: |                                                                                                 …"
      ]
     },
     "metadata": {},
     "output_type": "display_data"
    },
    {
     "name": "stdout",
     "output_type": "stream",
     "text": [
      "key = 'regression'\n",
      "x.size() = torch.Size([64, 1000])\n",
      "validation: output.size() = torch.Size([64, 1])\n",
      "key = 'classification'\n",
      "validation: output.size() = torch.Size([64, 1000])\n",
      "x.size() = torch.Size([64, 1000])\n",
      "output.size() = torch.Size([64, 1])\n",
      "output.size() = torch.Size([64, 1000])\n"
     ]
    },
    {
     "data": {
      "application/vnd.jupyter.widget-view+json": {
       "model_id": "",
       "version_major": 2,
       "version_minor": 0
      },
      "text/plain": [
       "Validation: |                                                                                                 …"
      ]
     },
     "metadata": {},
     "output_type": "display_data"
    },
    {
     "name": "stdout",
     "output_type": "stream",
     "text": [
      "key = 'regression'\n",
      "x.size() = torch.Size([64, 1000])\n",
      "validation: output.size() = torch.Size([64, 1])\n",
      "key = 'classification'\n",
      "validation: output.size() = torch.Size([64, 1000])\n",
      "x.size() = torch.Size([64, 1000])\n",
      "output.size() = torch.Size([64, 1])\n",
      "output.size() = torch.Size([64, 1000])\n"
     ]
    },
    {
     "data": {
      "application/vnd.jupyter.widget-view+json": {
       "model_id": "",
       "version_major": 2,
       "version_minor": 0
      },
      "text/plain": [
       "Validation: |                                                                                                 …"
      ]
     },
     "metadata": {},
     "output_type": "display_data"
    },
    {
     "name": "stdout",
     "output_type": "stream",
     "text": [
      "key = 'regression'\n",
      "x.size() = torch.Size([64, 1000])\n",
      "validation: output.size() = torch.Size([64, 1])\n",
      "key = 'classification'\n",
      "validation: output.size() = torch.Size([64, 1000])\n",
      "x.size() = torch.Size([64, 1000])\n",
      "output.size() = torch.Size([64, 1])\n",
      "output.size() = torch.Size([64, 1000])\n"
     ]
    },
    {
     "data": {
      "application/vnd.jupyter.widget-view+json": {
       "model_id": "",
       "version_major": 2,
       "version_minor": 0
      },
      "text/plain": [
       "Validation: |                                                                                                 …"
      ]
     },
     "metadata": {},
     "output_type": "display_data"
    },
    {
     "name": "stdout",
     "output_type": "stream",
     "text": [
      "key = 'regression'\n",
      "x.size() = torch.Size([64, 1000])\n",
      "validation: output.size() = torch.Size([64, 1])\n",
      "key = 'classification'\n",
      "validation: output.size() = torch.Size([64, 1000])\n",
      "x.size() = torch.Size([64, 1000])\n",
      "output.size() = torch.Size([64, 1])\n",
      "output.size() = torch.Size([64, 1000])\n"
     ]
    },
    {
     "data": {
      "application/vnd.jupyter.widget-view+json": {
       "model_id": "",
       "version_major": 2,
       "version_minor": 0
      },
      "text/plain": [
       "Validation: |                                                                                                 …"
      ]
     },
     "metadata": {},
     "output_type": "display_data"
    },
    {
     "name": "stdout",
     "output_type": "stream",
     "text": [
      "key = 'regression'\n",
      "x.size() = torch.Size([64, 1000])\n",
      "validation: output.size() = torch.Size([64, 1])\n",
      "key = 'classification'\n",
      "validation: output.size() = torch.Size([64, 1000])\n",
      "x.size() = torch.Size([64, 1000])\n",
      "output.size() = torch.Size([64, 1])\n",
      "output.size() = torch.Size([64, 1000])\n"
     ]
    },
    {
     "data": {
      "application/vnd.jupyter.widget-view+json": {
       "model_id": "",
       "version_major": 2,
       "version_minor": 0
      },
      "text/plain": [
       "Validation: |                                                                                                 …"
      ]
     },
     "metadata": {},
     "output_type": "display_data"
    },
    {
     "name": "stdout",
     "output_type": "stream",
     "text": [
      "key = 'regression'\n",
      "x.size() = torch.Size([64, 1000])\n",
      "validation: output.size() = torch.Size([64, 1])\n",
      "key = 'classification'\n",
      "validation: output.size() = torch.Size([64, 1000])\n",
      "x.size() = torch.Size([64, 1000])\n",
      "output.size() = torch.Size([64, 1])\n",
      "output.size() = torch.Size([64, 1000])\n"
     ]
    },
    {
     "data": {
      "application/vnd.jupyter.widget-view+json": {
       "model_id": "",
       "version_major": 2,
       "version_minor": 0
      },
      "text/plain": [
       "Validation: |                                                                                                 …"
      ]
     },
     "metadata": {},
     "output_type": "display_data"
    },
    {
     "name": "stdout",
     "output_type": "stream",
     "text": [
      "key = 'regression'\n",
      "x.size() = torch.Size([64, 1000])\n",
      "validation: output.size() = torch.Size([64, 1])\n",
      "key = 'classification'\n",
      "validation: output.size() = torch.Size([64, 1000])\n",
      "x.size() = torch.Size([64, 1000])\n",
      "output.size() = torch.Size([64, 1])\n",
      "output.size() = torch.Size([64, 1000])\n"
     ]
    },
    {
     "data": {
      "application/vnd.jupyter.widget-view+json": {
       "model_id": "",
       "version_major": 2,
       "version_minor": 0
      },
      "text/plain": [
       "Validation: |                                                                                                 …"
      ]
     },
     "metadata": {},
     "output_type": "display_data"
    },
    {
     "name": "stdout",
     "output_type": "stream",
     "text": [
      "key = 'regression'\n",
      "x.size() = torch.Size([64, 1000])\n",
      "validation: output.size() = torch.Size([64, 1])\n",
      "key = 'classification'\n",
      "validation: output.size() = torch.Size([64, 1000])\n",
      "x.size() = torch.Size([64, 1000])\n",
      "output.size() = torch.Size([64, 1])\n",
      "output.size() = torch.Size([64, 1000])\n"
     ]
    },
    {
     "data": {
      "application/vnd.jupyter.widget-view+json": {
       "model_id": "",
       "version_major": 2,
       "version_minor": 0
      },
      "text/plain": [
       "Validation: |                                                                                                 …"
      ]
     },
     "metadata": {},
     "output_type": "display_data"
    },
    {
     "name": "stdout",
     "output_type": "stream",
     "text": [
      "key = 'regression'\n",
      "x.size() = torch.Size([64, 1000])\n",
      "validation: output.size() = torch.Size([64, 1])\n",
      "key = 'classification'\n",
      "validation: output.size() = torch.Size([64, 1000])\n",
      "x.size() = torch.Size([64, 1000])\n",
      "output.size() = torch.Size([64, 1])\n",
      "output.size() = torch.Size([64, 1000])\n"
     ]
    },
    {
     "data": {
      "application/vnd.jupyter.widget-view+json": {
       "model_id": "",
       "version_major": 2,
       "version_minor": 0
      },
      "text/plain": [
       "Validation: |                                                                                                 …"
      ]
     },
     "metadata": {},
     "output_type": "display_data"
    },
    {
     "name": "stdout",
     "output_type": "stream",
     "text": [
      "key = 'regression'\n",
      "x.size() = torch.Size([64, 1000])\n",
      "validation: output.size() = torch.Size([64, 1])\n",
      "key = 'classification'\n",
      "validation: output.size() = torch.Size([64, 1000])\n",
      "x.size() = torch.Size([64, 1000])\n",
      "output.size() = torch.Size([64, 1])\n",
      "output.size() = torch.Size([64, 1000])\n"
     ]
    },
    {
     "data": {
      "application/vnd.jupyter.widget-view+json": {
       "model_id": "",
       "version_major": 2,
       "version_minor": 0
      },
      "text/plain": [
       "Validation: |                                                                                                 …"
      ]
     },
     "metadata": {},
     "output_type": "display_data"
    },
    {
     "name": "stdout",
     "output_type": "stream",
     "text": [
      "key = 'regression'\n",
      "x.size() = torch.Size([64, 1000])\n",
      "validation: output.size() = torch.Size([64, 1])\n",
      "key = 'classification'\n",
      "validation: output.size() = torch.Size([64, 1000])\n",
      "x.size() = torch.Size([64, 1000])\n",
      "output.size() = torch.Size([64, 1])\n",
      "output.size() = torch.Size([64, 1000])\n"
     ]
    },
    {
     "data": {
      "application/vnd.jupyter.widget-view+json": {
       "model_id": "",
       "version_major": 2,
       "version_minor": 0
      },
      "text/plain": [
       "Validation: |                                                                                                 …"
      ]
     },
     "metadata": {},
     "output_type": "display_data"
    },
    {
     "name": "stdout",
     "output_type": "stream",
     "text": [
      "key = 'regression'\n",
      "x.size() = torch.Size([64, 1000])\n",
      "validation: output.size() = torch.Size([64, 1])\n",
      "key = 'classification'\n",
      "validation: output.size() = torch.Size([64, 1000])\n",
      "x.size() = torch.Size([64, 1000])\n",
      "output.size() = torch.Size([64, 1])\n",
      "output.size() = torch.Size([64, 1000])\n"
     ]
    },
    {
     "data": {
      "application/vnd.jupyter.widget-view+json": {
       "model_id": "",
       "version_major": 2,
       "version_minor": 0
      },
      "text/plain": [
       "Validation: |                                                                                                 …"
      ]
     },
     "metadata": {},
     "output_type": "display_data"
    },
    {
     "name": "stdout",
     "output_type": "stream",
     "text": [
      "key = 'regression'\n",
      "x.size() = torch.Size([64, 1000])\n",
      "validation: output.size() = torch.Size([64, 1])\n",
      "key = 'classification'\n",
      "validation: output.size() = torch.Size([64, 1000])\n",
      "x.size() = torch.Size([64, 1000])\n",
      "output.size() = torch.Size([64, 1])\n",
      "output.size() = torch.Size([64, 1000])\n"
     ]
    },
    {
     "data": {
      "application/vnd.jupyter.widget-view+json": {
       "model_id": "",
       "version_major": 2,
       "version_minor": 0
      },
      "text/plain": [
       "Validation: |                                                                                                 …"
      ]
     },
     "metadata": {},
     "output_type": "display_data"
    },
    {
     "name": "stdout",
     "output_type": "stream",
     "text": [
      "key = 'regression'\n",
      "x.size() = torch.Size([64, 1000])\n",
      "validation: output.size() = torch.Size([64, 1])\n",
      "key = 'classification'\n",
      "validation: output.size() = torch.Size([64, 1000])\n",
      "x.size() = torch.Size([64, 1000])\n",
      "output.size() = torch.Size([64, 1])\n",
      "output.size() = torch.Size([64, 1000])\n"
     ]
    },
    {
     "data": {
      "application/vnd.jupyter.widget-view+json": {
       "model_id": "",
       "version_major": 2,
       "version_minor": 0
      },
      "text/plain": [
       "Validation: |                                                                                                 …"
      ]
     },
     "metadata": {},
     "output_type": "display_data"
    },
    {
     "name": "stdout",
     "output_type": "stream",
     "text": [
      "key = 'regression'\n",
      "x.size() = torch.Size([64, 1000])\n",
      "validation: output.size() = torch.Size([64, 1])\n",
      "key = 'classification'\n",
      "validation: output.size() = torch.Size([64, 1000])\n",
      "x.size() = torch.Size([64, 1000])\n",
      "output.size() = torch.Size([64, 1])\n",
      "output.size() = torch.Size([64, 1000])\n"
     ]
    },
    {
     "data": {
      "application/vnd.jupyter.widget-view+json": {
       "model_id": "",
       "version_major": 2,
       "version_minor": 0
      },
      "text/plain": [
       "Validation: |                                                                                                 …"
      ]
     },
     "metadata": {},
     "output_type": "display_data"
    },
    {
     "name": "stdout",
     "output_type": "stream",
     "text": [
      "key = 'regression'\n",
      "x.size() = torch.Size([64, 1000])\n",
      "validation: output.size() = torch.Size([64, 1])\n",
      "key = 'classification'\n",
      "validation: output.size() = torch.Size([64, 1000])\n",
      "x.size() = torch.Size([64, 1000])\n",
      "output.size() = torch.Size([64, 1])\n",
      "output.size() = torch.Size([64, 1000])\n"
     ]
    },
    {
     "data": {
      "application/vnd.jupyter.widget-view+json": {
       "model_id": "",
       "version_major": 2,
       "version_minor": 0
      },
      "text/plain": [
       "Validation: |                                                                                                 …"
      ]
     },
     "metadata": {},
     "output_type": "display_data"
    },
    {
     "name": "stdout",
     "output_type": "stream",
     "text": [
      "key = 'regression'\n",
      "x.size() = torch.Size([64, 1000])\n",
      "validation: output.size() = torch.Size([64, 1])\n",
      "key = 'classification'\n",
      "validation: output.size() = torch.Size([64, 1000])\n",
      "x.size() = torch.Size([64, 1000])\n",
      "output.size() = torch.Size([64, 1])\n",
      "output.size() = torch.Size([64, 1000])\n"
     ]
    },
    {
     "data": {
      "application/vnd.jupyter.widget-view+json": {
       "model_id": "",
       "version_major": 2,
       "version_minor": 0
      },
      "text/plain": [
       "Validation: |                                                                                                 …"
      ]
     },
     "metadata": {},
     "output_type": "display_data"
    },
    {
     "name": "stdout",
     "output_type": "stream",
     "text": [
      "key = 'regression'\n",
      "x.size() = torch.Size([64, 1000])\n",
      "validation: output.size() = torch.Size([64, 1])\n",
      "key = 'classification'\n",
      "validation: output.size() = torch.Size([64, 1000])\n",
      "x.size() = torch.Size([64, 1000])\n",
      "output.size() = torch.Size([64, 1])\n",
      "output.size() = torch.Size([64, 1000])\n"
     ]
    },
    {
     "data": {
      "application/vnd.jupyter.widget-view+json": {
       "model_id": "",
       "version_major": 2,
       "version_minor": 0
      },
      "text/plain": [
       "Validation: |                                                                                                 …"
      ]
     },
     "metadata": {},
     "output_type": "display_data"
    },
    {
     "name": "stdout",
     "output_type": "stream",
     "text": [
      "key = 'regression'\n",
      "x.size() = torch.Size([64, 1000])\n",
      "validation: output.size() = torch.Size([64, 1])\n",
      "key = 'classification'\n",
      "validation: output.size() = torch.Size([64, 1000])\n",
      "x.size() = torch.Size([64, 1000])\n",
      "output.size() = torch.Size([64, 1])\n",
      "output.size() = torch.Size([64, 1000])\n"
     ]
    },
    {
     "data": {
      "application/vnd.jupyter.widget-view+json": {
       "model_id": "",
       "version_major": 2,
       "version_minor": 0
      },
      "text/plain": [
       "Validation: |                                                                                                 …"
      ]
     },
     "metadata": {},
     "output_type": "display_data"
    },
    {
     "name": "stdout",
     "output_type": "stream",
     "text": [
      "key = 'regression'\n",
      "x.size() = torch.Size([64, 1000])\n",
      "validation: output.size() = torch.Size([64, 1])\n",
      "key = 'classification'\n",
      "validation: output.size() = torch.Size([64, 1000])\n",
      "x.size() = torch.Size([64, 1000])\n",
      "output.size() = torch.Size([64, 1])\n",
      "output.size() = torch.Size([64, 1000])\n"
     ]
    },
    {
     "data": {
      "application/vnd.jupyter.widget-view+json": {
       "model_id": "",
       "version_major": 2,
       "version_minor": 0
      },
      "text/plain": [
       "Validation: |                                                                                                 …"
      ]
     },
     "metadata": {},
     "output_type": "display_data"
    },
    {
     "name": "stdout",
     "output_type": "stream",
     "text": [
      "key = 'regression'\n",
      "x.size() = torch.Size([64, 1000])\n",
      "validation: output.size() = torch.Size([64, 1])\n",
      "key = 'classification'\n",
      "validation: output.size() = torch.Size([64, 1000])\n",
      "x.size() = torch.Size([64, 1000])\n",
      "output.size() = torch.Size([64, 1])\n",
      "output.size() = torch.Size([64, 1000])\n"
     ]
    },
    {
     "data": {
      "application/vnd.jupyter.widget-view+json": {
       "model_id": "",
       "version_major": 2,
       "version_minor": 0
      },
      "text/plain": [
       "Validation: |                                                                                                 …"
      ]
     },
     "metadata": {},
     "output_type": "display_data"
    },
    {
     "name": "stdout",
     "output_type": "stream",
     "text": [
      "key = 'regression'\n",
      "x.size() = torch.Size([64, 1000])\n",
      "validation: output.size() = torch.Size([64, 1])\n",
      "key = 'classification'\n",
      "validation: output.size() = torch.Size([64, 1000])\n",
      "x.size() = torch.Size([64, 1000])\n",
      "output.size() = torch.Size([64, 1])\n",
      "output.size() = torch.Size([64, 1000])\n"
     ]
    },
    {
     "data": {
      "application/vnd.jupyter.widget-view+json": {
       "model_id": "",
       "version_major": 2,
       "version_minor": 0
      },
      "text/plain": [
       "Validation: |                                                                                                 …"
      ]
     },
     "metadata": {},
     "output_type": "display_data"
    },
    {
     "name": "stdout",
     "output_type": "stream",
     "text": [
      "key = 'regression'\n",
      "x.size() = torch.Size([64, 1000])\n",
      "validation: output.size() = torch.Size([64, 1])\n",
      "key = 'classification'\n",
      "validation: output.size() = torch.Size([64, 1000])\n",
      "x.size() = torch.Size([64, 1000])\n",
      "output.size() = torch.Size([64, 1])\n",
      "output.size() = torch.Size([64, 1000])\n"
     ]
    },
    {
     "data": {
      "application/vnd.jupyter.widget-view+json": {
       "model_id": "",
       "version_major": 2,
       "version_minor": 0
      },
      "text/plain": [
       "Validation: |                                                                                                 …"
      ]
     },
     "metadata": {},
     "output_type": "display_data"
    },
    {
     "name": "stdout",
     "output_type": "stream",
     "text": [
      "key = 'regression'\n",
      "x.size() = torch.Size([64, 1000])\n",
      "validation: output.size() = torch.Size([64, 1])\n",
      "key = 'classification'\n",
      "validation: output.size() = torch.Size([64, 1000])\n",
      "x.size() = torch.Size([64, 1000])\n",
      "output.size() = torch.Size([64, 1])\n",
      "output.size() = torch.Size([64, 1000])\n"
     ]
    },
    {
     "data": {
      "application/vnd.jupyter.widget-view+json": {
       "model_id": "",
       "version_major": 2,
       "version_minor": 0
      },
      "text/plain": [
       "Validation: |                                                                                                 …"
      ]
     },
     "metadata": {},
     "output_type": "display_data"
    },
    {
     "name": "stdout",
     "output_type": "stream",
     "text": [
      "key = 'regression'\n",
      "x.size() = torch.Size([64, 1000])\n",
      "validation: output.size() = torch.Size([64, 1])\n",
      "key = 'classification'\n",
      "validation: output.size() = torch.Size([64, 1000])\n",
      "x.size() = torch.Size([64, 1000])\n",
      "output.size() = torch.Size([64, 1])\n",
      "output.size() = torch.Size([64, 1000])\n"
     ]
    },
    {
     "data": {
      "application/vnd.jupyter.widget-view+json": {
       "model_id": "",
       "version_major": 2,
       "version_minor": 0
      },
      "text/plain": [
       "Validation: |                                                                                                 …"
      ]
     },
     "metadata": {},
     "output_type": "display_data"
    },
    {
     "name": "stdout",
     "output_type": "stream",
     "text": [
      "key = 'regression'\n",
      "x.size() = torch.Size([64, 1000])\n",
      "validation: output.size() = torch.Size([64, 1])\n",
      "key = 'classification'\n",
      "validation: output.size() = torch.Size([64, 1000])\n",
      "x.size() = torch.Size([64, 1000])\n",
      "output.size() = torch.Size([64, 1])\n",
      "output.size() = torch.Size([64, 1000])\n"
     ]
    },
    {
     "data": {
      "application/vnd.jupyter.widget-view+json": {
       "model_id": "",
       "version_major": 2,
       "version_minor": 0
      },
      "text/plain": [
       "Validation: |                                                                                                 …"
      ]
     },
     "metadata": {},
     "output_type": "display_data"
    },
    {
     "name": "stdout",
     "output_type": "stream",
     "text": [
      "key = 'regression'\n",
      "x.size() = torch.Size([64, 1000])\n",
      "validation: output.size() = torch.Size([64, 1])\n",
      "key = 'classification'\n",
      "validation: output.size() = torch.Size([64, 1000])\n",
      "x.size() = torch.Size([64, 1000])\n",
      "output.size() = torch.Size([64, 1])\n",
      "output.size() = torch.Size([64, 1000])\n"
     ]
    },
    {
     "data": {
      "application/vnd.jupyter.widget-view+json": {
       "model_id": "",
       "version_major": 2,
       "version_minor": 0
      },
      "text/plain": [
       "Validation: |                                                                                                 …"
      ]
     },
     "metadata": {},
     "output_type": "display_data"
    },
    {
     "name": "stdout",
     "output_type": "stream",
     "text": [
      "key = 'regression'\n",
      "x.size() = torch.Size([64, 1000])\n",
      "validation: output.size() = torch.Size([64, 1])\n",
      "key = 'classification'\n",
      "validation: output.size() = torch.Size([64, 1000])\n",
      "x.size() = torch.Size([64, 1000])\n",
      "output.size() = torch.Size([64, 1])\n",
      "output.size() = torch.Size([64, 1000])\n"
     ]
    },
    {
     "data": {
      "application/vnd.jupyter.widget-view+json": {
       "model_id": "",
       "version_major": 2,
       "version_minor": 0
      },
      "text/plain": [
       "Validation: |                                                                                                 …"
      ]
     },
     "metadata": {},
     "output_type": "display_data"
    },
    {
     "name": "stdout",
     "output_type": "stream",
     "text": [
      "key = 'regression'\n",
      "x.size() = torch.Size([64, 1000])\n",
      "validation: output.size() = torch.Size([64, 1])\n",
      "key = 'classification'\n",
      "validation: output.size() = torch.Size([64, 1000])\n",
      "x.size() = torch.Size([64, 1000])\n",
      "output.size() = torch.Size([64, 1])\n",
      "output.size() = torch.Size([64, 1000])\n"
     ]
    },
    {
     "data": {
      "application/vnd.jupyter.widget-view+json": {
       "model_id": "",
       "version_major": 2,
       "version_minor": 0
      },
      "text/plain": [
       "Validation: |                                                                                                 …"
      ]
     },
     "metadata": {},
     "output_type": "display_data"
    },
    {
     "name": "stdout",
     "output_type": "stream",
     "text": [
      "key = 'regression'\n",
      "x.size() = torch.Size([64, 1000])\n",
      "validation: output.size() = torch.Size([64, 1])\n",
      "key = 'classification'\n",
      "validation: output.size() = torch.Size([64, 1000])\n",
      "x.size() = torch.Size([64, 1000])\n",
      "output.size() = torch.Size([64, 1])\n",
      "output.size() = torch.Size([64, 1000])\n"
     ]
    },
    {
     "data": {
      "application/vnd.jupyter.widget-view+json": {
       "model_id": "",
       "version_major": 2,
       "version_minor": 0
      },
      "text/plain": [
       "Validation: |                                                                                                 …"
      ]
     },
     "metadata": {},
     "output_type": "display_data"
    },
    {
     "name": "stdout",
     "output_type": "stream",
     "text": [
      "key = 'regression'\n",
      "x.size() = torch.Size([64, 1000])\n",
      "validation: output.size() = torch.Size([64, 1])\n",
      "key = 'classification'\n",
      "validation: output.size() = torch.Size([64, 1000])\n",
      "x.size() = torch.Size([64, 1000])\n",
      "output.size() = torch.Size([64, 1])\n",
      "output.size() = torch.Size([64, 1000])\n"
     ]
    },
    {
     "data": {
      "application/vnd.jupyter.widget-view+json": {
       "model_id": "",
       "version_major": 2,
       "version_minor": 0
      },
      "text/plain": [
       "Validation: |                                                                                                 …"
      ]
     },
     "metadata": {},
     "output_type": "display_data"
    },
    {
     "name": "stdout",
     "output_type": "stream",
     "text": [
      "key = 'regression'\n",
      "x.size() = torch.Size([64, 1000])\n",
      "validation: output.size() = torch.Size([64, 1])\n",
      "key = 'classification'\n",
      "validation: output.size() = torch.Size([64, 1000])\n",
      "x.size() = torch.Size([64, 1000])\n",
      "output.size() = torch.Size([64, 1])\n",
      "output.size() = torch.Size([64, 1000])\n"
     ]
    },
    {
     "data": {
      "application/vnd.jupyter.widget-view+json": {
       "model_id": "",
       "version_major": 2,
       "version_minor": 0
      },
      "text/plain": [
       "Validation: |                                                                                                 …"
      ]
     },
     "metadata": {},
     "output_type": "display_data"
    },
    {
     "name": "stdout",
     "output_type": "stream",
     "text": [
      "key = 'regression'\n",
      "x.size() = torch.Size([64, 1000])\n",
      "validation: output.size() = torch.Size([64, 1])\n",
      "key = 'classification'\n",
      "validation: output.size() = torch.Size([64, 1000])\n",
      "x.size() = torch.Size([64, 1000])\n",
      "output.size() = torch.Size([64, 1])\n",
      "output.size() = torch.Size([64, 1000])\n"
     ]
    },
    {
     "data": {
      "application/vnd.jupyter.widget-view+json": {
       "model_id": "",
       "version_major": 2,
       "version_minor": 0
      },
      "text/plain": [
       "Validation: |                                                                                                 …"
      ]
     },
     "metadata": {},
     "output_type": "display_data"
    },
    {
     "name": "stdout",
     "output_type": "stream",
     "text": [
      "key = 'regression'\n",
      "x.size() = torch.Size([64, 1000])\n",
      "validation: output.size() = torch.Size([64, 1])\n",
      "key = 'classification'\n",
      "validation: output.size() = torch.Size([64, 1000])\n",
      "x.size() = torch.Size([64, 1000])\n",
      "output.size() = torch.Size([64, 1])\n",
      "output.size() = torch.Size([64, 1000])\n"
     ]
    },
    {
     "data": {
      "application/vnd.jupyter.widget-view+json": {
       "model_id": "",
       "version_major": 2,
       "version_minor": 0
      },
      "text/plain": [
       "Validation: |                                                                                                 …"
      ]
     },
     "metadata": {},
     "output_type": "display_data"
    },
    {
     "name": "stdout",
     "output_type": "stream",
     "text": [
      "key = 'regression'\n",
      "x.size() = torch.Size([64, 1000])\n",
      "validation: output.size() = torch.Size([64, 1])\n",
      "key = 'classification'\n",
      "validation: output.size() = torch.Size([64, 1000])\n",
      "x.size() = torch.Size([64, 1000])\n",
      "output.size() = torch.Size([64, 1])\n",
      "output.size() = torch.Size([64, 1000])\n"
     ]
    },
    {
     "data": {
      "application/vnd.jupyter.widget-view+json": {
       "model_id": "",
       "version_major": 2,
       "version_minor": 0
      },
      "text/plain": [
       "Validation: |                                                                                                 …"
      ]
     },
     "metadata": {},
     "output_type": "display_data"
    },
    {
     "name": "stdout",
     "output_type": "stream",
     "text": [
      "key = 'regression'\n",
      "x.size() = torch.Size([64, 1000])\n",
      "validation: output.size() = torch.Size([64, 1])\n",
      "key = 'classification'\n",
      "validation: output.size() = torch.Size([64, 1000])\n",
      "x.size() = torch.Size([64, 1000])\n",
      "output.size() = torch.Size([64, 1])\n",
      "output.size() = torch.Size([64, 1000])\n"
     ]
    },
    {
     "data": {
      "application/vnd.jupyter.widget-view+json": {
       "model_id": "",
       "version_major": 2,
       "version_minor": 0
      },
      "text/plain": [
       "Validation: |                                                                                                 …"
      ]
     },
     "metadata": {},
     "output_type": "display_data"
    },
    {
     "name": "stdout",
     "output_type": "stream",
     "text": [
      "key = 'regression'\n",
      "x.size() = torch.Size([64, 1000])\n",
      "validation: output.size() = torch.Size([64, 1])\n",
      "key = 'classification'\n",
      "validation: output.size() = torch.Size([64, 1000])\n",
      "x.size() = torch.Size([64, 1000])\n",
      "output.size() = torch.Size([64, 1])\n",
      "output.size() = torch.Size([64, 1000])\n"
     ]
    },
    {
     "data": {
      "application/vnd.jupyter.widget-view+json": {
       "model_id": "",
       "version_major": 2,
       "version_minor": 0
      },
      "text/plain": [
       "Validation: |                                                                                                 …"
      ]
     },
     "metadata": {},
     "output_type": "display_data"
    },
    {
     "name": "stdout",
     "output_type": "stream",
     "text": [
      "key = 'regression'\n",
      "x.size() = torch.Size([64, 1000])\n",
      "validation: output.size() = torch.Size([64, 1])\n",
      "key = 'classification'\n",
      "validation: output.size() = torch.Size([64, 1000])\n",
      "x.size() = torch.Size([64, 1000])\n",
      "output.size() = torch.Size([64, 1])\n",
      "output.size() = torch.Size([64, 1000])\n"
     ]
    },
    {
     "data": {
      "application/vnd.jupyter.widget-view+json": {
       "model_id": "",
       "version_major": 2,
       "version_minor": 0
      },
      "text/plain": [
       "Validation: |                                                                                                 …"
      ]
     },
     "metadata": {},
     "output_type": "display_data"
    },
    {
     "name": "stdout",
     "output_type": "stream",
     "text": [
      "key = 'regression'\n",
      "x.size() = torch.Size([64, 1000])\n",
      "validation: output.size() = torch.Size([64, 1])\n",
      "key = 'classification'\n",
      "validation: output.size() = torch.Size([64, 1000])\n",
      "x.size() = torch.Size([64, 1000])\n",
      "output.size() = torch.Size([64, 1])\n",
      "output.size() = torch.Size([64, 1000])\n"
     ]
    },
    {
     "data": {
      "application/vnd.jupyter.widget-view+json": {
       "model_id": "",
       "version_major": 2,
       "version_minor": 0
      },
      "text/plain": [
       "Validation: |                                                                                                 …"
      ]
     },
     "metadata": {},
     "output_type": "display_data"
    },
    {
     "name": "stdout",
     "output_type": "stream",
     "text": [
      "key = 'regression'\n",
      "x.size() = torch.Size([64, 1000])\n",
      "validation: output.size() = torch.Size([64, 1])\n",
      "key = 'classification'\n",
      "validation: output.size() = torch.Size([64, 1000])\n",
      "x.size() = torch.Size([64, 1000])\n",
      "output.size() = torch.Size([64, 1])\n",
      "output.size() = torch.Size([64, 1000])\n"
     ]
    },
    {
     "data": {
      "application/vnd.jupyter.widget-view+json": {
       "model_id": "",
       "version_major": 2,
       "version_minor": 0
      },
      "text/plain": [
       "Validation: |                                                                                                 …"
      ]
     },
     "metadata": {},
     "output_type": "display_data"
    },
    {
     "name": "stdout",
     "output_type": "stream",
     "text": [
      "key = 'regression'\n",
      "x.size() = torch.Size([64, 1000])\n",
      "validation: output.size() = torch.Size([64, 1])\n",
      "key = 'classification'\n",
      "validation: output.size() = torch.Size([64, 1000])\n",
      "x.size() = torch.Size([64, 1000])\n",
      "output.size() = torch.Size([64, 1])\n",
      "output.size() = torch.Size([64, 1000])\n"
     ]
    },
    {
     "data": {
      "application/vnd.jupyter.widget-view+json": {
       "model_id": "",
       "version_major": 2,
       "version_minor": 0
      },
      "text/plain": [
       "Validation: |                                                                                                 …"
      ]
     },
     "metadata": {},
     "output_type": "display_data"
    },
    {
     "name": "stdout",
     "output_type": "stream",
     "text": [
      "key = 'regression'\n",
      "x.size() = torch.Size([64, 1000])\n",
      "validation: output.size() = torch.Size([64, 1])\n",
      "key = 'classification'\n",
      "validation: output.size() = torch.Size([64, 1000])\n",
      "x.size() = torch.Size([64, 1000])\n",
      "output.size() = torch.Size([64, 1])\n",
      "output.size() = torch.Size([64, 1000])\n"
     ]
    },
    {
     "data": {
      "application/vnd.jupyter.widget-view+json": {
       "model_id": "",
       "version_major": 2,
       "version_minor": 0
      },
      "text/plain": [
       "Validation: |                                                                                                 …"
      ]
     },
     "metadata": {},
     "output_type": "display_data"
    },
    {
     "name": "stdout",
     "output_type": "stream",
     "text": [
      "key = 'regression'\n",
      "x.size() = torch.Size([64, 1000])\n",
      "validation: output.size() = torch.Size([64, 1])\n",
      "key = 'classification'\n",
      "validation: output.size() = torch.Size([64, 1000])\n",
      "x.size() = torch.Size([64, 1000])\n",
      "output.size() = torch.Size([64, 1])\n",
      "output.size() = torch.Size([64, 1000])\n"
     ]
    },
    {
     "data": {
      "application/vnd.jupyter.widget-view+json": {
       "model_id": "",
       "version_major": 2,
       "version_minor": 0
      },
      "text/plain": [
       "Validation: |                                                                                                 …"
      ]
     },
     "metadata": {},
     "output_type": "display_data"
    },
    {
     "name": "stdout",
     "output_type": "stream",
     "text": [
      "key = 'regression'\n",
      "x.size() = torch.Size([64, 1000])\n",
      "validation: output.size() = torch.Size([64, 1])\n",
      "key = 'classification'\n",
      "validation: output.size() = torch.Size([64, 1000])\n",
      "x.size() = torch.Size([64, 1000])\n",
      "output.size() = torch.Size([64, 1])\n",
      "output.size() = torch.Size([64, 1000])\n"
     ]
    },
    {
     "data": {
      "application/vnd.jupyter.widget-view+json": {
       "model_id": "",
       "version_major": 2,
       "version_minor": 0
      },
      "text/plain": [
       "Validation: |                                                                                                 …"
      ]
     },
     "metadata": {},
     "output_type": "display_data"
    },
    {
     "name": "stdout",
     "output_type": "stream",
     "text": [
      "key = 'regression'\n",
      "x.size() = torch.Size([64, 1000])\n",
      "validation: output.size() = torch.Size([64, 1])\n",
      "key = 'classification'\n",
      "validation: output.size() = torch.Size([64, 1000])\n",
      "x.size() = torch.Size([64, 1000])\n",
      "output.size() = torch.Size([64, 1])\n",
      "output.size() = torch.Size([64, 1000])\n"
     ]
    },
    {
     "data": {
      "application/vnd.jupyter.widget-view+json": {
       "model_id": "",
       "version_major": 2,
       "version_minor": 0
      },
      "text/plain": [
       "Validation: |                                                                                                 …"
      ]
     },
     "metadata": {},
     "output_type": "display_data"
    },
    {
     "name": "stdout",
     "output_type": "stream",
     "text": [
      "key = 'regression'\n",
      "x.size() = torch.Size([64, 1000])\n",
      "validation: output.size() = torch.Size([64, 1])\n",
      "key = 'classification'\n",
      "validation: output.size() = torch.Size([64, 1000])\n",
      "x.size() = torch.Size([64, 1000])\n",
      "output.size() = torch.Size([64, 1])\n",
      "output.size() = torch.Size([64, 1000])\n"
     ]
    },
    {
     "data": {
      "application/vnd.jupyter.widget-view+json": {
       "model_id": "",
       "version_major": 2,
       "version_minor": 0
      },
      "text/plain": [
       "Validation: |                                                                                                 …"
      ]
     },
     "metadata": {},
     "output_type": "display_data"
    },
    {
     "name": "stdout",
     "output_type": "stream",
     "text": [
      "key = 'regression'\n",
      "x.size() = torch.Size([64, 1000])\n",
      "validation: output.size() = torch.Size([64, 1])\n",
      "key = 'classification'\n",
      "validation: output.size() = torch.Size([64, 1000])\n",
      "x.size() = torch.Size([64, 1000])\n",
      "output.size() = torch.Size([64, 1])\n",
      "output.size() = torch.Size([64, 1000])\n"
     ]
    },
    {
     "data": {
      "application/vnd.jupyter.widget-view+json": {
       "model_id": "",
       "version_major": 2,
       "version_minor": 0
      },
      "text/plain": [
       "Validation: |                                                                                                 …"
      ]
     },
     "metadata": {},
     "output_type": "display_data"
    },
    {
     "name": "stdout",
     "output_type": "stream",
     "text": [
      "key = 'regression'\n",
      "x.size() = torch.Size([64, 1000])\n",
      "validation: output.size() = torch.Size([64, 1])\n",
      "key = 'classification'\n",
      "validation: output.size() = torch.Size([64, 1000])\n",
      "x.size() = torch.Size([64, 1000])\n",
      "output.size() = torch.Size([64, 1])\n",
      "output.size() = torch.Size([64, 1000])\n"
     ]
    },
    {
     "data": {
      "application/vnd.jupyter.widget-view+json": {
       "model_id": "",
       "version_major": 2,
       "version_minor": 0
      },
      "text/plain": [
       "Validation: |                                                                                                 …"
      ]
     },
     "metadata": {},
     "output_type": "display_data"
    },
    {
     "name": "stdout",
     "output_type": "stream",
     "text": [
      "key = 'regression'\n",
      "x.size() = torch.Size([64, 1000])\n",
      "validation: output.size() = torch.Size([64, 1])\n",
      "key = 'classification'\n",
      "validation: output.size() = torch.Size([64, 1000])\n",
      "x.size() = torch.Size([64, 1000])\n",
      "output.size() = torch.Size([64, 1])\n",
      "output.size() = torch.Size([64, 1000])\n"
     ]
    },
    {
     "data": {
      "application/vnd.jupyter.widget-view+json": {
       "model_id": "",
       "version_major": 2,
       "version_minor": 0
      },
      "text/plain": [
       "Validation: |                                                                                                 …"
      ]
     },
     "metadata": {},
     "output_type": "display_data"
    },
    {
     "name": "stdout",
     "output_type": "stream",
     "text": [
      "key = 'regression'\n",
      "x.size() = torch.Size([64, 1000])\n",
      "validation: output.size() = torch.Size([64, 1])\n",
      "key = 'classification'\n",
      "validation: output.size() = torch.Size([64, 1000])\n",
      "x.size() = torch.Size([64, 1000])\n",
      "output.size() = torch.Size([64, 1])\n",
      "output.size() = torch.Size([64, 1000])\n"
     ]
    },
    {
     "data": {
      "application/vnd.jupyter.widget-view+json": {
       "model_id": "",
       "version_major": 2,
       "version_minor": 0
      },
      "text/plain": [
       "Validation: |                                                                                                 …"
      ]
     },
     "metadata": {},
     "output_type": "display_data"
    },
    {
     "name": "stdout",
     "output_type": "stream",
     "text": [
      "key = 'regression'\n",
      "x.size() = torch.Size([64, 1000])\n",
      "validation: output.size() = torch.Size([64, 1])\n",
      "key = 'classification'\n",
      "validation: output.size() = torch.Size([64, 1000])\n",
      "x.size() = torch.Size([64, 1000])\n",
      "output.size() = torch.Size([64, 1])\n",
      "output.size() = torch.Size([64, 1000])\n"
     ]
    },
    {
     "data": {
      "application/vnd.jupyter.widget-view+json": {
       "model_id": "",
       "version_major": 2,
       "version_minor": 0
      },
      "text/plain": [
       "Validation: |                                                                                                 …"
      ]
     },
     "metadata": {},
     "output_type": "display_data"
    },
    {
     "name": "stdout",
     "output_type": "stream",
     "text": [
      "key = 'regression'\n",
      "x.size() = torch.Size([64, 1000])\n",
      "validation: output.size() = torch.Size([64, 1])\n",
      "key = 'classification'\n",
      "validation: output.size() = torch.Size([64, 1000])\n",
      "x.size() = torch.Size([64, 1000])\n",
      "output.size() = torch.Size([64, 1])\n",
      "output.size() = torch.Size([64, 1000])\n"
     ]
    },
    {
     "data": {
      "application/vnd.jupyter.widget-view+json": {
       "model_id": "",
       "version_major": 2,
       "version_minor": 0
      },
      "text/plain": [
       "Validation: |                                                                                                 …"
      ]
     },
     "metadata": {},
     "output_type": "display_data"
    },
    {
     "name": "stdout",
     "output_type": "stream",
     "text": [
      "key = 'regression'\n",
      "x.size() = torch.Size([64, 1000])\n",
      "validation: output.size() = torch.Size([64, 1])\n",
      "key = 'classification'\n",
      "validation: output.size() = torch.Size([64, 1000])\n",
      "x.size() = torch.Size([64, 1000])\n",
      "output.size() = torch.Size([64, 1])\n",
      "output.size() = torch.Size([64, 1000])\n"
     ]
    },
    {
     "data": {
      "application/vnd.jupyter.widget-view+json": {
       "model_id": "",
       "version_major": 2,
       "version_minor": 0
      },
      "text/plain": [
       "Validation: |                                                                                                 …"
      ]
     },
     "metadata": {},
     "output_type": "display_data"
    },
    {
     "name": "stdout",
     "output_type": "stream",
     "text": [
      "key = 'regression'\n",
      "x.size() = torch.Size([64, 1000])\n",
      "validation: output.size() = torch.Size([64, 1])\n",
      "key = 'classification'\n",
      "validation: output.size() = torch.Size([64, 1000])\n",
      "x.size() = torch.Size([64, 1000])\n",
      "output.size() = torch.Size([64, 1])\n",
      "output.size() = torch.Size([64, 1000])\n"
     ]
    },
    {
     "data": {
      "application/vnd.jupyter.widget-view+json": {
       "model_id": "",
       "version_major": 2,
       "version_minor": 0
      },
      "text/plain": [
       "Validation: |                                                                                                 …"
      ]
     },
     "metadata": {},
     "output_type": "display_data"
    },
    {
     "name": "stdout",
     "output_type": "stream",
     "text": [
      "key = 'regression'\n",
      "x.size() = torch.Size([64, 1000])\n",
      "validation: output.size() = torch.Size([64, 1])\n",
      "key = 'classification'\n",
      "validation: output.size() = torch.Size([64, 1000])\n",
      "x.size() = torch.Size([64, 1000])\n",
      "output.size() = torch.Size([64, 1])\n",
      "output.size() = torch.Size([64, 1000])\n"
     ]
    },
    {
     "data": {
      "application/vnd.jupyter.widget-view+json": {
       "model_id": "",
       "version_major": 2,
       "version_minor": 0
      },
      "text/plain": [
       "Validation: |                                                                                                 …"
      ]
     },
     "metadata": {},
     "output_type": "display_data"
    },
    {
     "name": "stdout",
     "output_type": "stream",
     "text": [
      "key = 'regression'\n",
      "x.size() = torch.Size([64, 1000])\n",
      "validation: output.size() = torch.Size([64, 1])\n",
      "key = 'classification'\n",
      "validation: output.size() = torch.Size([64, 1000])\n",
      "x.size() = torch.Size([64, 1000])\n",
      "output.size() = torch.Size([64, 1])\n",
      "output.size() = torch.Size([64, 1000])\n"
     ]
    },
    {
     "data": {
      "application/vnd.jupyter.widget-view+json": {
       "model_id": "",
       "version_major": 2,
       "version_minor": 0
      },
      "text/plain": [
       "Validation: |                                                                                                 …"
      ]
     },
     "metadata": {},
     "output_type": "display_data"
    },
    {
     "name": "stdout",
     "output_type": "stream",
     "text": [
      "key = 'regression'\n",
      "x.size() = torch.Size([64, 1000])\n",
      "validation: output.size() = torch.Size([64, 1])\n",
      "key = 'classification'\n",
      "validation: output.size() = torch.Size([64, 1000])\n",
      "x.size() = torch.Size([64, 1000])\n",
      "output.size() = torch.Size([64, 1])\n",
      "output.size() = torch.Size([64, 1000])\n"
     ]
    },
    {
     "data": {
      "application/vnd.jupyter.widget-view+json": {
       "model_id": "",
       "version_major": 2,
       "version_minor": 0
      },
      "text/plain": [
       "Validation: |                                                                                                 …"
      ]
     },
     "metadata": {},
     "output_type": "display_data"
    },
    {
     "name": "stdout",
     "output_type": "stream",
     "text": [
      "key = 'regression'\n",
      "x.size() = torch.Size([64, 1000])\n",
      "validation: output.size() = torch.Size([64, 1])\n",
      "key = 'classification'\n",
      "validation: output.size() = torch.Size([64, 1000])\n",
      "x.size() = torch.Size([64, 1000])\n",
      "output.size() = torch.Size([64, 1])\n",
      "output.size() = torch.Size([64, 1000])\n"
     ]
    },
    {
     "data": {
      "application/vnd.jupyter.widget-view+json": {
       "model_id": "",
       "version_major": 2,
       "version_minor": 0
      },
      "text/plain": [
       "Validation: |                                                                                                 …"
      ]
     },
     "metadata": {},
     "output_type": "display_data"
    },
    {
     "name": "stdout",
     "output_type": "stream",
     "text": [
      "key = 'regression'\n",
      "x.size() = torch.Size([64, 1000])\n",
      "validation: output.size() = torch.Size([64, 1])\n",
      "key = 'classification'\n",
      "validation: output.size() = torch.Size([64, 1000])\n",
      "x.size() = torch.Size([64, 1000])\n",
      "output.size() = torch.Size([64, 1])\n",
      "output.size() = torch.Size([64, 1000])\n"
     ]
    },
    {
     "data": {
      "application/vnd.jupyter.widget-view+json": {
       "model_id": "",
       "version_major": 2,
       "version_minor": 0
      },
      "text/plain": [
       "Validation: |                                                                                                 …"
      ]
     },
     "metadata": {},
     "output_type": "display_data"
    },
    {
     "name": "stdout",
     "output_type": "stream",
     "text": [
      "key = 'regression'\n",
      "x.size() = torch.Size([64, 1000])\n",
      "validation: output.size() = torch.Size([64, 1])\n",
      "key = 'classification'\n",
      "validation: output.size() = torch.Size([64, 1000])\n",
      "x.size() = torch.Size([64, 1000])\n",
      "output.size() = torch.Size([64, 1])\n",
      "output.size() = torch.Size([64, 1000])\n"
     ]
    },
    {
     "data": {
      "application/vnd.jupyter.widget-view+json": {
       "model_id": "",
       "version_major": 2,
       "version_minor": 0
      },
      "text/plain": [
       "Validation: |                                                                                                 …"
      ]
     },
     "metadata": {},
     "output_type": "display_data"
    },
    {
     "name": "stdout",
     "output_type": "stream",
     "text": [
      "key = 'regression'\n",
      "x.size() = torch.Size([64, 1000])\n",
      "validation: output.size() = torch.Size([64, 1])\n",
      "key = 'classification'\n",
      "validation: output.size() = torch.Size([64, 1000])\n",
      "x.size() = torch.Size([64, 1000])\n",
      "output.size() = torch.Size([64, 1])\n",
      "output.size() = torch.Size([64, 1000])\n"
     ]
    },
    {
     "data": {
      "application/vnd.jupyter.widget-view+json": {
       "model_id": "",
       "version_major": 2,
       "version_minor": 0
      },
      "text/plain": [
       "Validation: |                                                                                                 …"
      ]
     },
     "metadata": {},
     "output_type": "display_data"
    },
    {
     "name": "stdout",
     "output_type": "stream",
     "text": [
      "key = 'regression'\n",
      "x.size() = torch.Size([64, 1000])\n",
      "validation: output.size() = torch.Size([64, 1])\n",
      "key = 'classification'\n",
      "validation: output.size() = torch.Size([64, 1000])\n",
      "x.size() = torch.Size([64, 1000])\n",
      "output.size() = torch.Size([64, 1])\n",
      "output.size() = torch.Size([64, 1000])\n"
     ]
    },
    {
     "data": {
      "application/vnd.jupyter.widget-view+json": {
       "model_id": "",
       "version_major": 2,
       "version_minor": 0
      },
      "text/plain": [
       "Validation: |                                                                                                 …"
      ]
     },
     "metadata": {},
     "output_type": "display_data"
    },
    {
     "name": "stdout",
     "output_type": "stream",
     "text": [
      "key = 'regression'\n",
      "x.size() = torch.Size([64, 1000])\n",
      "validation: output.size() = torch.Size([64, 1])\n",
      "key = 'classification'\n",
      "validation: output.size() = torch.Size([64, 1000])\n",
      "x.size() = torch.Size([64, 1000])\n",
      "output.size() = torch.Size([64, 1])\n",
      "output.size() = torch.Size([64, 1000])\n"
     ]
    },
    {
     "data": {
      "application/vnd.jupyter.widget-view+json": {
       "model_id": "",
       "version_major": 2,
       "version_minor": 0
      },
      "text/plain": [
       "Validation: |                                                                                                 …"
      ]
     },
     "metadata": {},
     "output_type": "display_data"
    },
    {
     "name": "stdout",
     "output_type": "stream",
     "text": [
      "key = 'regression'\n",
      "x.size() = torch.Size([64, 1000])\n",
      "validation: output.size() = torch.Size([64, 1])\n",
      "key = 'classification'\n",
      "validation: output.size() = torch.Size([64, 1000])\n",
      "x.size() = torch.Size([64, 1000])\n",
      "output.size() = torch.Size([64, 1])\n",
      "output.size() = torch.Size([64, 1000])\n"
     ]
    },
    {
     "data": {
      "application/vnd.jupyter.widget-view+json": {
       "model_id": "",
       "version_major": 2,
       "version_minor": 0
      },
      "text/plain": [
       "Validation: |                                                                                                 …"
      ]
     },
     "metadata": {},
     "output_type": "display_data"
    },
    {
     "name": "stdout",
     "output_type": "stream",
     "text": [
      "key = 'regression'\n",
      "x.size() = torch.Size([64, 1000])\n",
      "validation: output.size() = torch.Size([64, 1])\n",
      "key = 'classification'\n",
      "validation: output.size() = torch.Size([64, 1000])\n",
      "x.size() = torch.Size([64, 1000])\n",
      "output.size() = torch.Size([64, 1])\n",
      "output.size() = torch.Size([64, 1000])\n"
     ]
    },
    {
     "data": {
      "application/vnd.jupyter.widget-view+json": {
       "model_id": "",
       "version_major": 2,
       "version_minor": 0
      },
      "text/plain": [
       "Validation: |                                                                                                 …"
      ]
     },
     "metadata": {},
     "output_type": "display_data"
    },
    {
     "name": "stdout",
     "output_type": "stream",
     "text": [
      "key = 'regression'\n",
      "x.size() = torch.Size([64, 1000])\n",
      "validation: output.size() = torch.Size([64, 1])\n",
      "key = 'classification'\n",
      "validation: output.size() = torch.Size([64, 1000])\n",
      "x.size() = torch.Size([64, 1000])\n",
      "output.size() = torch.Size([64, 1])\n",
      "output.size() = torch.Size([64, 1000])\n"
     ]
    },
    {
     "data": {
      "application/vnd.jupyter.widget-view+json": {
       "model_id": "",
       "version_major": 2,
       "version_minor": 0
      },
      "text/plain": [
       "Validation: |                                                                                                 …"
      ]
     },
     "metadata": {},
     "output_type": "display_data"
    },
    {
     "name": "stdout",
     "output_type": "stream",
     "text": [
      "key = 'regression'\n",
      "x.size() = torch.Size([64, 1000])\n",
      "validation: output.size() = torch.Size([64, 1])\n",
      "key = 'classification'\n",
      "validation: output.size() = torch.Size([64, 1000])\n",
      "x.size() = torch.Size([64, 1000])\n",
      "output.size() = torch.Size([64, 1])\n",
      "output.size() = torch.Size([64, 1000])\n"
     ]
    },
    {
     "data": {
      "application/vnd.jupyter.widget-view+json": {
       "model_id": "",
       "version_major": 2,
       "version_minor": 0
      },
      "text/plain": [
       "Validation: |                                                                                                 …"
      ]
     },
     "metadata": {},
     "output_type": "display_data"
    },
    {
     "name": "stdout",
     "output_type": "stream",
     "text": [
      "key = 'regression'\n",
      "x.size() = torch.Size([64, 1000])\n",
      "validation: output.size() = torch.Size([64, 1])\n",
      "key = 'classification'\n",
      "validation: output.size() = torch.Size([64, 1000])\n",
      "x.size() = torch.Size([64, 1000])\n",
      "output.size() = torch.Size([64, 1])\n",
      "output.size() = torch.Size([64, 1000])\n"
     ]
    },
    {
     "data": {
      "application/vnd.jupyter.widget-view+json": {
       "model_id": "",
       "version_major": 2,
       "version_minor": 0
      },
      "text/plain": [
       "Validation: |                                                                                                 …"
      ]
     },
     "metadata": {},
     "output_type": "display_data"
    },
    {
     "name": "stdout",
     "output_type": "stream",
     "text": [
      "key = 'regression'\n",
      "x.size() = torch.Size([64, 1000])\n",
      "validation: output.size() = torch.Size([64, 1])\n",
      "key = 'classification'\n",
      "validation: output.size() = torch.Size([64, 1000])\n",
      "x.size() = torch.Size([64, 1000])\n",
      "output.size() = torch.Size([64, 1])\n",
      "output.size() = torch.Size([64, 1000])\n"
     ]
    },
    {
     "data": {
      "application/vnd.jupyter.widget-view+json": {
       "model_id": "",
       "version_major": 2,
       "version_minor": 0
      },
      "text/plain": [
       "Validation: |                                                                                                 …"
      ]
     },
     "metadata": {},
     "output_type": "display_data"
    },
    {
     "name": "stdout",
     "output_type": "stream",
     "text": [
      "key = 'regression'\n",
      "x.size() = torch.Size([64, 1000])\n",
      "validation: output.size() = torch.Size([64, 1])\n",
      "key = 'classification'\n",
      "validation: output.size() = torch.Size([64, 1000])\n",
      "x.size() = torch.Size([64, 1000])\n",
      "output.size() = torch.Size([64, 1])\n",
      "output.size() = torch.Size([64, 1000])\n"
     ]
    },
    {
     "data": {
      "application/vnd.jupyter.widget-view+json": {
       "model_id": "",
       "version_major": 2,
       "version_minor": 0
      },
      "text/plain": [
       "Validation: |                                                                                                 …"
      ]
     },
     "metadata": {},
     "output_type": "display_data"
    },
    {
     "name": "stdout",
     "output_type": "stream",
     "text": [
      "key = 'regression'\n",
      "x.size() = torch.Size([64, 1000])\n",
      "validation: output.size() = torch.Size([64, 1])\n",
      "key = 'classification'\n",
      "validation: output.size() = torch.Size([64, 1000])\n",
      "x.size() = torch.Size([64, 1000])\n",
      "output.size() = torch.Size([64, 1])\n",
      "output.size() = torch.Size([64, 1000])\n"
     ]
    },
    {
     "data": {
      "application/vnd.jupyter.widget-view+json": {
       "model_id": "",
       "version_major": 2,
       "version_minor": 0
      },
      "text/plain": [
       "Validation: |                                                                                                 …"
      ]
     },
     "metadata": {},
     "output_type": "display_data"
    },
    {
     "name": "stdout",
     "output_type": "stream",
     "text": [
      "key = 'regression'\n",
      "x.size() = torch.Size([64, 1000])\n",
      "validation: output.size() = torch.Size([64, 1])\n",
      "key = 'classification'\n",
      "validation: output.size() = torch.Size([64, 1000])\n",
      "x.size() = torch.Size([64, 1000])\n",
      "output.size() = torch.Size([64, 1])\n",
      "output.size() = torch.Size([64, 1000])\n"
     ]
    },
    {
     "data": {
      "application/vnd.jupyter.widget-view+json": {
       "model_id": "",
       "version_major": 2,
       "version_minor": 0
      },
      "text/plain": [
       "Validation: |                                                                                                 …"
      ]
     },
     "metadata": {},
     "output_type": "display_data"
    },
    {
     "name": "stdout",
     "output_type": "stream",
     "text": [
      "key = 'regression'\n",
      "x.size() = torch.Size([64, 1000])\n",
      "validation: output.size() = torch.Size([64, 1])\n",
      "key = 'classification'\n",
      "validation: output.size() = torch.Size([64, 1000])\n",
      "x.size() = torch.Size([64, 1000])\n",
      "output.size() = torch.Size([64, 1])\n",
      "output.size() = torch.Size([64, 1000])\n"
     ]
    },
    {
     "data": {
      "application/vnd.jupyter.widget-view+json": {
       "model_id": "",
       "version_major": 2,
       "version_minor": 0
      },
      "text/plain": [
       "Validation: |                                                                                                 …"
      ]
     },
     "metadata": {},
     "output_type": "display_data"
    },
    {
     "name": "stdout",
     "output_type": "stream",
     "text": [
      "key = 'regression'\n",
      "x.size() = torch.Size([64, 1000])\n",
      "validation: output.size() = torch.Size([64, 1])\n",
      "key = 'classification'\n",
      "validation: output.size() = torch.Size([64, 1000])\n",
      "x.size() = torch.Size([64, 1000])\n",
      "output.size() = torch.Size([64, 1])\n",
      "output.size() = torch.Size([64, 1000])\n"
     ]
    },
    {
     "data": {
      "application/vnd.jupyter.widget-view+json": {
       "model_id": "",
       "version_major": 2,
       "version_minor": 0
      },
      "text/plain": [
       "Validation: |                                                                                                 …"
      ]
     },
     "metadata": {},
     "output_type": "display_data"
    },
    {
     "name": "stdout",
     "output_type": "stream",
     "text": [
      "key = 'regression'\n",
      "x.size() = torch.Size([64, 1000])\n",
      "validation: output.size() = torch.Size([64, 1])\n",
      "key = 'classification'\n",
      "validation: output.size() = torch.Size([64, 1000])\n",
      "x.size() = torch.Size([64, 1000])\n",
      "output.size() = torch.Size([64, 1])\n",
      "output.size() = torch.Size([64, 1000])\n"
     ]
    },
    {
     "data": {
      "application/vnd.jupyter.widget-view+json": {
       "model_id": "",
       "version_major": 2,
       "version_minor": 0
      },
      "text/plain": [
       "Validation: |                                                                                                 …"
      ]
     },
     "metadata": {},
     "output_type": "display_data"
    },
    {
     "name": "stdout",
     "output_type": "stream",
     "text": [
      "key = 'regression'\n",
      "x.size() = torch.Size([64, 1000])\n",
      "validation: output.size() = torch.Size([64, 1])\n",
      "key = 'classification'\n",
      "validation: output.size() = torch.Size([64, 1000])\n",
      "x.size() = torch.Size([64, 1000])\n",
      "output.size() = torch.Size([64, 1])\n",
      "output.size() = torch.Size([64, 1000])\n"
     ]
    },
    {
     "data": {
      "application/vnd.jupyter.widget-view+json": {
       "model_id": "",
       "version_major": 2,
       "version_minor": 0
      },
      "text/plain": [
       "Validation: |                                                                                                 …"
      ]
     },
     "metadata": {},
     "output_type": "display_data"
    },
    {
     "name": "stdout",
     "output_type": "stream",
     "text": [
      "key = 'regression'\n",
      "x.size() = torch.Size([64, 1000])\n",
      "validation: output.size() = torch.Size([64, 1])\n",
      "key = 'classification'\n",
      "validation: output.size() = torch.Size([64, 1000])\n",
      "x.size() = torch.Size([64, 1000])\n",
      "output.size() = torch.Size([64, 1])\n",
      "output.size() = torch.Size([64, 1000])\n"
     ]
    },
    {
     "data": {
      "application/vnd.jupyter.widget-view+json": {
       "model_id": "",
       "version_major": 2,
       "version_minor": 0
      },
      "text/plain": [
       "Validation: |                                                                                                 …"
      ]
     },
     "metadata": {},
     "output_type": "display_data"
    },
    {
     "name": "stdout",
     "output_type": "stream",
     "text": [
      "key = 'regression'\n",
      "x.size() = torch.Size([64, 1000])\n",
      "validation: output.size() = torch.Size([64, 1])\n",
      "key = 'classification'\n",
      "validation: output.size() = torch.Size([64, 1000])\n",
      "x.size() = torch.Size([64, 1000])\n",
      "output.size() = torch.Size([64, 1])\n",
      "output.size() = torch.Size([64, 1000])\n"
     ]
    },
    {
     "data": {
      "application/vnd.jupyter.widget-view+json": {
       "model_id": "",
       "version_major": 2,
       "version_minor": 0
      },
      "text/plain": [
       "Validation: |                                                                                                 …"
      ]
     },
     "metadata": {},
     "output_type": "display_data"
    },
    {
     "name": "stdout",
     "output_type": "stream",
     "text": [
      "key = 'regression'\n",
      "x.size() = torch.Size([64, 1000])\n",
      "validation: output.size() = torch.Size([64, 1])\n",
      "key = 'classification'\n",
      "validation: output.size() = torch.Size([64, 1000])\n",
      "x.size() = torch.Size([64, 1000])\n",
      "output.size() = torch.Size([64, 1])\n",
      "output.size() = torch.Size([64, 1000])\n"
     ]
    },
    {
     "data": {
      "application/vnd.jupyter.widget-view+json": {
       "model_id": "",
       "version_major": 2,
       "version_minor": 0
      },
      "text/plain": [
       "Validation: |                                                                                                 …"
      ]
     },
     "metadata": {},
     "output_type": "display_data"
    },
    {
     "name": "stdout",
     "output_type": "stream",
     "text": [
      "key = 'regression'\n",
      "x.size() = torch.Size([64, 1000])\n",
      "validation: output.size() = torch.Size([64, 1])\n",
      "key = 'classification'\n",
      "validation: output.size() = torch.Size([64, 1000])\n",
      "x.size() = torch.Size([64, 1000])\n",
      "output.size() = torch.Size([64, 1])\n",
      "output.size() = torch.Size([64, 1000])\n"
     ]
    },
    {
     "data": {
      "application/vnd.jupyter.widget-view+json": {
       "model_id": "",
       "version_major": 2,
       "version_minor": 0
      },
      "text/plain": [
       "Validation: |                                                                                                 …"
      ]
     },
     "metadata": {},
     "output_type": "display_data"
    },
    {
     "name": "stdout",
     "output_type": "stream",
     "text": [
      "key = 'regression'\n",
      "x.size() = torch.Size([64, 1000])\n",
      "validation: output.size() = torch.Size([64, 1])\n",
      "key = 'classification'\n",
      "validation: output.size() = torch.Size([64, 1000])\n",
      "x.size() = torch.Size([64, 1000])\n",
      "output.size() = torch.Size([64, 1])\n",
      "output.size() = torch.Size([64, 1000])\n"
     ]
    },
    {
     "data": {
      "application/vnd.jupyter.widget-view+json": {
       "model_id": "",
       "version_major": 2,
       "version_minor": 0
      },
      "text/plain": [
       "Validation: |                                                                                                 …"
      ]
     },
     "metadata": {},
     "output_type": "display_data"
    },
    {
     "name": "stdout",
     "output_type": "stream",
     "text": [
      "key = 'regression'\n",
      "x.size() = torch.Size([64, 1000])\n",
      "validation: output.size() = torch.Size([64, 1])\n",
      "key = 'classification'\n",
      "validation: output.size() = torch.Size([64, 1000])\n",
      "x.size() = torch.Size([64, 1000])\n",
      "output.size() = torch.Size([64, 1])\n",
      "output.size() = torch.Size([64, 1000])\n"
     ]
    },
    {
     "data": {
      "application/vnd.jupyter.widget-view+json": {
       "model_id": "",
       "version_major": 2,
       "version_minor": 0
      },
      "text/plain": [
       "Validation: |                                                                                                 …"
      ]
     },
     "metadata": {},
     "output_type": "display_data"
    },
    {
     "name": "stdout",
     "output_type": "stream",
     "text": [
      "key = 'regression'\n",
      "x.size() = torch.Size([64, 1000])\n",
      "validation: output.size() = torch.Size([64, 1])\n",
      "key = 'classification'\n",
      "validation: output.size() = torch.Size([64, 1000])\n",
      "x.size() = torch.Size([64, 1000])\n",
      "output.size() = torch.Size([64, 1])\n",
      "output.size() = torch.Size([64, 1000])\n"
     ]
    },
    {
     "data": {
      "application/vnd.jupyter.widget-view+json": {
       "model_id": "",
       "version_major": 2,
       "version_minor": 0
      },
      "text/plain": [
       "Validation: |                                                                                                 …"
      ]
     },
     "metadata": {},
     "output_type": "display_data"
    },
    {
     "name": "stdout",
     "output_type": "stream",
     "text": [
      "key = 'regression'\n",
      "x.size() = torch.Size([64, 1000])\n",
      "validation: output.size() = torch.Size([64, 1])\n",
      "key = 'classification'\n",
      "validation: output.size() = torch.Size([64, 1000])\n",
      "x.size() = torch.Size([64, 1000])\n",
      "output.size() = torch.Size([64, 1])\n",
      "output.size() = torch.Size([64, 1000])\n"
     ]
    },
    {
     "data": {
      "application/vnd.jupyter.widget-view+json": {
       "model_id": "",
       "version_major": 2,
       "version_minor": 0
      },
      "text/plain": [
       "Validation: |                                                                                                 …"
      ]
     },
     "metadata": {},
     "output_type": "display_data"
    },
    {
     "name": "stdout",
     "output_type": "stream",
     "text": [
      "key = 'regression'\n",
      "x.size() = torch.Size([64, 1000])\n",
      "validation: output.size() = torch.Size([64, 1])\n",
      "key = 'classification'\n",
      "validation: output.size() = torch.Size([64, 1000])\n",
      "x.size() = torch.Size([64, 1000])\n",
      "output.size() = torch.Size([64, 1])\n",
      "output.size() = torch.Size([64, 1000])\n"
     ]
    },
    {
     "data": {
      "application/vnd.jupyter.widget-view+json": {
       "model_id": "",
       "version_major": 2,
       "version_minor": 0
      },
      "text/plain": [
       "Validation: |                                                                                                 …"
      ]
     },
     "metadata": {},
     "output_type": "display_data"
    },
    {
     "name": "stdout",
     "output_type": "stream",
     "text": [
      "key = 'regression'\n",
      "x.size() = torch.Size([64, 1000])\n",
      "validation: output.size() = torch.Size([64, 1])\n",
      "key = 'classification'\n",
      "validation: output.size() = torch.Size([64, 1000])\n",
      "x.size() = torch.Size([64, 1000])\n",
      "output.size() = torch.Size([64, 1])\n",
      "output.size() = torch.Size([64, 1000])\n"
     ]
    },
    {
     "data": {
      "application/vnd.jupyter.widget-view+json": {
       "model_id": "",
       "version_major": 2,
       "version_minor": 0
      },
      "text/plain": [
       "Validation: |                                                                                                 …"
      ]
     },
     "metadata": {},
     "output_type": "display_data"
    },
    {
     "name": "stdout",
     "output_type": "stream",
     "text": [
      "key = 'regression'\n",
      "x.size() = torch.Size([64, 1000])\n",
      "validation: output.size() = torch.Size([64, 1])\n",
      "key = 'classification'\n",
      "validation: output.size() = torch.Size([64, 1000])\n",
      "x.size() = torch.Size([64, 1000])\n",
      "output.size() = torch.Size([64, 1])\n",
      "output.size() = torch.Size([64, 1000])\n"
     ]
    },
    {
     "data": {
      "application/vnd.jupyter.widget-view+json": {
       "model_id": "",
       "version_major": 2,
       "version_minor": 0
      },
      "text/plain": [
       "Validation: |                                                                                                 …"
      ]
     },
     "metadata": {},
     "output_type": "display_data"
    },
    {
     "name": "stdout",
     "output_type": "stream",
     "text": [
      "key = 'regression'\n",
      "x.size() = torch.Size([64, 1000])\n",
      "validation: output.size() = torch.Size([64, 1])\n",
      "key = 'classification'\n",
      "validation: output.size() = torch.Size([64, 1000])\n",
      "x.size() = torch.Size([64, 1000])\n",
      "output.size() = torch.Size([64, 1])\n",
      "output.size() = torch.Size([64, 1000])\n"
     ]
    },
    {
     "data": {
      "application/vnd.jupyter.widget-view+json": {
       "model_id": "",
       "version_major": 2,
       "version_minor": 0
      },
      "text/plain": [
       "Validation: |                                                                                                 …"
      ]
     },
     "metadata": {},
     "output_type": "display_data"
    },
    {
     "name": "stdout",
     "output_type": "stream",
     "text": [
      "key = 'regression'\n",
      "x.size() = torch.Size([64, 1000])\n",
      "validation: output.size() = torch.Size([64, 1])\n",
      "key = 'classification'\n",
      "validation: output.size() = torch.Size([64, 1000])\n",
      "x.size() = torch.Size([64, 1000])\n",
      "output.size() = torch.Size([64, 1])\n",
      "output.size() = torch.Size([64, 1000])\n"
     ]
    },
    {
     "data": {
      "application/vnd.jupyter.widget-view+json": {
       "model_id": "",
       "version_major": 2,
       "version_minor": 0
      },
      "text/plain": [
       "Validation: |                                                                                                 …"
      ]
     },
     "metadata": {},
     "output_type": "display_data"
    },
    {
     "name": "stdout",
     "output_type": "stream",
     "text": [
      "key = 'regression'\n",
      "x.size() = torch.Size([64, 1000])\n",
      "validation: output.size() = torch.Size([64, 1])\n",
      "key = 'classification'\n",
      "validation: output.size() = torch.Size([64, 1000])\n",
      "x.size() = torch.Size([64, 1000])\n",
      "output.size() = torch.Size([64, 1])\n",
      "output.size() = torch.Size([64, 1000])\n"
     ]
    },
    {
     "data": {
      "application/vnd.jupyter.widget-view+json": {
       "model_id": "",
       "version_major": 2,
       "version_minor": 0
      },
      "text/plain": [
       "Validation: |                                                                                                 …"
      ]
     },
     "metadata": {},
     "output_type": "display_data"
    },
    {
     "name": "stdout",
     "output_type": "stream",
     "text": [
      "key = 'regression'\n",
      "x.size() = torch.Size([64, 1000])\n",
      "validation: output.size() = torch.Size([64, 1])\n",
      "key = 'classification'\n",
      "validation: output.size() = torch.Size([64, 1000])\n",
      "x.size() = torch.Size([64, 1000])\n",
      "output.size() = torch.Size([64, 1])\n",
      "output.size() = torch.Size([64, 1000])\n"
     ]
    },
    {
     "data": {
      "application/vnd.jupyter.widget-view+json": {
       "model_id": "",
       "version_major": 2,
       "version_minor": 0
      },
      "text/plain": [
       "Validation: |                                                                                                 …"
      ]
     },
     "metadata": {},
     "output_type": "display_data"
    },
    {
     "name": "stdout",
     "output_type": "stream",
     "text": [
      "key = 'regression'\n",
      "x.size() = torch.Size([64, 1000])\n",
      "validation: output.size() = torch.Size([64, 1])\n",
      "key = 'classification'\n",
      "validation: output.size() = torch.Size([64, 1000])\n",
      "x.size() = torch.Size([64, 1000])\n",
      "output.size() = torch.Size([64, 1])\n",
      "output.size() = torch.Size([64, 1000])\n"
     ]
    },
    {
     "data": {
      "application/vnd.jupyter.widget-view+json": {
       "model_id": "",
       "version_major": 2,
       "version_minor": 0
      },
      "text/plain": [
       "Validation: |                                                                                                 …"
      ]
     },
     "metadata": {},
     "output_type": "display_data"
    },
    {
     "name": "stdout",
     "output_type": "stream",
     "text": [
      "key = 'regression'\n",
      "x.size() = torch.Size([64, 1000])\n",
      "validation: output.size() = torch.Size([64, 1])\n",
      "key = 'classification'\n",
      "validation: output.size() = torch.Size([64, 1000])\n",
      "x.size() = torch.Size([64, 1000])\n",
      "output.size() = torch.Size([64, 1])\n",
      "output.size() = torch.Size([64, 1000])\n"
     ]
    },
    {
     "data": {
      "application/vnd.jupyter.widget-view+json": {
       "model_id": "",
       "version_major": 2,
       "version_minor": 0
      },
      "text/plain": [
       "Validation: |                                                                                                 …"
      ]
     },
     "metadata": {},
     "output_type": "display_data"
    },
    {
     "name": "stdout",
     "output_type": "stream",
     "text": [
      "key = 'regression'\n",
      "x.size() = torch.Size([64, 1000])\n",
      "validation: output.size() = torch.Size([64, 1])\n",
      "key = 'classification'\n",
      "validation: output.size() = torch.Size([64, 1000])\n",
      "x.size() = torch.Size([64, 1000])\n",
      "output.size() = torch.Size([64, 1])\n",
      "output.size() = torch.Size([64, 1000])\n"
     ]
    },
    {
     "data": {
      "application/vnd.jupyter.widget-view+json": {
       "model_id": "",
       "version_major": 2,
       "version_minor": 0
      },
      "text/plain": [
       "Validation: |                                                                                                 …"
      ]
     },
     "metadata": {},
     "output_type": "display_data"
    },
    {
     "name": "stdout",
     "output_type": "stream",
     "text": [
      "key = 'regression'\n",
      "x.size() = torch.Size([64, 1000])\n",
      "validation: output.size() = torch.Size([64, 1])\n",
      "key = 'classification'\n",
      "validation: output.size() = torch.Size([64, 1000])\n",
      "x.size() = torch.Size([64, 1000])\n",
      "output.size() = torch.Size([64, 1])\n",
      "output.size() = torch.Size([64, 1000])\n"
     ]
    },
    {
     "data": {
      "application/vnd.jupyter.widget-view+json": {
       "model_id": "",
       "version_major": 2,
       "version_minor": 0
      },
      "text/plain": [
       "Validation: |                                                                                                 …"
      ]
     },
     "metadata": {},
     "output_type": "display_data"
    },
    {
     "name": "stdout",
     "output_type": "stream",
     "text": [
      "key = 'regression'\n",
      "x.size() = torch.Size([64, 1000])\n",
      "validation: output.size() = torch.Size([64, 1])\n",
      "key = 'classification'\n",
      "validation: output.size() = torch.Size([64, 1000])\n",
      "x.size() = torch.Size([64, 1000])\n",
      "output.size() = torch.Size([64, 1])\n",
      "output.size() = torch.Size([64, 1000])\n"
     ]
    },
    {
     "data": {
      "application/vnd.jupyter.widget-view+json": {
       "model_id": "",
       "version_major": 2,
       "version_minor": 0
      },
      "text/plain": [
       "Validation: |                                                                                                 …"
      ]
     },
     "metadata": {},
     "output_type": "display_data"
    },
    {
     "name": "stdout",
     "output_type": "stream",
     "text": [
      "key = 'regression'\n",
      "x.size() = torch.Size([64, 1000])\n"
     ]
    },
    {
     "name": "stderr",
     "output_type": "stream",
     "text": [
      "`Trainer.fit` stopped: `max_epochs=200` reached.\n"
     ]
    },
    {
     "name": "stdout",
     "output_type": "stream",
     "text": [
      "validation: output.size() = torch.Size([64, 1])\n",
      "key = 'classification'\n",
      "validation: output.size() = torch.Size([64, 1000])\n"
     ]
    }
   ],
   "source": [
    "root_imagenet = \"/datashare/ImageNet/ILSVRC2012\"\n",
    "meta_path_imagenet = (\n",
    "    \"/home/soroush1/projects/def-kohitij/soroush1/pretrain-imagenet/data/ImageNet\"\n",
    ")\n",
    "root_lamem = \"/home/soroush1/projects/def-kohitij/soroush1/pretrain-imagenet/data/lamem/lamem_images/lamem\"\n",
    "batch_size = 1\n",
    "ds = LitCombineDataModule(\n",
    "    root_imagenet=root_imagenet,\n",
    "    meta_path_imagenet=meta_path_imagenet,\n",
    "    root_lamem=root_lamem,\n",
    "    batch_size=64,\n",
    "    mode=\"min_size\",\n",
    "    num_workers=2,\n",
    ")\n",
    "\n",
    "ds.setup(\"TRAIN\")\n",
    "\n",
    "train_loader = ds.train_dataloader()\n",
    "\n",
    "for i, (batch, batch_idx, dataloader_idx) in enumerate(train_loader):\n",
    "    print(f\"{batch.keys()}, {batch_idx=}, {dataloader_idx=}\")\n",
    "\n",
    "    if i == 2:\n",
    "        break\n",
    "\n",
    "num_output_features = 1000\n",
    "model = LitResNet50(\n",
    "    learning_rate=1e-3,\n",
    "    num_output_features=num_output_features,\n",
    "    task=\"classification\",\n",
    ")\n",
    "\n",
    "lr_monitor = LearningRateMonitor(logging_interval=\"epoch\")\n",
    "\n",
    "trainer = Trainer(\n",
    "    max_epochs=200,\n",
    "    # callbacks=[EarlyStopping(monitor=\"val_loss\", mode=\"min\", patience=10)],\n",
    "    # callbacks=[DeviceStatsMonitor(), lr_monitor],\n",
    "    callbacks=[lr_monitor],\n",
    "    fast_dev_run=False,\n",
    "    # devices=[0, 1, 2, 3],\n",
    "    accelerator=\"gpu\",\n",
    "    num_nodes=1,\n",
    "    # strategy=strategy,\n",
    "    overfit_batches=1,\n",
    "    # gradient_clip_val=0.5,\n",
    "    # gradient_clip_algorithm=\"value\",\n",
    "    # logger=tb_logger,\n",
    ")\n",
    "\n",
    "trainer.fit(\n",
    "    model=model,\n",
    "    datamodule=ds,\n",
    ")"
   ]
  },
  {
   "cell_type": "markdown",
   "id": "a83b231e",
   "metadata": {},
   "source": [
    "# Lalem Data Preprocessing"
   ]
  },
  {
   "cell_type": "markdown",
   "id": "286a03b6",
   "metadata": {},
   "source": []
  },
  {
   "cell_type": "code",
   "execution_count": null,
   "id": "ff671d0a",
   "metadata": {},
   "outputs": [],
   "source": [
    "# split_path = \"/home/soroush1/projects/def-kohitij/soroush1/pretrain-imagenet/data/lamem/lamem_images/lamem/splits/\"\n",
    "# splits = list(filter(lambda x: \".txt\" in x, os.listdir(split_path)))\n",
    "\n",
    "# for split in splits:\n",
    "#     results = {\"image_name\": [], \"memo_score\": []}\n",
    "#     with open(os.path.join(split_path, split), \"r\") as f:\n",
    "#         for x in f:\n",
    "#             image_name, mem_score = x.split(\" \")\n",
    "#             results[\"image_name\"].append(image_name.strip())\n",
    "#             results[\"memo_score\"].append(float(mem_score.strip()))\n",
    "\n",
    "#     file_name, _ = split.split(\".\")\n",
    "#     pd.DataFrame(results).to_csv(\n",
    "#         os.path.join(split_path, f\"{file_name}.csv\"), index=False\n",
    "#     )"
   ]
  }
 ],
 "metadata": {
  "kernelspec": {
   "display_name": "Python 3 (ipykernel)",
   "language": "python",
   "name": "python3"
  },
  "language_info": {
   "codemirror_mode": {
    "name": "ipython",
    "version": 3
   },
   "file_extension": ".py",
   "mimetype": "text/x-python",
   "name": "python",
   "nbconvert_exporter": "python",
   "pygments_lexer": "ipython3",
   "version": "3.11.5"
  }
 },
 "nbformat": 4,
 "nbformat_minor": 5
}
