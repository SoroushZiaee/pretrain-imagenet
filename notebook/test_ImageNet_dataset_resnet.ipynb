{
 "cells": [
  {
   "cell_type": "markdown",
   "metadata": {
    "jp-MarkdownHeadingCollapsed": true
   },
   "source": [
    "# Pesudocode"
   ]
  },
  {
   "cell_type": "code",
   "execution_count": null,
   "metadata": {},
   "outputs": [],
   "source": [
    "%load_ext lab_black\n",
    "%load_ext autoreload\n",
    "%autoreload 2"
   ]
  },
  {
   "cell_type": "code",
   "execution_count": null,
   "metadata": {},
   "outputs": [],
   "source": [
    "import sys\n",
    "\n",
    "if not \"..\" in sys.path:\n",
    "    sys.path.append(\"..\")"
   ]
  },
  {
   "cell_type": "code",
   "execution_count": null,
   "metadata": {},
   "outputs": [],
   "source": [
    "import torch\n",
    "\n",
    "from lit_modules.litdatamodules.lit_imagenet import LitImageNetDataModule"
   ]
  },
  {
   "cell_type": "code",
   "execution_count": null,
   "metadata": {
    "scrolled": true
   },
   "outputs": [],
   "source": [
    "from time import time\n",
    "\n",
    "start = time()\n",
    "root = \"/datashare/ImageNet/ILSVRC2012\"\n",
    "meta_path = (\n",
    "    \"/home/soroush1/projects/def-kohitij/soroush1/pretrain-imagenet/data/ImageNet\"\n",
    ")\n",
    "data = LitImageNetDataModule(\n",
    "    root=root,\n",
    "    meta_path=meta_path,\n",
    "    num_workers=1,\n",
    "    batch_size=32,\n",
    "    desired_image_size=224,\n",
    ")\n",
    "data.setup(\"train\")\n",
    "\n",
    "train_dl = data.train_dataloader()\n",
    "x, y = next(iter(train_dl))\n",
    "\n",
    "print(f\"{abs(start - time())}\")\n",
    "print(f\"{x.size() = }\")"
   ]
  },
  {
   "cell_type": "code",
   "execution_count": null,
   "metadata": {},
   "outputs": [],
   "source": [
    "from lit_modules.litmodels.lit_resnet import LitResNet50, ResNet50Regression\n",
    "\n",
    "import torch.nn.functional as F"
   ]
  },
  {
   "cell_type": "code",
   "execution_count": null,
   "metadata": {},
   "outputs": [],
   "source": [
    "# Example usage\n",
    "model = LitResNet50(learning_rate=1e-1, task=\"classification\")\n",
    "\n",
    "# Example input tensor (batch size, channels, height, width)\n",
    "input_tensor = torch.randn(8, 3, 224, 224)\n",
    "\n",
    "# Get the regression output\n",
    "output = model(input_tensor)\n",
    "print(output)"
   ]
  },
  {
   "cell_type": "code",
   "execution_count": null,
   "metadata": {},
   "outputs": [],
   "source": [
    "model.criterion"
   ]
  },
  {
   "cell_type": "code",
   "execution_count": null,
   "metadata": {},
   "outputs": [],
   "source": [
    "from tqdm.notebook import tqdm"
   ]
  },
  {
   "cell_type": "markdown",
   "metadata": {},
   "source": [
    "# Lightning"
   ]
  },
  {
   "cell_type": "code",
   "execution_count": 1,
   "metadata": {},
   "outputs": [],
   "source": [
    "%load_ext lab_black\n",
    "%load_ext autoreload\n",
    "%autoreload 2"
   ]
  },
  {
   "cell_type": "code",
   "execution_count": 2,
   "metadata": {},
   "outputs": [],
   "source": [
    "import sys\n",
    "\n",
    "if not \"..\" in sys.path:\n",
    "    sys.path.append(\"..\")"
   ]
  },
  {
   "cell_type": "code",
   "execution_count": 4,
   "metadata": {},
   "outputs": [],
   "source": [
    "import torch\n",
    "\n",
    "from lit_modules.litdatamodules.lit_imagenet import LitImageNetDataModule\n",
    "from lit_modules.litmodels.lit_resnet101 import LitResNet101\n",
    "\n",
    "from lightning.pytorch.callbacks.early_stopping import EarlyStopping\n",
    "from lightning.pytorch.callbacks import DeviceStatsMonitor, StochasticWeightAveraging\n",
    "\n",
    "from lightning.pytorch.tuner import Tuner\n",
    "from lightning.pytorch.loggers import TensorBoardLogger\n",
    "\n",
    "from lightning import Trainer\n",
    "\n",
    "from tqdm.notebook import tqdm"
   ]
  },
  {
   "cell_type": "markdown",
   "metadata": {},
   "source": [
    "### Experiments \n",
    "\n",
    "- Version0\n",
    "- Version1\n",
    "- Version2\n",
    "    - Experiment:\n",
    "        - First Run on LaMem Dataset\n",
    "        - Finding the Batch size\n",
    "        - Finding the Learning Rate\n",
    "    - Result:\n",
    "        - Batch size = 96\n",
    "        - LR = 1e-4\n",
    "\n",
    "- Version7\n",
    "    - Experiment:\n",
    "        - First Run on LaMem Dataset"
   ]
  },
  {
   "cell_type": "code",
   "execution_count": 7,
   "metadata": {},
   "outputs": [
    {
     "name": "stderr",
     "output_type": "stream",
     "text": [
      "GPU available: True (cuda), used: True\n",
      "TPU available: False, using: 0 TPU cores\n",
      "IPU available: False, using: 0 IPUs\n",
      "HPU available: False, using: 0 HPUs\n",
      "`Trainer(overfit_batches=1)` was configured so 1 batch will be used.\n",
      "LOCAL_RANK: 0 - CUDA_VISIBLE_DEVICES: [0]\n",
      "\n",
      "  | Name      | Type               | Params | In sizes          | Out sizes \n",
      "----------------------------------------------------------------------------------\n",
      "0 | model     | ResNet50Regression | 25.6 M | [64, 3, 224, 224] | [64, 1000]\n",
      "1 | criterion | CrossEntropyLoss   | 0      | ?                 | ?         \n",
      "2 | top1      | MulticlassAccuracy | 0      | ?                 | ?         \n",
      "3 | top5      | MulticlassAccuracy | 0      | ?                 | ?         \n",
      "----------------------------------------------------------------------------------\n",
      "25.6 M    Trainable params\n",
      "0         Non-trainable params\n",
      "25.6 M    Total params\n",
      "102.228   Total estimated model params size (MB)\n"
     ]
    },
    {
     "data": {
      "application/vnd.jupyter.widget-view+json": {
       "model_id": "",
       "version_major": 2,
       "version_minor": 0
      },
      "text/plain": [
       "Sanity Checking: |                            | 0/? [00:00<?, ?it/s]"
      ]
     },
     "metadata": {},
     "output_type": "display_data"
    },
    {
     "data": {
      "application/vnd.jupyter.widget-view+json": {
       "model_id": "00799f17b94343748184973b1dfbd7c6",
       "version_major": 2,
       "version_minor": 0
      },
      "text/plain": [
       "Training: |                                   | 0/? [00:00<?, ?it/s]"
      ]
     },
     "metadata": {},
     "output_type": "display_data"
    },
    {
     "data": {
      "application/vnd.jupyter.widget-view+json": {
       "model_id": "",
       "version_major": 2,
       "version_minor": 0
      },
      "text/plain": [
       "Validation: |                                 | 0/? [00:00<?, ?it/s]"
      ]
     },
     "metadata": {},
     "output_type": "display_data"
    },
    {
     "data": {
      "application/vnd.jupyter.widget-view+json": {
       "model_id": "",
       "version_major": 2,
       "version_minor": 0
      },
      "text/plain": [
       "Validation: |                                 | 0/? [00:00<?, ?it/s]"
      ]
     },
     "metadata": {},
     "output_type": "display_data"
    },
    {
     "data": {
      "application/vnd.jupyter.widget-view+json": {
       "model_id": "",
       "version_major": 2,
       "version_minor": 0
      },
      "text/plain": [
       "Validation: |                                 | 0/? [00:00<?, ?it/s]"
      ]
     },
     "metadata": {},
     "output_type": "display_data"
    },
    {
     "data": {
      "application/vnd.jupyter.widget-view+json": {
       "model_id": "",
       "version_major": 2,
       "version_minor": 0
      },
      "text/plain": [
       "Validation: |                                 | 0/? [00:00<?, ?it/s]"
      ]
     },
     "metadata": {},
     "output_type": "display_data"
    },
    {
     "data": {
      "application/vnd.jupyter.widget-view+json": {
       "model_id": "",
       "version_major": 2,
       "version_minor": 0
      },
      "text/plain": [
       "Validation: |                                 | 0/? [00:00<?, ?it/s]"
      ]
     },
     "metadata": {},
     "output_type": "display_data"
    },
    {
     "data": {
      "application/vnd.jupyter.widget-view+json": {
       "model_id": "",
       "version_major": 2,
       "version_minor": 0
      },
      "text/plain": [
       "Validation: |                                 | 0/? [00:00<?, ?it/s]"
      ]
     },
     "metadata": {},
     "output_type": "display_data"
    },
    {
     "data": {
      "application/vnd.jupyter.widget-view+json": {
       "model_id": "",
       "version_major": 2,
       "version_minor": 0
      },
      "text/plain": [
       "Validation: |                                 | 0/? [00:00<?, ?it/s]"
      ]
     },
     "metadata": {},
     "output_type": "display_data"
    },
    {
     "data": {
      "application/vnd.jupyter.widget-view+json": {
       "model_id": "",
       "version_major": 2,
       "version_minor": 0
      },
      "text/plain": [
       "Validation: |                                 | 0/? [00:00<?, ?it/s]"
      ]
     },
     "metadata": {},
     "output_type": "display_data"
    },
    {
     "data": {
      "application/vnd.jupyter.widget-view+json": {
       "model_id": "",
       "version_major": 2,
       "version_minor": 0
      },
      "text/plain": [
       "Validation: |                                 | 0/? [00:00<?, ?it/s]"
      ]
     },
     "metadata": {},
     "output_type": "display_data"
    },
    {
     "data": {
      "application/vnd.jupyter.widget-view+json": {
       "model_id": "",
       "version_major": 2,
       "version_minor": 0
      },
      "text/plain": [
       "Validation: |                                 | 0/? [00:00<?, ?it/s]"
      ]
     },
     "metadata": {},
     "output_type": "display_data"
    },
    {
     "data": {
      "application/vnd.jupyter.widget-view+json": {
       "model_id": "",
       "version_major": 2,
       "version_minor": 0
      },
      "text/plain": [
       "Validation: |                                 | 0/? [00:00<?, ?it/s]"
      ]
     },
     "metadata": {},
     "output_type": "display_data"
    },
    {
     "data": {
      "application/vnd.jupyter.widget-view+json": {
       "model_id": "",
       "version_major": 2,
       "version_minor": 0
      },
      "text/plain": [
       "Validation: |                                 | 0/? [00:00<?, ?it/s]"
      ]
     },
     "metadata": {},
     "output_type": "display_data"
    },
    {
     "data": {
      "application/vnd.jupyter.widget-view+json": {
       "model_id": "",
       "version_major": 2,
       "version_minor": 0
      },
      "text/plain": [
       "Validation: |                                 | 0/? [00:00<?, ?it/s]"
      ]
     },
     "metadata": {},
     "output_type": "display_data"
    },
    {
     "data": {
      "application/vnd.jupyter.widget-view+json": {
       "model_id": "",
       "version_major": 2,
       "version_minor": 0
      },
      "text/plain": [
       "Validation: |                                 | 0/? [00:00<?, ?it/s]"
      ]
     },
     "metadata": {},
     "output_type": "display_data"
    },
    {
     "data": {
      "application/vnd.jupyter.widget-view+json": {
       "model_id": "",
       "version_major": 2,
       "version_minor": 0
      },
      "text/plain": [
       "Validation: |                                 | 0/? [00:00<?, ?it/s]"
      ]
     },
     "metadata": {},
     "output_type": "display_data"
    },
    {
     "data": {
      "application/vnd.jupyter.widget-view+json": {
       "model_id": "",
       "version_major": 2,
       "version_minor": 0
      },
      "text/plain": [
       "Validation: |                                 | 0/? [00:00<?, ?it/s]"
      ]
     },
     "metadata": {},
     "output_type": "display_data"
    },
    {
     "data": {
      "application/vnd.jupyter.widget-view+json": {
       "model_id": "",
       "version_major": 2,
       "version_minor": 0
      },
      "text/plain": [
       "Validation: |                                 | 0/? [00:00<?, ?it/s]"
      ]
     },
     "metadata": {},
     "output_type": "display_data"
    },
    {
     "data": {
      "application/vnd.jupyter.widget-view+json": {
       "model_id": "",
       "version_major": 2,
       "version_minor": 0
      },
      "text/plain": [
       "Validation: |                                 | 0/? [00:00<?, ?it/s]"
      ]
     },
     "metadata": {},
     "output_type": "display_data"
    },
    {
     "data": {
      "application/vnd.jupyter.widget-view+json": {
       "model_id": "",
       "version_major": 2,
       "version_minor": 0
      },
      "text/plain": [
       "Validation: |                                 | 0/? [00:00<?, ?it/s]"
      ]
     },
     "metadata": {},
     "output_type": "display_data"
    },
    {
     "data": {
      "application/vnd.jupyter.widget-view+json": {
       "model_id": "",
       "version_major": 2,
       "version_minor": 0
      },
      "text/plain": [
       "Validation: |                                 | 0/? [00:00<?, ?it/s]"
      ]
     },
     "metadata": {},
     "output_type": "display_data"
    },
    {
     "data": {
      "application/vnd.jupyter.widget-view+json": {
       "model_id": "",
       "version_major": 2,
       "version_minor": 0
      },
      "text/plain": [
       "Validation: |                                 | 0/? [00:00<?, ?it/s]"
      ]
     },
     "metadata": {},
     "output_type": "display_data"
    },
    {
     "data": {
      "application/vnd.jupyter.widget-view+json": {
       "model_id": "",
       "version_major": 2,
       "version_minor": 0
      },
      "text/plain": [
       "Validation: |                                 | 0/? [00:00<?, ?it/s]"
      ]
     },
     "metadata": {},
     "output_type": "display_data"
    },
    {
     "data": {
      "application/vnd.jupyter.widget-view+json": {
       "model_id": "",
       "version_major": 2,
       "version_minor": 0
      },
      "text/plain": [
       "Validation: |                                 | 0/? [00:00<?, ?it/s]"
      ]
     },
     "metadata": {},
     "output_type": "display_data"
    },
    {
     "data": {
      "application/vnd.jupyter.widget-view+json": {
       "model_id": "",
       "version_major": 2,
       "version_minor": 0
      },
      "text/plain": [
       "Validation: |                                 | 0/? [00:00<?, ?it/s]"
      ]
     },
     "metadata": {},
     "output_type": "display_data"
    },
    {
     "data": {
      "application/vnd.jupyter.widget-view+json": {
       "model_id": "",
       "version_major": 2,
       "version_minor": 0
      },
      "text/plain": [
       "Validation: |                                 | 0/? [00:00<?, ?it/s]"
      ]
     },
     "metadata": {},
     "output_type": "display_data"
    },
    {
     "data": {
      "application/vnd.jupyter.widget-view+json": {
       "model_id": "",
       "version_major": 2,
       "version_minor": 0
      },
      "text/plain": [
       "Validation: |                                 | 0/? [00:00<?, ?it/s]"
      ]
     },
     "metadata": {},
     "output_type": "display_data"
    },
    {
     "data": {
      "application/vnd.jupyter.widget-view+json": {
       "model_id": "",
       "version_major": 2,
       "version_minor": 0
      },
      "text/plain": [
       "Validation: |                                 | 0/? [00:00<?, ?it/s]"
      ]
     },
     "metadata": {},
     "output_type": "display_data"
    },
    {
     "data": {
      "application/vnd.jupyter.widget-view+json": {
       "model_id": "",
       "version_major": 2,
       "version_minor": 0
      },
      "text/plain": [
       "Validation: |                                 | 0/? [00:00<?, ?it/s]"
      ]
     },
     "metadata": {},
     "output_type": "display_data"
    },
    {
     "data": {
      "application/vnd.jupyter.widget-view+json": {
       "model_id": "",
       "version_major": 2,
       "version_minor": 0
      },
      "text/plain": [
       "Validation: |                                 | 0/? [00:00<?, ?it/s]"
      ]
     },
     "metadata": {},
     "output_type": "display_data"
    },
    {
     "data": {
      "application/vnd.jupyter.widget-view+json": {
       "model_id": "",
       "version_major": 2,
       "version_minor": 0
      },
      "text/plain": [
       "Validation: |                                 | 0/? [00:00<?, ?it/s]"
      ]
     },
     "metadata": {},
     "output_type": "display_data"
    },
    {
     "data": {
      "application/vnd.jupyter.widget-view+json": {
       "model_id": "",
       "version_major": 2,
       "version_minor": 0
      },
      "text/plain": [
       "Validation: |                                 | 0/? [00:00<?, ?it/s]"
      ]
     },
     "metadata": {},
     "output_type": "display_data"
    },
    {
     "data": {
      "application/vnd.jupyter.widget-view+json": {
       "model_id": "",
       "version_major": 2,
       "version_minor": 0
      },
      "text/plain": [
       "Validation: |                                 | 0/? [00:00<?, ?it/s]"
      ]
     },
     "metadata": {},
     "output_type": "display_data"
    },
    {
     "data": {
      "application/vnd.jupyter.widget-view+json": {
       "model_id": "",
       "version_major": 2,
       "version_minor": 0
      },
      "text/plain": [
       "Validation: |                                 | 0/? [00:00<?, ?it/s]"
      ]
     },
     "metadata": {},
     "output_type": "display_data"
    },
    {
     "data": {
      "application/vnd.jupyter.widget-view+json": {
       "model_id": "",
       "version_major": 2,
       "version_minor": 0
      },
      "text/plain": [
       "Validation: |                                 | 0/? [00:00<?, ?it/s]"
      ]
     },
     "metadata": {},
     "output_type": "display_data"
    },
    {
     "data": {
      "application/vnd.jupyter.widget-view+json": {
       "model_id": "",
       "version_major": 2,
       "version_minor": 0
      },
      "text/plain": [
       "Validation: |                                 | 0/? [00:00<?, ?it/s]"
      ]
     },
     "metadata": {},
     "output_type": "display_data"
    },
    {
     "data": {
      "application/vnd.jupyter.widget-view+json": {
       "model_id": "",
       "version_major": 2,
       "version_minor": 0
      },
      "text/plain": [
       "Validation: |                                 | 0/? [00:00<?, ?it/s]"
      ]
     },
     "metadata": {},
     "output_type": "display_data"
    },
    {
     "data": {
      "application/vnd.jupyter.widget-view+json": {
       "model_id": "",
       "version_major": 2,
       "version_minor": 0
      },
      "text/plain": [
       "Validation: |                                 | 0/? [00:00<?, ?it/s]"
      ]
     },
     "metadata": {},
     "output_type": "display_data"
    },
    {
     "data": {
      "application/vnd.jupyter.widget-view+json": {
       "model_id": "",
       "version_major": 2,
       "version_minor": 0
      },
      "text/plain": [
       "Validation: |                                 | 0/? [00:00<?, ?it/s]"
      ]
     },
     "metadata": {},
     "output_type": "display_data"
    },
    {
     "data": {
      "application/vnd.jupyter.widget-view+json": {
       "model_id": "",
       "version_major": 2,
       "version_minor": 0
      },
      "text/plain": [
       "Validation: |                                 | 0/? [00:00<?, ?it/s]"
      ]
     },
     "metadata": {},
     "output_type": "display_data"
    },
    {
     "data": {
      "application/vnd.jupyter.widget-view+json": {
       "model_id": "",
       "version_major": 2,
       "version_minor": 0
      },
      "text/plain": [
       "Validation: |                                 | 0/? [00:00<?, ?it/s]"
      ]
     },
     "metadata": {},
     "output_type": "display_data"
    },
    {
     "data": {
      "application/vnd.jupyter.widget-view+json": {
       "model_id": "",
       "version_major": 2,
       "version_minor": 0
      },
      "text/plain": [
       "Validation: |                                 | 0/? [00:00<?, ?it/s]"
      ]
     },
     "metadata": {},
     "output_type": "display_data"
    },
    {
     "data": {
      "application/vnd.jupyter.widget-view+json": {
       "model_id": "",
       "version_major": 2,
       "version_minor": 0
      },
      "text/plain": [
       "Validation: |                                 | 0/? [00:00<?, ?it/s]"
      ]
     },
     "metadata": {},
     "output_type": "display_data"
    },
    {
     "data": {
      "application/vnd.jupyter.widget-view+json": {
       "model_id": "",
       "version_major": 2,
       "version_minor": 0
      },
      "text/plain": [
       "Validation: |                                 | 0/? [00:00<?, ?it/s]"
      ]
     },
     "metadata": {},
     "output_type": "display_data"
    },
    {
     "data": {
      "application/vnd.jupyter.widget-view+json": {
       "model_id": "",
       "version_major": 2,
       "version_minor": 0
      },
      "text/plain": [
       "Validation: |                                 | 0/? [00:00<?, ?it/s]"
      ]
     },
     "metadata": {},
     "output_type": "display_data"
    },
    {
     "data": {
      "application/vnd.jupyter.widget-view+json": {
       "model_id": "",
       "version_major": 2,
       "version_minor": 0
      },
      "text/plain": [
       "Validation: |                                 | 0/? [00:00<?, ?it/s]"
      ]
     },
     "metadata": {},
     "output_type": "display_data"
    },
    {
     "data": {
      "application/vnd.jupyter.widget-view+json": {
       "model_id": "",
       "version_major": 2,
       "version_minor": 0
      },
      "text/plain": [
       "Validation: |                                 | 0/? [00:00<?, ?it/s]"
      ]
     },
     "metadata": {},
     "output_type": "display_data"
    },
    {
     "data": {
      "application/vnd.jupyter.widget-view+json": {
       "model_id": "",
       "version_major": 2,
       "version_minor": 0
      },
      "text/plain": [
       "Validation: |                                 | 0/? [00:00<?, ?it/s]"
      ]
     },
     "metadata": {},
     "output_type": "display_data"
    },
    {
     "data": {
      "application/vnd.jupyter.widget-view+json": {
       "model_id": "941ed4c26ce7416abc4e362e86dea9bf",
       "version_major": 2,
       "version_minor": 0
      },
      "text/plain": [
       "Validation: |                                 | 0/? [00:00<?, ?it/s]"
      ]
     },
     "metadata": {},
     "output_type": "display_data"
    },
    {
     "data": {
      "application/vnd.jupyter.widget-view+json": {
       "model_id": "8f0c1326153141e280fecdfc9b07d085",
       "version_major": 2,
       "version_minor": 0
      },
      "text/plain": [
       "Validation: |                                 | 0/? [00:00<?, ?it/s]"
      ]
     },
     "metadata": {},
     "output_type": "display_data"
    },
    {
     "data": {
      "application/vnd.jupyter.widget-view+json": {
       "model_id": "6e76f576ad1c47969be685faa495e648",
       "version_major": 2,
       "version_minor": 0
      },
      "text/plain": [
       "Validation: |                                 | 0/? [00:00<?, ?it/s]"
      ]
     },
     "metadata": {},
     "output_type": "display_data"
    },
    {
     "data": {
      "application/vnd.jupyter.widget-view+json": {
       "model_id": "559205cea3af4d629d12b7632d4e9175",
       "version_major": 2,
       "version_minor": 0
      },
      "text/plain": [
       "Validation: |                                 | 0/? [00:00<?, ?it/s]"
      ]
     },
     "metadata": {},
     "output_type": "display_data"
    },
    {
     "data": {
      "application/vnd.jupyter.widget-view+json": {
       "model_id": "35a06aab5a31480ab7626ac1b56cb415",
       "version_major": 2,
       "version_minor": 0
      },
      "text/plain": [
       "Validation: |                                 | 0/? [00:00<?, ?it/s]"
      ]
     },
     "metadata": {},
     "output_type": "display_data"
    },
    {
     "data": {
      "application/vnd.jupyter.widget-view+json": {
       "model_id": "9dc1d0d206d541dfb912749700ef18f9",
       "version_major": 2,
       "version_minor": 0
      },
      "text/plain": [
       "Validation: |                                 | 0/? [00:00<?, ?it/s]"
      ]
     },
     "metadata": {},
     "output_type": "display_data"
    },
    {
     "data": {
      "application/vnd.jupyter.widget-view+json": {
       "model_id": "802509b191d64c36b95220072e526cad",
       "version_major": 2,
       "version_minor": 0
      },
      "text/plain": [
       "Validation: |                                 | 0/? [00:00<?, ?it/s]"
      ]
     },
     "metadata": {},
     "output_type": "display_data"
    },
    {
     "data": {
      "application/vnd.jupyter.widget-view+json": {
       "model_id": "c2566e201f4d422ca9ebbfc92c0ac3b1",
       "version_major": 2,
       "version_minor": 0
      },
      "text/plain": [
       "Validation: |                                 | 0/? [00:00<?, ?it/s]"
      ]
     },
     "metadata": {},
     "output_type": "display_data"
    },
    {
     "data": {
      "application/vnd.jupyter.widget-view+json": {
       "model_id": "6daf84f136bf44799a17bf7be140bd50",
       "version_major": 2,
       "version_minor": 0
      },
      "text/plain": [
       "Validation: |                                 | 0/? [00:00<?, ?it/s]"
      ]
     },
     "metadata": {},
     "output_type": "display_data"
    },
    {
     "data": {
      "application/vnd.jupyter.widget-view+json": {
       "model_id": "36f091f1b6f2425ab092408ed0864552",
       "version_major": 2,
       "version_minor": 0
      },
      "text/plain": [
       "Validation: |                                 | 0/? [00:00<?, ?it/s]"
      ]
     },
     "metadata": {},
     "output_type": "display_data"
    },
    {
     "data": {
      "application/vnd.jupyter.widget-view+json": {
       "model_id": "ae60c1a1c4a34ee9a7bea73e8b1d82f9",
       "version_major": 2,
       "version_minor": 0
      },
      "text/plain": [
       "Validation: |                                 | 0/? [00:00<?, ?it/s]"
      ]
     },
     "metadata": {},
     "output_type": "display_data"
    },
    {
     "data": {
      "application/vnd.jupyter.widget-view+json": {
       "model_id": "4e3a11dd70c6488e9a9e4a39b5ff04cd",
       "version_major": 2,
       "version_minor": 0
      },
      "text/plain": [
       "Validation: |                                 | 0/? [00:00<?, ?it/s]"
      ]
     },
     "metadata": {},
     "output_type": "display_data"
    },
    {
     "data": {
      "application/vnd.jupyter.widget-view+json": {
       "model_id": "37a88126c7a64714a1cc18a4f19eea6a",
       "version_major": 2,
       "version_minor": 0
      },
      "text/plain": [
       "Validation: |                                 | 0/? [00:00<?, ?it/s]"
      ]
     },
     "metadata": {},
     "output_type": "display_data"
    },
    {
     "data": {
      "application/vnd.jupyter.widget-view+json": {
       "model_id": "070feb2f16d3456abc9c6e63515452ec",
       "version_major": 2,
       "version_minor": 0
      },
      "text/plain": [
       "Validation: |                                 | 0/? [00:00<?, ?it/s]"
      ]
     },
     "metadata": {},
     "output_type": "display_data"
    },
    {
     "data": {
      "application/vnd.jupyter.widget-view+json": {
       "model_id": "a7bd17f5486a45088a1b79a3271d3637",
       "version_major": 2,
       "version_minor": 0
      },
      "text/plain": [
       "Validation: |                                 | 0/? [00:00<?, ?it/s]"
      ]
     },
     "metadata": {},
     "output_type": "display_data"
    },
    {
     "data": {
      "application/vnd.jupyter.widget-view+json": {
       "model_id": "3ad5e31a437c4def97a0fd6e1ba5e94c",
       "version_major": 2,
       "version_minor": 0
      },
      "text/plain": [
       "Validation: |                                 | 0/? [00:00<?, ?it/s]"
      ]
     },
     "metadata": {},
     "output_type": "display_data"
    },
    {
     "data": {
      "application/vnd.jupyter.widget-view+json": {
       "model_id": "821fdbb2f426426384af1b102598fffb",
       "version_major": 2,
       "version_minor": 0
      },
      "text/plain": [
       "Validation: |                                 | 0/? [00:00<?, ?it/s]"
      ]
     },
     "metadata": {},
     "output_type": "display_data"
    },
    {
     "data": {
      "application/vnd.jupyter.widget-view+json": {
       "model_id": "ade3fb4a2df04676bea34c7edce9df0e",
       "version_major": 2,
       "version_minor": 0
      },
      "text/plain": [
       "Validation: |                                 | 0/? [00:00<?, ?it/s]"
      ]
     },
     "metadata": {},
     "output_type": "display_data"
    },
    {
     "data": {
      "application/vnd.jupyter.widget-view+json": {
       "model_id": "64f9701f791c48f0a6f3aedce738fdea",
       "version_major": 2,
       "version_minor": 0
      },
      "text/plain": [
       "Validation: |                                 | 0/? [00:00<?, ?it/s]"
      ]
     },
     "metadata": {},
     "output_type": "display_data"
    },
    {
     "data": {
      "application/vnd.jupyter.widget-view+json": {
       "model_id": "e770b568c0794d8fa2d9c734e95849c1",
       "version_major": 2,
       "version_minor": 0
      },
      "text/plain": [
       "Validation: |                                 | 0/? [00:00<?, ?it/s]"
      ]
     },
     "metadata": {},
     "output_type": "display_data"
    },
    {
     "data": {
      "application/vnd.jupyter.widget-view+json": {
       "model_id": "c253a03c9ca74779b6a07c8e94f32a70",
       "version_major": 2,
       "version_minor": 0
      },
      "text/plain": [
       "Validation: |                                 | 0/? [00:00<?, ?it/s]"
      ]
     },
     "metadata": {},
     "output_type": "display_data"
    },
    {
     "data": {
      "application/vnd.jupyter.widget-view+json": {
       "model_id": "42948476b19344b0a686d920a1f01994",
       "version_major": 2,
       "version_minor": 0
      },
      "text/plain": [
       "Validation: |                                 | 0/? [00:00<?, ?it/s]"
      ]
     },
     "metadata": {},
     "output_type": "display_data"
    },
    {
     "data": {
      "application/vnd.jupyter.widget-view+json": {
       "model_id": "f28eab28a16545978b502640125688f9",
       "version_major": 2,
       "version_minor": 0
      },
      "text/plain": [
       "Validation: |                                 | 0/? [00:00<?, ?it/s]"
      ]
     },
     "metadata": {},
     "output_type": "display_data"
    },
    {
     "data": {
      "application/vnd.jupyter.widget-view+json": {
       "model_id": "a75f9ae70f8d4317b668db413c71776c",
       "version_major": 2,
       "version_minor": 0
      },
      "text/plain": [
       "Validation: |                                 | 0/? [00:00<?, ?it/s]"
      ]
     },
     "metadata": {},
     "output_type": "display_data"
    },
    {
     "data": {
      "application/vnd.jupyter.widget-view+json": {
       "model_id": "128f2bf83f534aefade8dc9e75a725b4",
       "version_major": 2,
       "version_minor": 0
      },
      "text/plain": [
       "Validation: |                                 | 0/? [00:00<?, ?it/s]"
      ]
     },
     "metadata": {},
     "output_type": "display_data"
    },
    {
     "data": {
      "application/vnd.jupyter.widget-view+json": {
       "model_id": "52dd8a75de874eefa5dba8ad2d283ca6",
       "version_major": 2,
       "version_minor": 0
      },
      "text/plain": [
       "Validation: |                                 | 0/? [00:00<?, ?it/s]"
      ]
     },
     "metadata": {},
     "output_type": "display_data"
    },
    {
     "data": {
      "application/vnd.jupyter.widget-view+json": {
       "model_id": "5e2ccdd3845644449d5f2036731cef02",
       "version_major": 2,
       "version_minor": 0
      },
      "text/plain": [
       "Validation: |                                 | 0/? [00:00<?, ?it/s]"
      ]
     },
     "metadata": {},
     "output_type": "display_data"
    },
    {
     "data": {
      "application/vnd.jupyter.widget-view+json": {
       "model_id": "e7f8c1f0ff1e41528e9d8ae9464bdf0a",
       "version_major": 2,
       "version_minor": 0
      },
      "text/plain": [
       "Validation: |                                 | 0/? [00:00<?, ?it/s]"
      ]
     },
     "metadata": {},
     "output_type": "display_data"
    },
    {
     "data": {
      "application/vnd.jupyter.widget-view+json": {
       "model_id": "0037bf30146840c19268315a513d2065",
       "version_major": 2,
       "version_minor": 0
      },
      "text/plain": [
       "Validation: |                                 | 0/? [00:00<?, ?it/s]"
      ]
     },
     "metadata": {},
     "output_type": "display_data"
    },
    {
     "data": {
      "application/vnd.jupyter.widget-view+json": {
       "model_id": "90987f1a54d64907bbd042b9a9409d64",
       "version_major": 2,
       "version_minor": 0
      },
      "text/plain": [
       "Validation: |                                 | 0/? [00:00<?, ?it/s]"
      ]
     },
     "metadata": {},
     "output_type": "display_data"
    },
    {
     "data": {
      "application/vnd.jupyter.widget-view+json": {
       "model_id": "28a869fb161f41d19f23e50f2b7181f5",
       "version_major": 2,
       "version_minor": 0
      },
      "text/plain": [
       "Validation: |                                 | 0/? [00:00<?, ?it/s]"
      ]
     },
     "metadata": {},
     "output_type": "display_data"
    },
    {
     "data": {
      "application/vnd.jupyter.widget-view+json": {
       "model_id": "d153e284ecd94ea18c48e2c52cd4242a",
       "version_major": 2,
       "version_minor": 0
      },
      "text/plain": [
       "Validation: |                                 | 0/? [00:00<?, ?it/s]"
      ]
     },
     "metadata": {},
     "output_type": "display_data"
    },
    {
     "data": {
      "application/vnd.jupyter.widget-view+json": {
       "model_id": "025074b46f0a49bdb70e3e76a0458a49",
       "version_major": 2,
       "version_minor": 0
      },
      "text/plain": [
       "Validation: |                                 | 0/? [00:00<?, ?it/s]"
      ]
     },
     "metadata": {},
     "output_type": "display_data"
    },
    {
     "data": {
      "application/vnd.jupyter.widget-view+json": {
       "model_id": "7c5bb1e0232041a99f3dea0786f1cb86",
       "version_major": 2,
       "version_minor": 0
      },
      "text/plain": [
       "Validation: |                                 | 0/? [00:00<?, ?it/s]"
      ]
     },
     "metadata": {},
     "output_type": "display_data"
    },
    {
     "data": {
      "application/vnd.jupyter.widget-view+json": {
       "model_id": "1289e023e732418e9687b17ed051d879",
       "version_major": 2,
       "version_minor": 0
      },
      "text/plain": [
       "Validation: |                                 | 0/? [00:00<?, ?it/s]"
      ]
     },
     "metadata": {},
     "output_type": "display_data"
    },
    {
     "data": {
      "application/vnd.jupyter.widget-view+json": {
       "model_id": "62d0774957fa4531964e034064275315",
       "version_major": 2,
       "version_minor": 0
      },
      "text/plain": [
       "Validation: |                                 | 0/? [00:00<?, ?it/s]"
      ]
     },
     "metadata": {},
     "output_type": "display_data"
    },
    {
     "data": {
      "application/vnd.jupyter.widget-view+json": {
       "model_id": "b6289e3fc075430fa65948b095a12793",
       "version_major": 2,
       "version_minor": 0
      },
      "text/plain": [
       "Validation: |                                 | 0/? [00:00<?, ?it/s]"
      ]
     },
     "metadata": {},
     "output_type": "display_data"
    },
    {
     "data": {
      "application/vnd.jupyter.widget-view+json": {
       "model_id": "c8b4738c21b549fc94a1f363a9f77a30",
       "version_major": 2,
       "version_minor": 0
      },
      "text/plain": [
       "Validation: |                                 | 0/? [00:00<?, ?it/s]"
      ]
     },
     "metadata": {},
     "output_type": "display_data"
    },
    {
     "data": {
      "application/vnd.jupyter.widget-view+json": {
       "model_id": "67d3fb1bb761418c9b732b699b23b29c",
       "version_major": 2,
       "version_minor": 0
      },
      "text/plain": [
       "Validation: |                                 | 0/? [00:00<?, ?it/s]"
      ]
     },
     "metadata": {},
     "output_type": "display_data"
    },
    {
     "data": {
      "application/vnd.jupyter.widget-view+json": {
       "model_id": "34749617f4b9432993e9e7b1df6f514a",
       "version_major": 2,
       "version_minor": 0
      },
      "text/plain": [
       "Validation: |                                 | 0/? [00:00<?, ?it/s]"
      ]
     },
     "metadata": {},
     "output_type": "display_data"
    },
    {
     "data": {
      "application/vnd.jupyter.widget-view+json": {
       "model_id": "c52877b0766e4694925a4b4f12339ba5",
       "version_major": 2,
       "version_minor": 0
      },
      "text/plain": [
       "Validation: |                                 | 0/? [00:00<?, ?it/s]"
      ]
     },
     "metadata": {},
     "output_type": "display_data"
    },
    {
     "data": {
      "application/vnd.jupyter.widget-view+json": {
       "model_id": "d6a0854bb1e54fb1b1d733bc9c590505",
       "version_major": 2,
       "version_minor": 0
      },
      "text/plain": [
       "Validation: |                                 | 0/? [00:00<?, ?it/s]"
      ]
     },
     "metadata": {},
     "output_type": "display_data"
    },
    {
     "data": {
      "application/vnd.jupyter.widget-view+json": {
       "model_id": "94114bdae37045e382cbb3edf5608f97",
       "version_major": 2,
       "version_minor": 0
      },
      "text/plain": [
       "Validation: |                                 | 0/? [00:00<?, ?it/s]"
      ]
     },
     "metadata": {},
     "output_type": "display_data"
    },
    {
     "data": {
      "application/vnd.jupyter.widget-view+json": {
       "model_id": "c0f63fe9f1974464a97aa2d8a6b649dc",
       "version_major": 2,
       "version_minor": 0
      },
      "text/plain": [
       "Validation: |                                 | 0/? [00:00<?, ?it/s]"
      ]
     },
     "metadata": {},
     "output_type": "display_data"
    },
    {
     "data": {
      "application/vnd.jupyter.widget-view+json": {
       "model_id": "325701a2f000425c8537c958ee2da668",
       "version_major": 2,
       "version_minor": 0
      },
      "text/plain": [
       "Validation: |                                 | 0/? [00:00<?, ?it/s]"
      ]
     },
     "metadata": {},
     "output_type": "display_data"
    },
    {
     "data": {
      "application/vnd.jupyter.widget-view+json": {
       "model_id": "8fac310da55c42fb9b1b000b82334fc9",
       "version_major": 2,
       "version_minor": 0
      },
      "text/plain": [
       "Validation: |                                 | 0/? [00:00<?, ?it/s]"
      ]
     },
     "metadata": {},
     "output_type": "display_data"
    },
    {
     "data": {
      "application/vnd.jupyter.widget-view+json": {
       "model_id": "a43a913237334bbba005f7a65cb6b379",
       "version_major": 2,
       "version_minor": 0
      },
      "text/plain": [
       "Validation: |                                 | 0/? [00:00<?, ?it/s]"
      ]
     },
     "metadata": {},
     "output_type": "display_data"
    },
    {
     "data": {
      "application/vnd.jupyter.widget-view+json": {
       "model_id": "c8ce5e34597d4a9085c9cd3675d5faa1",
       "version_major": 2,
       "version_minor": 0
      },
      "text/plain": [
       "Validation: |                                 | 0/? [00:00<?, ?it/s]"
      ]
     },
     "metadata": {},
     "output_type": "display_data"
    },
    {
     "data": {
      "application/vnd.jupyter.widget-view+json": {
       "model_id": "ca3803f8a92443e18a6103988cab7c54",
       "version_major": 2,
       "version_minor": 0
      },
      "text/plain": [
       "Validation: |                                 | 0/? [00:00<?, ?it/s]"
      ]
     },
     "metadata": {},
     "output_type": "display_data"
    },
    {
     "data": {
      "application/vnd.jupyter.widget-view+json": {
       "model_id": "759f7d485f8b42c4a2afb7e72a8cb262",
       "version_major": 2,
       "version_minor": 0
      },
      "text/plain": [
       "Validation: |                                 | 0/? [00:00<?, ?it/s]"
      ]
     },
     "metadata": {},
     "output_type": "display_data"
    },
    {
     "data": {
      "application/vnd.jupyter.widget-view+json": {
       "model_id": "5404bb85b88946c3be23bf5be7669adb",
       "version_major": 2,
       "version_minor": 0
      },
      "text/plain": [
       "Validation: |                                 | 0/? [00:00<?, ?it/s]"
      ]
     },
     "metadata": {},
     "output_type": "display_data"
    },
    {
     "data": {
      "application/vnd.jupyter.widget-view+json": {
       "model_id": "e59718dd9dd44f52b0c3eb417337843a",
       "version_major": 2,
       "version_minor": 0
      },
      "text/plain": [
       "Validation: |                                 | 0/? [00:00<?, ?it/s]"
      ]
     },
     "metadata": {},
     "output_type": "display_data"
    },
    {
     "name": "stderr",
     "output_type": "stream",
     "text": [
      "FIT Profiler Report\n",
      "\n",
      "--------------------------------------------------------------------------------------------------------------------------------------------------------------------------------------------------------------------------------------------------------------------------\n",
      "|  Action                                                                                                                                                         \t|  Mean duration (s)\t|  Num calls      \t|  Total time (s) \t|  Percentage %   \t|\n",
      "--------------------------------------------------------------------------------------------------------------------------------------------------------------------------------------------------------------------------------------------------------------------------\n",
      "|  Total                                                                                                                                                          \t|  -              \t|  9990           \t|  207.49         \t|  100 %          \t|\n",
      "--------------------------------------------------------------------------------------------------------------------------------------------------------------------------------------------------------------------------------------------------------------------------\n",
      "|  run_training_epoch                                                                                                                                             \t|  1.0766         \t|  99             \t|  106.59         \t|  51.369         \t|\n",
      "|  [Callback]ModelCheckpoint{'monitor': None, 'mode': 'min', 'every_n_train_steps': 0, 'every_n_epochs': 1, 'train_time_interval': None}.on_train_epoch_end       \t|  0.58314        \t|  99             \t|  57.731         \t|  27.823         \t|\n",
      "|  [LightningDataModule]LitImageNetDataModule.setup                                                                                                               \t|  39.622         \t|  1              \t|  39.622         \t|  19.096         \t|\n",
      "|  run_training_batch                                                                                                                                             \t|  0.35729        \t|  99             \t|  35.372         \t|  17.047         \t|\n",
      "|  [LightningModule]LitResNet50.optimizer_step                                                                                                                    \t|  0.35698        \t|  99             \t|  35.341         \t|  17.032         \t|\n",
      "|  [_EvaluationLoop].val_next                                                                                                                                     \t|  0.22842        \t|  100            \t|  22.842         \t|  11.009         \t|\n",
      "|  [_TrainingEpochLoop].train_dataloader_next                                                                                                                     \t|  0.22842        \t|  99             \t|  22.614         \t|  10.899         \t|\n",
      "|  [LightningModule]LitResNet50.configure_gradient_clipping                                                                                                       \t|  0.17524        \t|  99             \t|  17.349         \t|  8.3612         \t|\n",
      "|  [Strategy]SingleDeviceStrategy.training_step                                                                                                                   \t|  0.090377       \t|  99             \t|  8.9473         \t|  4.3121         \t|\n",
      "|  [Strategy]SingleDeviceStrategy.backward                                                                                                                        \t|  0.088736       \t|  99             \t|  8.7849         \t|  4.2338         \t|\n",
      "|  [Strategy]SingleDeviceStrategy.validation_step                                                                                                                 \t|  0.084545       \t|  100            \t|  8.4545         \t|  4.0746         \t|\n",
      "|  [LightningModule]LitResNet50.on_after_backward                                                                                                                 \t|  0.077794       \t|  99             \t|  7.7016         \t|  3.7118         \t|\n",
      "|  [Strategy]SingleDeviceStrategy.batch_to_device                                                                                                                 \t|  0.014509       \t|  199            \t|  2.8872         \t|  1.3915         \t|\n",
      "|  [LightningModule]LitResNet50.transfer_batch_to_device                                                                                                          \t|  0.014423       \t|  200            \t|  2.8847         \t|  1.3903         \t|\n",
      "|  [Callback]TQDMProgressBar.on_validation_start                                                                                                                  \t|  0.024656       \t|  100            \t|  2.4656         \t|  1.1883         \t|\n",
      "|  [Callback]TQDMProgressBar.on_train_batch_end                                                                                                                   \t|  0.0041849      \t|  99             \t|  0.4143         \t|  0.19967        \t|\n",
      "|  [Callback]TQDMProgressBar.on_validation_batch_start                                                                                                            \t|  0.0031467      \t|  100            \t|  0.31467        \t|  0.15166        \t|\n",
      "|  [Callback]TQDMProgressBar.on_validation_end                                                                                                                    \t|  0.0017214      \t|  100            \t|  0.17214        \t|  0.082963       \t|\n",
      "|  [Callback]TQDMProgressBar.on_validation_batch_end                                                                                                              \t|  0.0016244      \t|  100            \t|  0.16244        \t|  0.078286       \t|\n",
      "|  [LightningModule]LitResNet50.on_validation_model_zero_grad                                                                                                     \t|  0.0016154      \t|  99             \t|  0.15992        \t|  0.077075       \t|\n",
      "|  [Callback]TQDMProgressBar.on_train_epoch_start                                                                                                                 \t|  0.0014914      \t|  99             \t|  0.14765        \t|  0.07116        \t|\n",
      "|  [Callback]ModelSummary.on_fit_start                                                                                                                            \t|  0.12507        \t|  1              \t|  0.12507        \t|  0.060275       \t|\n",
      "|  [Callback]TQDMProgressBar.on_train_epoch_end                                                                                                                   \t|  0.0011532      \t|  99             \t|  0.11417        \t|  0.055023       \t|\n",
      "|  [Callback]EarlyStopping{'monitor': 'val_loss', 'mode': 'min'}.on_train_epoch_end                                                                               \t|  0.001005       \t|  99             \t|  0.099496       \t|  0.047952       \t|\n",
      "|  [LightningModule]LitResNet50.on_validation_model_eval                                                                                                          \t|  0.00070167     \t|  100            \t|  0.070167       \t|  0.033816       \t|\n",
      "|  [Callback]TQDMProgressBar.on_train_start                                                                                                                       \t|  0.026912       \t|  1              \t|  0.026912       \t|  0.01297        \t|\n",
      "|  [LightningModule]LitResNet50.optimizer_zero_grad                                                                                                               \t|  0.00022909     \t|  99             \t|  0.02268        \t|  0.010931       \t|\n",
      "|  [Callback]TQDMProgressBar.on_sanity_check_start                                                                                                                \t|  0.019433       \t|  1              \t|  0.019433       \t|  0.0093656      \t|\n",
      "|  [Callback]ModelCheckpoint{'monitor': None, 'mode': 'min', 'every_n_train_steps': 0, 'every_n_epochs': 1, 'train_time_interval': None}.on_validation_end        \t|  4.3976e-05     \t|  100            \t|  0.0043976      \t|  0.0021194      \t|\n",
      "|  [Callback]ModelCheckpoint{'monitor': None, 'mode': 'min', 'every_n_train_steps': 0, 'every_n_epochs': 1, 'train_time_interval': None}.on_train_batch_end       \t|  3.007e-05      \t|  99             \t|  0.0029769      \t|  0.0014347      \t|\n",
      "|  [LightningModule]LitResNet50.lr_scheduler_step                                                                                                                 \t|  2.7187e-05     \t|  99             \t|  0.0026915      \t|  0.0012972      \t|\n",
      "|  [Callback]ModelSummary.on_train_epoch_end                                                                                                                      \t|  1.7882e-05     \t|  99             \t|  0.0017703      \t|  0.00085319     \t|\n",
      "|  [LightningDataModule]LitImageNetDataModule.val_dataloader                                                                                                      \t|  0.0014327      \t|  1              \t|  0.0014327      \t|  0.0006905      \t|\n",
      "|  [LightningModule]LitResNet50.configure_optimizers                                                                                                              \t|  0.0013652      \t|  1              \t|  0.0013652      \t|  0.00065798     \t|\n",
      "|  [Callback]ModelSummary.on_validation_end                                                                                                                       \t|  1.0971e-05     \t|  100            \t|  0.0010971      \t|  0.00052875     \t|\n",
      "|  [Callback]ModelCheckpoint{'monitor': None, 'mode': 'min', 'every_n_train_steps': 0, 'every_n_epochs': 1, 'train_time_interval': None}.setup                    \t|  0.001044       \t|  1              \t|  0.001044       \t|  0.00050316     \t|\n",
      "|  [Callback]TQDMProgressBar.on_train_end                                                                                                                         \t|  0.00088038     \t|  1              \t|  0.00088038     \t|  0.0004243      \t|\n",
      "|  [LightningModule]LitResNet50.on_train_epoch_end                                                                                                                \t|  6.9333e-06     \t|  99             \t|  0.0006864      \t|  0.00033081     \t|\n",
      "|  [LightningModule]LitResNet50.on_before_batch_transfer                                                                                                          \t|  2.9875e-06     \t|  200            \t|  0.0005975      \t|  0.00028796     \t|\n",
      "|  [Callback]ModelSummary.on_validation_start                                                                                                                     \t|  5.9382e-06     \t|  100            \t|  0.00059382     \t|  0.00028619     \t|\n",
      "|  [Callback]ModelSummary.on_validation_batch_start                                                                                                               \t|  5.6525e-06     \t|  100            \t|  0.00056525     \t|  0.00027242     \t|\n",
      "|  [LightningModule]LitResNet50.on_after_batch_transfer                                                                                                           \t|  2.4394e-06     \t|  200            \t|  0.00048788     \t|  0.00023513     \t|\n",
      "|  [Callback]EarlyStopping{'monitor': 'val_loss', 'mode': 'min'}.on_validation_end                                                                                \t|  4.6728e-06     \t|  100            \t|  0.00046728     \t|  0.0002252      \t|\n",
      "|  [LightningModule]LitResNet50.on_validation_batch_start                                                                                                         \t|  4.3897e-06     \t|  100            \t|  0.00043897     \t|  0.00021156     \t|\n",
      "|  [Callback]ModelSummary.on_validation_batch_end                                                                                                                 \t|  4.2064e-06     \t|  100            \t|  0.00042064     \t|  0.00020273     \t|\n",
      "|  [Callback]EarlyStopping{'monitor': 'val_loss', 'mode': 'min'}.on_validation_batch_start                                                                        \t|  3.8456e-06     \t|  100            \t|  0.00038456     \t|  0.00018534     \t|\n",
      "|  [Callback]EarlyStopping{'monitor': 'val_loss', 'mode': 'min'}.on_validation_batch_end                                                                          \t|  3.8326e-06     \t|  100            \t|  0.00038326     \t|  0.00018471     \t|\n",
      "|  [LightningDataModule]LitImageNetDataModule.train_dataloader                                                                                                    \t|  0.00037742     \t|  1              \t|  0.00037742     \t|  0.0001819      \t|\n",
      "|  [Callback]EarlyStopping{'monitor': 'val_loss', 'mode': 'min'}.on_before_zero_grad                                                                              \t|  3.8047e-06     \t|  99             \t|  0.00037666     \t|  0.00018153     \t|\n",
      "|  [Callback]ModelSummary.on_train_batch_end                                                                                                                      \t|  3.77e-06       \t|  99             \t|  0.00037323     \t|  0.00017987     \t|\n",
      "|  [Callback]EarlyStopping{'monitor': 'val_loss', 'mode': 'min'}.on_train_epoch_start                                                                             \t|  3.7531e-06     \t|  99             \t|  0.00037156     \t|  0.00017907     \t|\n",
      "|  [Callback]EarlyStopping{'monitor': 'val_loss', 'mode': 'min'}.on_after_backward                                                                                \t|  3.53e-06       \t|  99             \t|  0.00034947     \t|  0.00016843     \t|\n",
      "|  [Callback]EarlyStopping{'monitor': 'val_loss', 'mode': 'min'}.on_train_batch_start                                                                             \t|  3.5245e-06     \t|  99             \t|  0.00034892     \t|  0.00016816     \t|\n",
      "|  [Callback]EarlyStopping{'monitor': 'val_loss', 'mode': 'min'}.on_validation_start                                                                              \t|  3.3214e-06     \t|  100            \t|  0.00033214     \t|  0.00016007     \t|\n",
      "|  [Callback]EarlyStopping{'monitor': 'val_loss', 'mode': 'min'}.on_validation_epoch_end                                                                          \t|  2.9453e-06     \t|  100            \t|  0.00029453     \t|  0.00014195     \t|\n",
      "|  [Callback]ModelSummary.on_train_epoch_start                                                                                                                    \t|  2.8783e-06     \t|  99             \t|  0.00028495     \t|  0.00013733     \t|\n",
      "|  [Callback]EarlyStopping{'monitor': 'val_loss', 'mode': 'min'}.on_train_batch_end                                                                               \t|  2.6202e-06     \t|  99             \t|  0.0002594      \t|  0.00012502     \t|\n",
      "|  [LightningModule]LitResNet50.on_train_batch_start                                                                                                              \t|  2.5869e-06     \t|  99             \t|  0.0002561      \t|  0.00012343     \t|\n",
      "|  [Callback]ModelCheckpoint{'monitor': None, 'mode': 'min', 'every_n_train_steps': 0, 'every_n_epochs': 1, 'train_time_interval': None}.on_validation_batch_start\t|  2.4292e-06     \t|  100            \t|  0.00024292     \t|  0.00011707     \t|\n",
      "|  [LightningModule]LitResNet50.on_validation_start                                                                                                               \t|  2.2039e-06     \t|  100            \t|  0.00022039     \t|  0.00010622     \t|\n",
      "|  [Callback]EarlyStopping{'monitor': 'val_loss', 'mode': 'min'}.on_validation_epoch_start                                                                        \t|  2.2002e-06     \t|  100            \t|  0.00022002     \t|  0.00010604     \t|\n",
      "|  [Callback]EarlyStopping{'monitor': 'val_loss', 'mode': 'min'}.on_save_checkpoint                                                                               \t|  2.1635e-06     \t|  99             \t|  0.00021419     \t|  0.00010323     \t|\n",
      "|  [LightningModule]LitResNet50.on_train_epoch_start                                                                                                              \t|  2.1137e-06     \t|  99             \t|  0.00020925     \t|  0.00010085     \t|\n",
      "|  [Strategy]SingleDeviceStrategy.on_validation_start                                                                                                             \t|  2.0379e-06     \t|  100            \t|  0.00020379     \t|  9.8217e-05     \t|\n",
      "|  [LightningDataModule]LitImageNetDataModule.state_dict                                                                                                          \t|  1.9879e-06     \t|  99             \t|  0.00019681     \t|  9.485e-05      \t|\n",
      "|  [Callback]TQDMProgressBar.on_after_backward                                                                                                                    \t|  1.8693e-06     \t|  99             \t|  0.00018506     \t|  8.9191e-05     \t|\n",
      "|  [Callback]ModelCheckpoint{'monitor': None, 'mode': 'min', 'every_n_train_steps': 0, 'every_n_epochs': 1, 'train_time_interval': None}.on_validation_start      \t|  1.8081e-06     \t|  100            \t|  0.00018081     \t|  8.714e-05      \t|\n",
      "|  [Callback]ModelCheckpoint{'monitor': None, 'mode': 'min', 'every_n_train_steps': 0, 'every_n_epochs': 1, 'train_time_interval': None}.on_validation_batch_end  \t|  1.7845e-06     \t|  100            \t|  0.00017845     \t|  8.6003e-05     \t|\n",
      "|  [LightningModule]LitResNet50.on_train_batch_end                                                                                                                \t|  1.7473e-06     \t|  99             \t|  0.00017298     \t|  8.3366e-05     \t|\n",
      "|  [Callback]EarlyStopping{'monitor': 'val_loss', 'mode': 'min'}.on_before_backward                                                                               \t|  1.6941e-06     \t|  99             \t|  0.00016772     \t|  8.083e-05      \t|\n",
      "|  [Callback]EarlyStopping{'monitor': 'val_loss', 'mode': 'min'}.on_before_optimizer_step                                                                         \t|  1.6921e-06     \t|  99             \t|  0.00016752     \t|  8.0735e-05     \t|\n",
      "|  [Strategy]SingleDeviceStrategy.on_train_batch_start                                                                                                            \t|  1.6814e-06     \t|  99             \t|  0.00016646     \t|  8.0226e-05     \t|\n",
      "|  [LightningModule]LitResNet50.on_validation_epoch_end                                                                                                           \t|  1.618e-06      \t|  100            \t|  0.0001618      \t|  7.7979e-05     \t|\n",
      "|  [Callback]TQDMProgressBar.on_save_checkpoint                                                                                                                   \t|  1.5979e-06     \t|  99             \t|  0.00015819     \t|  7.6241e-05     \t|\n",
      "|  [LightningModule]LitResNet50.on_validation_batch_end                                                                                                           \t|  1.5467e-06     \t|  100            \t|  0.00015467     \t|  7.4545e-05     \t|\n",
      "|  [Callback]TQDMProgressBar.on_validation_epoch_start                                                                                                            \t|  1.4491e-06     \t|  100            \t|  0.00014491     \t|  6.984e-05      \t|\n",
      "|  [LightningModule]LitResNet50.on_validation_epoch_start                                                                                                         \t|  1.4342e-06     \t|  100            \t|  0.00014342     \t|  6.912e-05      \t|\n",
      "|  [Callback]TQDMProgressBar.on_validation_epoch_end                                                                                                              \t|  1.3913e-06     \t|  100            \t|  0.00013913     \t|  6.7052e-05     \t|\n",
      "|  [LightningModule]LitResNet50.on_validation_end                                                                                                                 \t|  1.3802e-06     \t|  100            \t|  0.00013802     \t|  6.6517e-05     \t|\n",
      "|  [Callback]TQDMProgressBar.on_train_batch_start                                                                                                                 \t|  1.3478e-06     \t|  99             \t|  0.00013343     \t|  6.4307e-05     \t|\n",
      "|  [Callback]ModelCheckpoint{'monitor': None, 'mode': 'min', 'every_n_train_steps': 0, 'every_n_epochs': 1, 'train_time_interval': None}.on_validation_epoch_start\t|  1.3152e-06     \t|  100            \t|  0.00013152     \t|  6.3387e-05     \t|\n",
      "|  [LightningModule]LitResNet50.on_before_backward                                                                                                                \t|  1.3182e-06     \t|  99             \t|  0.0001305      \t|  6.2893e-05     \t|\n",
      "|  [Callback]ModelSummary.on_validation_epoch_start                                                                                                               \t|  1.3025e-06     \t|  100            \t|  0.00013025     \t|  6.2773e-05     \t|\n",
      "|  [Strategy]SingleDeviceStrategy.on_validation_end                                                                                                               \t|  1.265e-06      \t|  100            \t|  0.0001265      \t|  6.0965e-05     \t|\n",
      "|  [Callback]ModelCheckpoint{'monitor': None, 'mode': 'min', 'every_n_train_steps': 0, 'every_n_epochs': 1, 'train_time_interval': None}.on_save_checkpoint       \t|  1.2474e-06     \t|  99             \t|  0.00012349     \t|  5.9515e-05     \t|\n",
      "|  [Callback]ModelCheckpoint{'monitor': None, 'mode': 'min', 'every_n_train_steps': 0, 'every_n_epochs': 1, 'train_time_interval': None}.on_validation_epoch_end  \t|  1.2282e-06     \t|  100            \t|  0.00012282     \t|  5.9193e-05     \t|\n",
      "|  [Callback]ModelSummary.on_train_batch_start                                                                                                                    \t|  1.23e-06       \t|  99             \t|  0.00012177     \t|  5.8685e-05     \t|\n",
      "|  [Callback]ModelSummary.on_validation_epoch_end                                                                                                                 \t|  1.2085e-06     \t|  100            \t|  0.00012085     \t|  5.8242e-05     \t|\n",
      "|  [Callback]ModelSummary.on_before_optimizer_step                                                                                                                \t|  1.2177e-06     \t|  99             \t|  0.00012055     \t|  5.8099e-05     \t|\n",
      "|  [Callback]TQDMProgressBar.on_before_zero_grad                                                                                                                  \t|  1.208e-06      \t|  99             \t|  0.00011959     \t|  5.7638e-05     \t|\n",
      "|  [Callback]ModelCheckpoint{'monitor': None, 'mode': 'min', 'every_n_train_steps': 0, 'every_n_epochs': 1, 'train_time_interval': None}.on_train_epoch_start     \t|  1.173e-06      \t|  99             \t|  0.00011613     \t|  5.5968e-05     \t|\n",
      "|  [Callback]ModelCheckpoint{'monitor': None, 'mode': 'min', 'every_n_train_steps': 0, 'every_n_epochs': 1, 'train_time_interval': None}.on_train_batch_start     \t|  1.1676e-06     \t|  99             \t|  0.00011559     \t|  5.5708e-05     \t|\n",
      "|  [LightningModule]LitResNet50.on_before_zero_grad                                                                                                               \t|  1.1473e-06     \t|  99             \t|  0.00011358     \t|  5.4742e-05     \t|\n",
      "|  [Callback]ModelCheckpoint{'monitor': None, 'mode': 'min', 'every_n_train_steps': 0, 'every_n_epochs': 1, 'train_time_interval': None}.on_before_zero_grad      \t|  1.1454e-06     \t|  99             \t|  0.0001134      \t|  5.4651e-05     \t|\n",
      "|  [Callback]ModelCheckpoint{'monitor': None, 'mode': 'min', 'every_n_train_steps': 0, 'every_n_epochs': 1, 'train_time_interval': None}.on_after_backward        \t|  1.134e-06      \t|  99             \t|  0.00011226     \t|  5.4104e-05     \t|\n",
      "|  [Callback]ModelCheckpoint{'monitor': None, 'mode': 'min', 'every_n_train_steps': 0, 'every_n_epochs': 1, 'train_time_interval': None}.on_before_optimizer_step \t|  1.1113e-06     \t|  99             \t|  0.00011002     \t|  5.3023e-05     \t|\n",
      "|  [Callback]TQDMProgressBar.on_before_optimizer_step                                                                                                             \t|  1.0937e-06     \t|  99             \t|  0.00010827     \t|  5.2182e-05     \t|\n",
      "|  [Callback]ModelCheckpoint{'monitor': None, 'mode': 'min', 'every_n_train_steps': 0, 'every_n_epochs': 1, 'train_time_interval': None}.on_before_backward       \t|  1.065e-06      \t|  99             \t|  0.00010544     \t|  5.0816e-05     \t|\n",
      "|  [Callback]ModelSummary.on_after_backward                                                                                                                       \t|  1.0161e-06     \t|  99             \t|  0.00010059     \t|  4.848e-05      \t|\n",
      "|  [Callback]ModelSummary.on_before_zero_grad                                                                                                                     \t|  9.9773e-07     \t|  99             \t|  9.8776e-05     \t|  4.7604e-05     \t|\n",
      "|  [Callback]TQDMProgressBar.on_before_backward                                                                                                                   \t|  9.6102e-07     \t|  99             \t|  9.5141e-05     \t|  4.5853e-05     \t|\n",
      "|  [Callback]ModelSummary.on_save_checkpoint                                                                                                                      \t|  9.4454e-07     \t|  99             \t|  9.3509e-05     \t|  4.5066e-05     \t|\n",
      "|  [LightningModule]LitResNet50.on_before_optimizer_step                                                                                                          \t|  9.1731e-07     \t|  99             \t|  9.0813e-05     \t|  4.3767e-05     \t|\n",
      "|  [Callback]ModelSummary.on_before_backward                                                                                                                      \t|  8.832e-07      \t|  99             \t|  8.7437e-05     \t|  4.214e-05      \t|\n",
      "|  [LightningModule]LitResNet50.on_save_checkpoint                                                                                                                \t|  8.7747e-07     \t|  99             \t|  8.687e-05      \t|  4.1866e-05     \t|\n",
      "|  [Callback]EarlyStopping{'monitor': 'val_loss', 'mode': 'min'}.setup                                                                                            \t|  2.2239e-05     \t|  1              \t|  2.2239e-05     \t|  1.0718e-05     \t|\n",
      "|  [Callback]TQDMProgressBar.setup                                                                                                                                \t|  1.7388e-05     \t|  1              \t|  1.7388e-05     \t|  8.38e-06       \t|\n",
      "|  [Callback]EarlyStopping{'monitor': 'val_loss', 'mode': 'min'}.on_train_start                                                                                   \t|  1.539e-05      \t|  1              \t|  1.539e-05      \t|  7.4172e-06     \t|\n",
      "|  [Callback]EarlyStopping{'monitor': 'val_loss', 'mode': 'min'}.on_sanity_check_start                                                                            \t|  1.1493e-05     \t|  1              \t|  1.1493e-05     \t|  5.539e-06      \t|\n",
      "|  [Callback]TQDMProgressBar.on_sanity_check_end                                                                                                                  \t|  9.6573e-06     \t|  1              \t|  9.6573e-06     \t|  4.6543e-06     \t|\n",
      "|  [LightningModule]LitResNet50.configure_callbacks                                                                                                               \t|  8.2073e-06     \t|  1              \t|  8.2073e-06     \t|  3.9555e-06     \t|\n",
      "|  [LightningDataModule]LitImageNetDataModule.prepare_data                                                                                                        \t|  8.0792e-06     \t|  1              \t|  8.0792e-06     \t|  3.8937e-06     \t|\n",
      "|  [Callback]EarlyStopping{'monitor': 'val_loss', 'mode': 'min'}.on_fit_end                                                                                       \t|  6.9682e-06     \t|  1              \t|  6.9682e-06     \t|  3.3583e-06     \t|\n",
      "|  [LightningModule]LitResNet50.setup                                                                                                                             \t|  6.9612e-06     \t|  1              \t|  6.9612e-06     \t|  3.3549e-06     \t|\n",
      "|  [Callback]EarlyStopping{'monitor': 'val_loss', 'mode': 'min'}.teardown                                                                                         \t|  4.468e-06      \t|  1              \t|  4.468e-06      \t|  2.1533e-06     \t|\n",
      "|  [LightningDataModule]LitImageNetDataModule.teardown                                                                                                            \t|  4.462e-06      \t|  1              \t|  4.462e-06      \t|  2.1504e-06     \t|\n",
      "|  [Callback]ModelSummary.on_train_start                                                                                                                          \t|  4.3428e-06     \t|  1              \t|  4.3428e-06     \t|  2.093e-06      \t|\n",
      "|  [Callback]EarlyStopping{'monitor': 'val_loss', 'mode': 'min'}.on_fit_start                                                                                     \t|  4.0811e-06     \t|  1              \t|  4.0811e-06     \t|  1.9668e-06     \t|\n",
      "|  [Callback]ModelCheckpoint{'monitor': None, 'mode': 'min', 'every_n_train_steps': 0, 'every_n_epochs': 1, 'train_time_interval': None}.on_fit_start             \t|  4.0121e-06     \t|  1              \t|  4.0121e-06     \t|  1.9336e-06     \t|\n",
      "|  [LightningModule]LitResNet50.on_train_start                                                                                                                    \t|  3.8031e-06     \t|  1              \t|  3.8031e-06     \t|  1.8329e-06     \t|\n",
      "|  [Strategy]SingleDeviceStrategy.on_train_start                                                                                                                  \t|  3.7258e-06     \t|  1              \t|  3.7258e-06     \t|  1.7956e-06     \t|\n",
      "|  [Callback]EarlyStopping{'monitor': 'val_loss', 'mode': 'min'}.on_train_end                                                                                     \t|  3.6191e-06     \t|  1              \t|  3.6191e-06     \t|  1.7442e-06     \t|\n",
      "|  [Callback]TQDMProgressBar.on_fit_end                                                                                                                           \t|  3.3141e-06     \t|  1              \t|  3.3141e-06     \t|  1.5972e-06     \t|\n",
      "|  [Callback]TQDMProgressBar.teardown                                                                                                                             \t|  3.255e-06      \t|  1              \t|  3.255e-06      \t|  1.5687e-06     \t|\n",
      "|  [Callback]ModelCheckpoint{'monitor': None, 'mode': 'min', 'every_n_train_steps': 0, 'every_n_epochs': 1, 'train_time_interval': None}.teardown                 \t|  3.2303e-06     \t|  1              \t|  3.2303e-06     \t|  1.5568e-06     \t|\n",
      "|  [Callback]ModelCheckpoint{'monitor': None, 'mode': 'min', 'every_n_train_steps': 0, 'every_n_epochs': 1, 'train_time_interval': None}.on_train_start           \t|  3.1628e-06     \t|  1              \t|  3.1628e-06     \t|  1.5243e-06     \t|\n",
      "|  [Callback]ModelSummary.on_train_end                                                                                                                            \t|  3.1232e-06     \t|  1              \t|  3.1232e-06     \t|  1.5052e-06     \t|\n",
      "|  [LightningModule]LitResNet50.on_fit_end                                                                                                                        \t|  3.071e-06      \t|  1              \t|  3.071e-06      \t|  1.4801e-06     \t|\n",
      "|  [Callback]ModelSummary.on_sanity_check_start                                                                                                                   \t|  3.0552e-06     \t|  1              \t|  3.0552e-06     \t|  1.4724e-06     \t|\n",
      "|  [Callback]ModelSummary.setup                                                                                                                                   \t|  3.0091e-06     \t|  1              \t|  3.0091e-06     \t|  1.4502e-06     \t|\n",
      "|  [LightningModule]LitResNet50.prepare_data                                                                                                                      \t|  2.8862e-06     \t|  1              \t|  2.8862e-06     \t|  1.391e-06      \t|\n",
      "|  [Callback]ModelSummary.teardown                                                                                                                                \t|  2.8471e-06     \t|  1              \t|  2.8471e-06     \t|  1.3721e-06     \t|\n",
      "|  [Callback]ModelCheckpoint{'monitor': None, 'mode': 'min', 'every_n_train_steps': 0, 'every_n_epochs': 1, 'train_time_interval': None}.on_fit_end               \t|  2.76e-06       \t|  1              \t|  2.76e-06       \t|  1.3302e-06     \t|\n",
      "|  [Callback]EarlyStopping{'monitor': 'val_loss', 'mode': 'min'}.on_sanity_check_end                                                                              \t|  2.7381e-06     \t|  1              \t|  2.7381e-06     \t|  1.3196e-06     \t|\n",
      "|  [Callback]ModelSummary.on_fit_end                                                                                                                              \t|  2.542e-06      \t|  1              \t|  2.542e-06      \t|  1.2251e-06     \t|\n",
      "|  [LightningModule]LitResNet50.on_fit_start                                                                                                                      \t|  2.5211e-06     \t|  1              \t|  2.5211e-06     \t|  1.215e-06      \t|\n",
      "|  [LightningModule]LitResNet50.teardown                                                                                                                          \t|  2.3199e-06     \t|  1              \t|  2.3199e-06     \t|  1.1181e-06     \t|\n",
      "|  [Callback]TQDMProgressBar.on_fit_start                                                                                                                         \t|  1.9302e-06     \t|  1              \t|  1.9302e-06     \t|  9.3024e-07     \t|\n",
      "|  [Strategy]SingleDeviceStrategy.on_train_end                                                                                                                    \t|  1.7351e-06     \t|  1              \t|  1.7351e-06     \t|  8.362e-07      \t|\n",
      "|  [LightningModule]LitResNet50.on_train_end                                                                                                                      \t|  1.193e-06      \t|  1              \t|  1.193e-06      \t|  5.7497e-07     \t|\n",
      "|  [Callback]ModelCheckpoint{'monitor': None, 'mode': 'min', 'every_n_train_steps': 0, 'every_n_epochs': 1, 'train_time_interval': None}.on_sanity_check_start    \t|  1.1809e-06     \t|  1              \t|  1.1809e-06     \t|  5.6914e-07     \t|\n",
      "|  [Callback]ModelCheckpoint{'monitor': None, 'mode': 'min', 'every_n_train_steps': 0, 'every_n_epochs': 1, 'train_time_interval': None}.on_train_end             \t|  1.146e-06      \t|  1              \t|  1.146e-06      \t|  5.5231e-07     \t|\n",
      "|  [Callback]ModelSummary.on_sanity_check_end                                                                                                                     \t|  1.0622e-06     \t|  1              \t|  1.0622e-06     \t|  5.1191e-07     \t|\n",
      "|  [Callback]ModelCheckpoint{'monitor': None, 'mode': 'min', 'every_n_train_steps': 0, 'every_n_epochs': 1, 'train_time_interval': None}.on_sanity_check_end      \t|  9.7975e-07     \t|  1              \t|  9.7975e-07     \t|  4.7219e-07     \t|\n",
      "--------------------------------------------------------------------------------------------------------------------------------------------------------------------------------------------------------------------------------------------------------------------------\n",
      "\n"
     ]
    }
   ],
   "source": [
    "root = \"/datashare/ImageNet/ILSVRC2012\"\n",
    "meta_path = (\n",
    "    \"/home/soroush1/projects/def-kohitij/soroush1/pretrain-imagenet/data/ImageNet\"\n",
    ")\n",
    "datamodule = LitImageNetDataModule(\n",
    "    root=root,\n",
    "    meta_path=meta_path,\n",
    "    num_workers=4,\n",
    "    batch_size=32,\n",
    "    desired_image_size=224,\n",
    ")\n",
    "tb_logger = TensorBoardLogger(\"./image_net/resnet101_lalem\")\n",
    "\n",
    "# 1.9054607179632464e-05\n",
    "model = LitResNet50(learning_rate=1e-2, task=\"classification\")\n",
    "\n",
    "trainer = Trainer(\n",
    "    max_epochs=500,\n",
    "    callbacks=[EarlyStopping(monitor=\"val_loss\", mode=\"min\", patience=10)],\n",
    "    fast_dev_run=False,\n",
    "    devices=\"auto\",\n",
    "    accelerator=\"gpu\",\n",
    "    num_nodes=1,\n",
    "    strategy=\"auto\",\n",
    "    overfit_batches=1,\n",
    "    gradient_clip_val=0.5,\n",
    "    logger=tb_logger,\n",
    "    profiler=\"simple\",\n",
    "    # check_val_every_n_epoch = 1,\n",
    "    # log_every_n_steps=1\n",
    ")\n",
    "\n",
    "trainer.fit(model=model, datamodule=datamodule)"
   ]
  },
  {
   "cell_type": "code",
   "execution_count": 6,
   "metadata": {},
   "outputs": [
    {
     "name": "stderr",
     "output_type": "stream",
     "text": [
      "/home/soroush1/projects/def-kohitij/soroush1/pretrain-imagenet/.venv/lib/python3.11/site-packages/lightning/fabric/plugins/environments/slurm.py:204: The `srun` command is available on your system but is not used. HINT: If your intention is to run Lightning on SLURM, prepend your python command with `srun` like so: srun python /home/soroush1/projects/def-kohitij/soroush1/pretrai ...\n",
      "GPU available: True (cuda), used: True\n",
      "TPU available: False, using: 0 TPU cores\n",
      "IPU available: False, using: 0 IPUs\n",
      "HPU available: False, using: 0 HPUs\n",
      "`Trainer(overfit_batches=1)` was configured so 1 batch will be used.\n",
      "/home/soroush1/projects/def-kohitij/soroush1/pretrain-imagenet/.venv/lib/python3.11/site-packages/lightning/pytorch/trainer/call.py:54: Detected KeyboardInterrupt, attempting graceful shutdown...\n"
     ]
    },
    {
     "ename": "AttributeError",
     "evalue": "'LearningRateFinder' object has no attribute 'optimal_lr'",
     "output_type": "error",
     "traceback": [
      "\u001b[0;31m---------------------------------------------------------------------------\u001b[0m",
      "\u001b[0;31mAttributeError\u001b[0m                            Traceback (most recent call last)",
      "Cell \u001b[0;32mIn[6], line 41\u001b[0m\n\u001b[1;32m     34\u001b[0m tuner \u001b[38;5;241m=\u001b[39m Tuner(trainer)\n\u001b[1;32m     35\u001b[0m \u001b[38;5;66;03m# Auto-scale batch size by growing it exponentially (default)\u001b[39;00m\n\u001b[1;32m     36\u001b[0m \u001b[38;5;66;03m# tuner.scale_batch_size(model, datamodule=datamodule, mode=\"power\")\u001b[39;00m\n\u001b[1;32m     37\u001b[0m \n\u001b[1;32m     38\u001b[0m \u001b[38;5;66;03m# finds learning rate automatically\u001b[39;00m\n\u001b[1;32m     39\u001b[0m \u001b[38;5;66;03m# sets hparams.lr or hparams.learning_rate to that learning rate\u001b[39;00m\n\u001b[1;32m     40\u001b[0m \u001b[38;5;66;03m# Run learning rate finder\u001b[39;00m\n\u001b[0;32m---> 41\u001b[0m lr_finder \u001b[38;5;241m=\u001b[39m \u001b[43mtuner\u001b[49m\u001b[38;5;241;43m.\u001b[39;49m\u001b[43mlr_find\u001b[49m\u001b[43m(\u001b[49m\u001b[43mmodel\u001b[49m\u001b[43m,\u001b[49m\u001b[43m \u001b[49m\u001b[43mdatamodule\u001b[49m\u001b[38;5;241;43m=\u001b[39;49m\u001b[43mdatamodule\u001b[49m\u001b[43m)\u001b[49m\n\u001b[1;32m     43\u001b[0m \u001b[38;5;66;03m# Results can be found in\u001b[39;00m\n\u001b[1;32m     44\u001b[0m \u001b[38;5;28mprint\u001b[39m(lr_finder\u001b[38;5;241m.\u001b[39mresults)\n",
      "File \u001b[0;32m~/projects/def-kohitij/soroush1/pretrain-imagenet/.venv/lib/python3.11/site-packages/lightning/pytorch/tuner/tuning.py:184\u001b[0m, in \u001b[0;36mTuner.lr_find\u001b[0;34m(self, model, train_dataloaders, val_dataloaders, dataloaders, datamodule, method, min_lr, max_lr, num_training, mode, early_stop_threshold, update_attr, attr_name)\u001b[0m\n\u001b[1;32m    180\u001b[0m \u001b[38;5;28mself\u001b[39m\u001b[38;5;241m.\u001b[39m_trainer\u001b[38;5;241m.\u001b[39mfit(model, train_dataloaders, val_dataloaders, datamodule)\n\u001b[1;32m    182\u001b[0m \u001b[38;5;28mself\u001b[39m\u001b[38;5;241m.\u001b[39m_trainer\u001b[38;5;241m.\u001b[39mcallbacks \u001b[38;5;241m=\u001b[39m [cb \u001b[38;5;28;01mfor\u001b[39;00m cb \u001b[38;5;129;01min\u001b[39;00m \u001b[38;5;28mself\u001b[39m\u001b[38;5;241m.\u001b[39m_trainer\u001b[38;5;241m.\u001b[39mcallbacks \u001b[38;5;28;01mif\u001b[39;00m cb \u001b[38;5;129;01mis\u001b[39;00m \u001b[38;5;129;01mnot\u001b[39;00m lr_finder_callback]\n\u001b[0;32m--> 184\u001b[0m \u001b[38;5;28;01mreturn\u001b[39;00m \u001b[43mlr_finder_callback\u001b[49m\u001b[38;5;241;43m.\u001b[39;49m\u001b[43moptimal_lr\u001b[49m\n",
      "\u001b[0;31mAttributeError\u001b[0m: 'LearningRateFinder' object has no attribute 'optimal_lr'"
     ]
    }
   ],
   "source": [
    "root = \"/datashare/ImageNet/ILSVRC2012\"\n",
    "meta_path = (\n",
    "    \"/home/soroush1/projects/def-kohitij/soroush1/pretrain-imagenet/data/ImageNet\"\n",
    ")\n",
    "datamodule = LitImageNetDataModule(\n",
    "    root=root,\n",
    "    meta_path=meta_path,\n",
    "    num_workers=4,\n",
    "    batch_size=128,\n",
    "    desired_image_size=224,\n",
    ")\n",
    "tb_logger = TensorBoardLogger(\"./image_net/resnet_lalem\")\n",
    "\n",
    "model = LitResNet50(learning_rate=1e-1, task=\"classification\")\n",
    "\n",
    "trainer = Trainer(\n",
    "    max_epochs=200,\n",
    "    # callbacks=[EarlyStopping(monitor=\"val_loss\", mode=\"min\", patience=10)],\n",
    "    callbacks=[StochasticWeightAveraging(swa_lrs=1e-2)],\n",
    "    fast_dev_run=False,\n",
    "    devices=\"auto\",\n",
    "    accelerator=\"gpu\",\n",
    "    num_nodes=1,\n",
    "    strategy=\"auto\",\n",
    "    overfit_batches=1,\n",
    "    gradient_clip_val=0.5,\n",
    "    logger=tb_logger,\n",
    "    # check_val_every_n_epoch = 1,\n",
    "    # log_every_n_steps=1\n",
    ")\n",
    "\n",
    "# trainer.fit(model=model, datamodule=datamodule)\n",
    "\n",
    "tuner = Tuner(trainer)\n",
    "# Auto-scale batch size by growing it exponentially (default)\n",
    "# tuner.scale_batch_size(model, datamodule=datamodule, mode=\"power\")\n",
    "\n",
    "# finds learning rate automatically\n",
    "# sets hparams.lr or hparams.learning_rate to that learning rate\n",
    "# Run learning rate finder\n",
    "lr_finder = tuner.lr_find(model, datamodule=datamodule)\n",
    "\n",
    "# Results can be found in\n",
    "print(lr_finder.results)\n",
    "\n",
    "# Pick point based on plot, or get suggestion\n",
    "new_lr = lr_finder.suggestion()\n",
    "\n",
    "fig = lr_finder.plot(suggest=True)\n",
    "\n",
    "# # update hparams of the model\n",
    "# model.hparams.learning_rate = new_lr"
   ]
  },
  {
   "cell_type": "code",
   "execution_count": null,
   "metadata": {},
   "outputs": [],
   "source": [
    "fig = lr_finder.plot(suggest=True)\n",
    "new_lr = lr_finder.suggestion()"
   ]
  },
  {
   "cell_type": "code",
   "execution_count": null,
   "metadata": {},
   "outputs": [],
   "source": [
    "new_lr"
   ]
  }
 ],
 "metadata": {
  "kernelspec": {
   "display_name": "Python 3 (ipykernel)",
   "language": "python",
   "name": "python3"
  },
  "language_info": {
   "codemirror_mode": {
    "name": "ipython",
    "version": 3
   },
   "file_extension": ".py",
   "mimetype": "text/x-python",
   "name": "python",
   "nbconvert_exporter": "python",
   "pygments_lexer": "ipython3",
   "version": "3.11.5"
  }
 },
 "nbformat": 4,
 "nbformat_minor": 4
}
