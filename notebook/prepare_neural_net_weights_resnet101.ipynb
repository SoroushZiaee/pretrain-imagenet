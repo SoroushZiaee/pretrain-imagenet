{
 "cells": [
  {
   "cell_type": "code",
   "execution_count": 1,
   "id": "95acacdc",
   "metadata": {},
   "outputs": [],
   "source": [
    "import torch\n",
    "import torch.nn as nn\n",
    "from torchvision.models import resnet101"
   ]
  },
  {
   "cell_type": "code",
   "execution_count": 4,
   "id": "212ee26f",
   "metadata": {},
   "outputs": [],
   "source": [
    "class ResNet101Regression(nn.Module):\n",
    "    def __init__(self, num_output_features=1, checkpoint=checkpoint):\n",
    "        super().__init__()\n",
    "        # Load a pre-trained ResNet-50 model\n",
    "        self.resnet = resnet101(weights=None)\n",
    "        # Replace the classifier layer for regression\n",
    "        num_ftrs = self.resnet.fc.in_features\n",
    "        self.resnet.fc = nn.Linear(num_ftrs, num_output_features)\n",
    "        # If your targets are in the range [0, 1], you might want to add a sigmoid layer:\n",
    "        self.sigmoid = nn.Sigmoid()\n",
    "\n",
    "        # If the checkpoint contains other items, make sure to load the state_dict correctly\n",
    "        if checkpoint is not None:\n",
    "            self._checkpoint = self._prepare_lightning_state_dict(\n",
    "                checkpoint[\"state_dict\"]\n",
    "            )\n",
    "            self.resnet.load_state_dict(self._checkpoint)\n",
    "\n",
    "    def _prepare_lightning_state_dict(self, state_dict):\n",
    "        # If the state_dict is from a Lightning model, it might contain the model and optimizer states\n",
    "        new_state_dict = {}\n",
    "        for key, value in state_dict.items():\n",
    "            if key.startswith(\"model.resnet.\"):\n",
    "                new_state_dict[key.replace(\"model.resnet.\", \"\")] = value\n",
    "\n",
    "        return new_state_dict\n",
    "\n",
    "    def forward(self, x):\n",
    "        x = self.resnet(x)\n",
    "        x = self.sigmoid(x)\n",
    "        return x"
   ]
  },
  {
   "cell_type": "code",
   "execution_count": 6,
   "id": "ff37d59d",
   "metadata": {},
   "outputs": [],
   "source": [
    "MODEL_WEIGHTS = \"/home/soroush1/projects/def-kohitij/soroush1/pretrain-imagenet/resnet101_lalem/lightning_logs/version_0/checkpoints/epoch=220-step=77792.ckpt\"\n",
    "\n",
    "# Load the checkpoint\n",
    "checkpoint = torch.load(MODEL_WEIGHTS, map_location=torch.device(\"cpu\"))\n",
    "resnet101_model = ResNet101Regression(num_output_features=1, checkpoint=checkpoint)"
   ]
  }
 ],
 "metadata": {
  "kernelspec": {
   "display_name": "Python 3 (ipykernel)",
   "language": "python",
   "name": "python3"
  },
  "language_info": {
   "codemirror_mode": {
    "name": "ipython",
    "version": 3
   },
   "file_extension": ".py",
   "mimetype": "text/x-python",
   "name": "python",
   "nbconvert_exporter": "python",
   "pygments_lexer": "ipython3",
   "version": "3.11.2"
  }
 },
 "nbformat": 4,
 "nbformat_minor": 5
}
