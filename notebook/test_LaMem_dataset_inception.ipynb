{
 "cells": [
  {
   "cell_type": "markdown",
   "metadata": {
    "jp-MarkdownHeadingCollapsed": true
   },
   "source": [
    "# Pesudocode"
   ]
  },
  {
   "cell_type": "code",
   "execution_count": null,
   "metadata": {},
   "outputs": [],
   "source": [
    "%load_ext lab_black\n",
    "%load_ext autoreload\n",
    "%autoreload 2"
   ]
  },
  {
   "cell_type": "code",
   "execution_count": null,
   "metadata": {},
   "outputs": [],
   "source": [
    "import sys\n",
    "\n",
    "if not \"..\" in sys.path:\n",
    "    sys.path.append(\"..\")"
   ]
  },
  {
   "cell_type": "code",
   "execution_count": null,
   "metadata": {},
   "outputs": [],
   "source": [
    "import torch\n",
    "\n",
    "from lit_modules.litdatamodules.lit_lamem import LitLaMemDataModule\n",
    "from datasets.LaMem.LaMemDataset import LaMem"
   ]
  },
  {
   "cell_type": "code",
   "execution_count": null,
   "metadata": {
    "scrolled": true
   },
   "outputs": [],
   "source": [
    "from time import time\n",
    "\n",
    "start = time()\n",
    "root = \"/home/soroush1/projects/def-kohitij/soroush1/pretrain-imagenet/data/LaMem/lamem_images/lamem\"\n",
    "\n",
    "data = LitLaMemDataModule(\n",
    "    root=root, num_workers=1, batch_size=128, dev_mode=False, desired_image_size=224\n",
    ")\n",
    "data.setup(\"train\")\n",
    "\n",
    "train_dl = data.train_dataloader()\n",
    "x, y = next(iter(train_dl))\n",
    "\n",
    "print(f\"{abs(start - time())}\")\n",
    "print(f\"{x.size() = }\")"
   ]
  },
  {
   "cell_type": "code",
   "execution_count": null,
   "metadata": {},
   "outputs": [],
   "source": [
    "import gc\n",
    "\n",
    "del data, train_dl, x, y\n",
    "\n",
    "gc.collect()"
   ]
  },
  {
   "cell_type": "code",
   "execution_count": null,
   "metadata": {},
   "outputs": [],
   "source": [
    "from torchvision.transforms import ToPILImage\n",
    "import matplotlib.pyplot as plt\n",
    "import numpy as np\n",
    "\n",
    "# Select 20 random images and their scores\n",
    "indices = torch.randperm(len(x))[:20]\n",
    "selected_images = x[indices]\n",
    "selected_scores = y[indices]\n",
    "\n",
    "# Convert images to PIL images for plotting\n",
    "to_pil = ToPILImage()\n",
    "\n",
    "# Plotting the images with memorability scores as titles\n",
    "fig, axes = plt.subplots(4, 5, figsize=(20, 16))  # Adjust the size as needed\n",
    "axes = axes.ravel()\n",
    "\n",
    "for i, (img, score) in enumerate(zip(selected_images, selected_scores)):\n",
    "    img = to_pil(img)  # Convert to PIL for display\n",
    "    axes[i].imshow(np.asarray(img))\n",
    "    axes[i].set_title(f\"Memorability Score = {score:.2f}\")\n",
    "    axes[i].axis(\"off\")  # Hide axes\n",
    "\n",
    "plt.tight_layout()\n",
    "plt.show()"
   ]
  },
  {
   "cell_type": "code",
   "execution_count": null,
   "metadata": {},
   "outputs": [],
   "source": [
    "from lit_modules.litmodels.lit_vgg import VGGRegression\n",
    "\n",
    "from lit_modules.litmodels.lit_resnet import LitResNet50\n",
    "\n",
    "import torch.nn.functional as F"
   ]
  },
  {
   "cell_type": "code",
   "execution_count": null,
   "metadata": {},
   "outputs": [],
   "source": [
    "# Example usage\n",
    "model = LitResNet50(learning_rate=1e-4)\n",
    "\n",
    "# Example input tensor (batch size, channels, height, width)\n",
    "input_tensor = torch.randn(8, 3, 224, 224)\n",
    "\n",
    "# Get the regression output\n",
    "output = model(input_tensor)\n",
    "print(output)"
   ]
  },
  {
   "cell_type": "code",
   "execution_count": null,
   "metadata": {},
   "outputs": [],
   "source": [
    "from tqdm.notebook import tqdm"
   ]
  },
  {
   "cell_type": "code",
   "execution_count": null,
   "metadata": {},
   "outputs": [],
   "source": [
    "device = torch.device(\"cuda\" if torch.cuda.is_available() else \"cpu\")\n",
    "\n",
    "root = \"/home/soroush1/projects/def-kohitij/soroush1/pretrain-imagenet/data/LaMem/lamem_images/lamem/\"\n",
    "\n",
    "data = LitLaMemDataModule(root=root, num_workers=1, batch_size=32, dev_mode=True)\n",
    "data.setup(\"train\")\n",
    "\n",
    "train_dl = data.train_dataloader()\n",
    "x, y = next(iter(train_dl))\n",
    "\n",
    "\n",
    "model = VGGRegression(output_dim=1)\n",
    "model.to(device)\n",
    "\n",
    "\n",
    "for x, y in tqdm(train_dl):\n",
    "    x = x.to(device)\n",
    "    y = y.to(device)\n",
    "    \n",
    "    output = model(x)\n",
    "    \n",
    "    loss = F.mse_loss(output.squeeze(), y)\n",
    "    \n",
    "    print(f\"{loss = }\")\n",
    "\n",
    "del x, y, data, train_dl\n",
    "del model\n",
    "\n",
    "import gc\n",
    "\n",
    "# Clear GPU cache\n",
    "if torch.cuda.is_available():\n",
    "    torch.cuda.empty_cache()\n",
    "\n",
    "# Collect garbage\n",
    "gc.collect()"
   ]
  },
  {
   "cell_type": "markdown",
   "metadata": {},
   "source": [
    "# Lightning"
   ]
  },
  {
   "cell_type": "code",
   "execution_count": 1,
   "metadata": {},
   "outputs": [],
   "source": [
    "%load_ext lab_black\n",
    "%load_ext autoreload\n",
    "%autoreload 2"
   ]
  },
  {
   "cell_type": "code",
   "execution_count": 2,
   "metadata": {},
   "outputs": [],
   "source": [
    "import sys\n",
    "\n",
    "if not \"..\" in sys.path:\n",
    "    sys.path.append(\"..\")"
   ]
  },
  {
   "cell_type": "code",
   "execution_count": 3,
   "metadata": {},
   "outputs": [],
   "source": [
    "import torch\n",
    "\n",
    "from lit_modules.litdatamodules.lit_lamem import LitLaMemDataModule\n",
    "from lit_modules.litmodels.lit_inception import LitInception\n",
    "\n",
    "\n",
    "from lightning.pytorch.callbacks.early_stopping import EarlyStopping\n",
    "from lightning.pytorch.callbacks import DeviceStatsMonitor, StochasticWeightAveraging\n",
    "\n",
    "from lightning.pytorch.tuner import Tuner\n",
    "from lightning.pytorch.loggers import TensorBoardLogger\n",
    "\n",
    "from lightning import Trainer\n",
    "\n",
    "from tqdm.notebook import tqdm"
   ]
  },
  {
   "cell_type": "markdown",
   "metadata": {},
   "source": [
    "### Experiments \n",
    "\n",
    "- Version0\n",
    "- Version1\n",
    "- Version2\n",
    "    - Experiment:\n",
    "        - First Run on LaMem Dataset\n",
    "        - Finding the Batch size\n",
    "        - Finding the Learning Rate\n",
    "    - Result:\n",
    "        - Batch size = 96\n",
    "        - LR = 1e-4\n",
    "\n",
    "- Version7\n",
    "    - Experiment:\n",
    "        - First Run on LaMem Dataset"
   ]
  },
  {
   "cell_type": "code",
   "execution_count": 4,
   "metadata": {},
   "outputs": [
    {
     "name": "stderr",
     "output_type": "stream",
     "text": [
      "/lustre06/project/6067616/soroush1/pretrain-imagenet/.venv/lib/python3.11/site-packages/lightning/fabric/plugins/environments/slurm.py:204: The `srun` command is available on your system but is not used. HINT: If your intention is to run Lightning on SLURM, prepend your python command with `srun` like so: srun python /lustre06/project/6067616/soroush1/pretrain-imagenet ...\n",
      "GPU available: True (cuda), used: True\n",
      "TPU available: False, using: 0 TPU cores\n",
      "IPU available: False, using: 0 IPUs\n",
      "HPU available: False, using: 0 HPUs\n",
      "/lustre06/project/6067616/soroush1/pretrain-imagenet/.venv/lib/python3.11/site-packages/lightning/fabric/plugins/environments/slurm.py:204: The `srun` command is available on your system but is not used. HINT: If your intention is to run Lightning on SLURM, prepend your python command with `srun` like so: srun python /lustre06/project/6067616/soroush1/pretrain-imagenet ...\n",
      "You are using a CUDA device ('NVIDIA A100-SXM4-40GB') that has Tensor Cores. To properly utilize them, you should set `torch.set_float32_matmul_precision('medium' | 'high')` which will trade-off precision for performance. For more details, read https://pytorch.org/docs/stable/generated/torch.set_float32_matmul_precision.html#torch.set_float32_matmul_precision\n",
      "LOCAL_RANK: 0 - CUDA_VISIBLE_DEVICES: [0]\n",
      "\n",
      "  | Name      | Type                | Params | In sizes          | Out sizes\n",
      "----------------------------------------------------------------------------------\n",
      "0 | model     | InceptionRegression | 21.8 M | [64, 3, 224, 224] | [64, 1]  \n",
      "1 | criterion | MSELoss             | 0      | ?                 | ?        \n",
      "----------------------------------------------------------------------------------\n",
      "21.8 M    Trainable params\n",
      "0         Non-trainable params\n",
      "21.8 M    Total params\n",
      "87.150    Total estimated model params size (MB)\n"
     ]
    },
    {
     "data": {
      "application/vnd.jupyter.widget-view+json": {
       "model_id": "",
       "version_major": 2,
       "version_minor": 0
      },
      "text/plain": [
       "Sanity Checking: |                                                                                            …"
      ]
     },
     "metadata": {},
     "output_type": "display_data"
    },
    {
     "data": {
      "application/vnd.jupyter.widget-view+json": {
       "model_id": "399a9c1ee30449fa933b570a45f26bbf",
       "version_major": 2,
       "version_minor": 0
      },
      "text/plain": [
       "Training: |                                                                                                   …"
      ]
     },
     "metadata": {},
     "output_type": "display_data"
    },
    {
     "data": {
      "application/vnd.jupyter.widget-view+json": {
       "model_id": "",
       "version_major": 2,
       "version_minor": 0
      },
      "text/plain": [
       "Validation: |                                                                                                 …"
      ]
     },
     "metadata": {},
     "output_type": "display_data"
    },
    {
     "data": {
      "application/vnd.jupyter.widget-view+json": {
       "model_id": "",
       "version_major": 2,
       "version_minor": 0
      },
      "text/plain": [
       "Validation: |                                                                                                 …"
      ]
     },
     "metadata": {},
     "output_type": "display_data"
    },
    {
     "data": {
      "application/vnd.jupyter.widget-view+json": {
       "model_id": "",
       "version_major": 2,
       "version_minor": 0
      },
      "text/plain": [
       "Validation: |                                                                                                 …"
      ]
     },
     "metadata": {},
     "output_type": "display_data"
    },
    {
     "data": {
      "application/vnd.jupyter.widget-view+json": {
       "model_id": "",
       "version_major": 2,
       "version_minor": 0
      },
      "text/plain": [
       "Validation: |                                                                                                 …"
      ]
     },
     "metadata": {},
     "output_type": "display_data"
    },
    {
     "data": {
      "application/vnd.jupyter.widget-view+json": {
       "model_id": "",
       "version_major": 2,
       "version_minor": 0
      },
      "text/plain": [
       "Validation: |                                                                                                 …"
      ]
     },
     "metadata": {},
     "output_type": "display_data"
    },
    {
     "data": {
      "application/vnd.jupyter.widget-view+json": {
       "model_id": "",
       "version_major": 2,
       "version_minor": 0
      },
      "text/plain": [
       "Validation: |                                                                                                 …"
      ]
     },
     "metadata": {},
     "output_type": "display_data"
    },
    {
     "data": {
      "application/vnd.jupyter.widget-view+json": {
       "model_id": "",
       "version_major": 2,
       "version_minor": 0
      },
      "text/plain": [
       "Validation: |                                                                                                 …"
      ]
     },
     "metadata": {},
     "output_type": "display_data"
    },
    {
     "data": {
      "application/vnd.jupyter.widget-view+json": {
       "model_id": "",
       "version_major": 2,
       "version_minor": 0
      },
      "text/plain": [
       "Validation: |                                                                                                 …"
      ]
     },
     "metadata": {},
     "output_type": "display_data"
    },
    {
     "data": {
      "application/vnd.jupyter.widget-view+json": {
       "model_id": "",
       "version_major": 2,
       "version_minor": 0
      },
      "text/plain": [
       "Validation: |                                                                                                 …"
      ]
     },
     "metadata": {},
     "output_type": "display_data"
    },
    {
     "data": {
      "application/vnd.jupyter.widget-view+json": {
       "model_id": "",
       "version_major": 2,
       "version_minor": 0
      },
      "text/plain": [
       "Validation: |                                                                                                 …"
      ]
     },
     "metadata": {},
     "output_type": "display_data"
    },
    {
     "data": {
      "application/vnd.jupyter.widget-view+json": {
       "model_id": "",
       "version_major": 2,
       "version_minor": 0
      },
      "text/plain": [
       "Validation: |                                                                                                 …"
      ]
     },
     "metadata": {},
     "output_type": "display_data"
    },
    {
     "data": {
      "application/vnd.jupyter.widget-view+json": {
       "model_id": "",
       "version_major": 2,
       "version_minor": 0
      },
      "text/plain": [
       "Validation: |                                                                                                 …"
      ]
     },
     "metadata": {},
     "output_type": "display_data"
    },
    {
     "data": {
      "application/vnd.jupyter.widget-view+json": {
       "model_id": "",
       "version_major": 2,
       "version_minor": 0
      },
      "text/plain": [
       "Validation: |                                                                                                 …"
      ]
     },
     "metadata": {},
     "output_type": "display_data"
    },
    {
     "data": {
      "application/vnd.jupyter.widget-view+json": {
       "model_id": "",
       "version_major": 2,
       "version_minor": 0
      },
      "text/plain": [
       "Validation: |                                                                                                 …"
      ]
     },
     "metadata": {},
     "output_type": "display_data"
    },
    {
     "data": {
      "application/vnd.jupyter.widget-view+json": {
       "model_id": "",
       "version_major": 2,
       "version_minor": 0
      },
      "text/plain": [
       "Validation: |                                                                                                 …"
      ]
     },
     "metadata": {},
     "output_type": "display_data"
    },
    {
     "data": {
      "application/vnd.jupyter.widget-view+json": {
       "model_id": "",
       "version_major": 2,
       "version_minor": 0
      },
      "text/plain": [
       "Validation: |                                                                                                 …"
      ]
     },
     "metadata": {},
     "output_type": "display_data"
    },
    {
     "data": {
      "application/vnd.jupyter.widget-view+json": {
       "model_id": "",
       "version_major": 2,
       "version_minor": 0
      },
      "text/plain": [
       "Validation: |                                                                                                 …"
      ]
     },
     "metadata": {},
     "output_type": "display_data"
    },
    {
     "data": {
      "application/vnd.jupyter.widget-view+json": {
       "model_id": "",
       "version_major": 2,
       "version_minor": 0
      },
      "text/plain": [
       "Validation: |                                                                                                 …"
      ]
     },
     "metadata": {},
     "output_type": "display_data"
    },
    {
     "data": {
      "application/vnd.jupyter.widget-view+json": {
       "model_id": "",
       "version_major": 2,
       "version_minor": 0
      },
      "text/plain": [
       "Validation: |                                                                                                 …"
      ]
     },
     "metadata": {},
     "output_type": "display_data"
    },
    {
     "data": {
      "application/vnd.jupyter.widget-view+json": {
       "model_id": "",
       "version_major": 2,
       "version_minor": 0
      },
      "text/plain": [
       "Validation: |                                                                                                 …"
      ]
     },
     "metadata": {},
     "output_type": "display_data"
    },
    {
     "data": {
      "application/vnd.jupyter.widget-view+json": {
       "model_id": "",
       "version_major": 2,
       "version_minor": 0
      },
      "text/plain": [
       "Validation: |                                                                                                 …"
      ]
     },
     "metadata": {},
     "output_type": "display_data"
    },
    {
     "name": "stderr",
     "output_type": "stream",
     "text": [
      "FIT Profiler Report\n",
      "\n",
      "--------------------------------------------------------------------------------------------------------------------------------------------------------------------------------------------------------------------------------------------------------------------------\n",
      "|  Action                                                                                                                                                         \t|  Mean duration (s)\t|  Num calls      \t|  Total time (s) \t|  Percentage %   \t|\n",
      "--------------------------------------------------------------------------------------------------------------------------------------------------------------------------------------------------------------------------------------------------------------------------\n",
      "|  Total                                                                                                                                                          \t|  -              \t|  321532         \t|  2393.8         \t|  100 %          \t|\n",
      "--------------------------------------------------------------------------------------------------------------------------------------------------------------------------------------------------------------------------------------------------------------------------\n",
      "|  run_training_epoch                                                                                                                                             \t|  113.15         \t|  21             \t|  2376.1         \t|  99.261         \t|\n",
      "|  run_training_batch                                                                                                                                             \t|  0.24488        \t|  7392           \t|  1810.1         \t|  75.618         \t|\n",
      "|  [LightningModule]LitInception.optimizer_step                                                                                                                   \t|  0.24465        \t|  7392           \t|  1808.4         \t|  75.547         \t|\n",
      "|  [Strategy]SingleDeviceStrategy.backward                                                                                                                        \t|  0.1486         \t|  7392           \t|  1098.4         \t|  45.886         \t|\n",
      "|  [LightningModule]LitInception.on_after_backward                                                                                                                \t|  0.1264         \t|  7392           \t|  934.35         \t|  39.032         \t|\n",
      "|  [LightningModule]LitInception.configure_gradient_clipping                                                                                                      \t|  0.078355       \t|  7392           \t|  579.2          \t|  24.196         \t|\n",
      "|  [_TrainingEpochLoop].train_dataloader_next                                                                                                                     \t|  0.032029       \t|  7392           \t|  236.76         \t|  9.8905         \t|\n",
      "|  [_EvaluationLoop].val_next                                                                                                                                     \t|  0.14808        \t|  632            \t|  93.585         \t|  3.9095         \t|\n",
      "|  [Strategy]SingleDeviceStrategy.training_step                                                                                                                   \t|  0.012209       \t|  7392           \t|  90.251         \t|  3.7702         \t|\n",
      "|  [Strategy]SingleDeviceStrategy.batch_to_device                                                                                                                 \t|  0.010819       \t|  8024           \t|  86.81          \t|  3.6265         \t|\n",
      "|  [LightningModule]LitInception.transfer_batch_to_device                                                                                                         \t|  0.010749       \t|  8025           \t|  86.263         \t|  3.6036         \t|\n",
      "|  [Callback]ModelCheckpoint{'monitor': None, 'mode': 'min', 'every_n_train_steps': 0, 'every_n_epochs': 1, 'train_time_interval': None}.on_train_epoch_end       \t|  0.64105        \t|  21             \t|  13.462         \t|  0.56237        \t|\n",
      "|  [Callback]TQDMProgressBar.on_train_batch_end                                                                                                                   \t|  0.00094594     \t|  7392           \t|  6.9924         \t|  0.29211        \t|\n",
      "|  [Strategy]SingleDeviceStrategy.validation_step                                                                                                                 \t|  0.0086314      \t|  632            \t|  5.4551         \t|  0.22788        \t|\n",
      "|  [LightningModule]LitInception.optimizer_zero_grad                                                                                                              \t|  0.00047571     \t|  7392           \t|  3.5164         \t|  0.1469         \t|\n",
      "|  [Callback]ModelSummary.on_fit_start                                                                                                                            \t|  0.75049        \t|  1              \t|  0.75049        \t|  0.031351       \t|\n",
      "|  [Callback]TQDMProgressBar.on_validation_batch_end                                                                                                              \t|  0.00050212     \t|  632            \t|  0.31734        \t|  0.013257       \t|\n",
      "|  [Callback]TQDMProgressBar.on_validation_start                                                                                                                  \t|  0.0086096      \t|  22             \t|  0.18941        \t|  0.0079126      \t|\n",
      "|  [Callback]ModelCheckpoint{'monitor': None, 'mode': 'min', 'every_n_train_steps': 0, 'every_n_epochs': 1, 'train_time_interval': None}.on_train_batch_end       \t|  1.6261e-05     \t|  7392           \t|  0.1202         \t|  0.0050215      \t|\n",
      "|  [Callback]EarlyStopping{'monitor': 'val_loss', 'mode': 'min'}.on_train_epoch_end                                                                               \t|  0.0018804      \t|  21             \t|  0.039488       \t|  0.0016496      \t|\n",
      "|  [LightningDataModule]LitLaMemDataModule.setup                                                                                                                  \t|  0.037576       \t|  1              \t|  0.037576       \t|  0.0015697      \t|\n",
      "|  [LightningModule]LitInception.on_validation_model_zero_grad                                                                                                    \t|  0.0011906      \t|  21             \t|  0.025003       \t|  0.0010445      \t|\n",
      "|  [Callback]EarlyStopping{'monitor': 'val_loss', 'mode': 'min'}.on_train_batch_start                                                                             \t|  3.1024e-06     \t|  7392           \t|  0.022933       \t|  0.00095803     \t|\n",
      "|  [Callback]EarlyStopping{'monitor': 'val_loss', 'mode': 'min'}.on_after_backward                                                                                \t|  2.84e-06       \t|  7392           \t|  0.020993       \t|  0.00087697     \t|\n",
      "|  [Callback]TQDMProgressBar.on_validation_batch_start                                                                                                            \t|  3.2453e-05     \t|  632            \t|  0.02051        \t|  0.0008568      \t|\n",
      "|  [Callback]ModelSummary.on_train_batch_end                                                                                                                      \t|  2.6013e-06     \t|  7392           \t|  0.019228       \t|  0.00080326     \t|\n",
      "|  [Callback]TQDMProgressBar.on_train_epoch_start                                                                                                                 \t|  0.00090403     \t|  21             \t|  0.018985       \t|  0.00079308     \t|\n",
      "|  [Callback]EarlyStopping{'monitor': 'val_loss', 'mode': 'min'}.on_before_zero_grad                                                                              \t|  2.3097e-06     \t|  7392           \t|  0.017073       \t|  0.00071324     \t|\n",
      "|  [Callback]EarlyStopping{'monitor': 'val_loss', 'mode': 'min'}.on_train_batch_end                                                                               \t|  2.1565e-06     \t|  7392           \t|  0.015941       \t|  0.00066594     \t|\n",
      "|  [LightningModule]LitInception.on_validation_model_eval                                                                                                         \t|  0.00067122     \t|  22             \t|  0.014767       \t|  0.00061688     \t|\n",
      "|  [Callback]TQDMProgressBar.on_validation_end                                                                                                                    \t|  0.00065709     \t|  22             \t|  0.014456       \t|  0.00060389     \t|\n",
      "|  [Callback]EarlyStopping{'monitor': 'val_loss', 'mode': 'min'}.on_before_optimizer_step                                                                         \t|  1.468e-06      \t|  7392           \t|  0.010852       \t|  0.00045333     \t|\n",
      "|  [Callback]EarlyStopping{'monitor': 'val_loss', 'mode': 'min'}.on_before_backward                                                                               \t|  1.4675e-06     \t|  7392           \t|  0.010848       \t|  0.00045315     \t|\n",
      "|  [Callback]TQDMProgressBar.on_after_backward                                                                                                                    \t|  1.2208e-06     \t|  7392           \t|  0.0090239      \t|  0.00037697     \t|\n",
      "|  [LightningModule]LitInception.on_before_batch_transfer                                                                                                         \t|  1.0873e-06     \t|  8025           \t|  0.0087254      \t|  0.0003645      \t|\n",
      "|  [LightningModule]LitInception.on_train_batch_start                                                                                                             \t|  1.1612e-06     \t|  7392           \t|  0.0085835      \t|  0.00035857     \t|\n",
      "|  [Callback]TQDMProgressBar.on_train_start                                                                                                                       \t|  0.0082349      \t|  1              \t|  0.0082349      \t|  0.00034401     \t|\n",
      "|  [LightningModule]LitInception.on_after_batch_transfer                                                                                                          \t|  1.0155e-06     \t|  8025           \t|  0.0081496      \t|  0.00034045     \t|\n",
      "|  [LightningModule]LitInception.on_before_zero_grad                                                                                                              \t|  1.0801e-06     \t|  7392           \t|  0.0079843      \t|  0.00033354     \t|\n",
      "|  [Callback]TQDMProgressBar.on_sanity_check_start                                                                                                                \t|  0.007956       \t|  1              \t|  0.007956       \t|  0.00033236     \t|\n",
      "|  [Callback]ModelCheckpoint{'monitor': None, 'mode': 'min', 'every_n_train_steps': 0, 'every_n_epochs': 1, 'train_time_interval': None}.on_after_backward        \t|  1.0171e-06     \t|  7392           \t|  0.0075187      \t|  0.00031409     \t|\n",
      "|  [Callback]TQDMProgressBar.on_train_batch_start                                                                                                                 \t|  9.9014e-07     \t|  7392           \t|  0.0073191      \t|  0.00030575     \t|\n",
      "|  [Callback]ModelSummary.on_train_batch_start                                                                                                                    \t|  9.8474e-07     \t|  7392           \t|  0.0072792      \t|  0.00030408     \t|\n",
      "|  [LightningModule]LitInception.on_before_optimizer_step                                                                                                         \t|  9.4589e-07     \t|  7392           \t|  0.006992       \t|  0.00029209     \t|\n",
      "|  [Callback]TQDMProgressBar.on_train_epoch_end                                                                                                                   \t|  0.00032551     \t|  21             \t|  0.0068358      \t|  0.00028556     \t|\n",
      "|  [LightningModule]LitInception.on_train_batch_end                                                                                                               \t|  9.1216e-07     \t|  7392           \t|  0.0067427      \t|  0.00028167     \t|\n",
      "|  [Callback]TQDMProgressBar.on_before_zero_grad                                                                                                                  \t|  9.0734e-07     \t|  7392           \t|  0.0067071      \t|  0.00028018     \t|\n",
      "|  [Callback]ModelSummary.on_before_zero_grad                                                                                                                     \t|  8.9709e-07     \t|  7392           \t|  0.0066313      \t|  0.00027702     \t|\n",
      "|  [Callback]ModelSummary.on_after_backward                                                                                                                       \t|  8.7726e-07     \t|  7392           \t|  0.0064847      \t|  0.0002709      \t|\n",
      "|  [Strategy]SingleDeviceStrategy.on_train_batch_start                                                                                                            \t|  8.3515e-07     \t|  7392           \t|  0.0061735      \t|  0.00025789     \t|\n",
      "|  [Callback]TQDMProgressBar.on_before_optimizer_step                                                                                                             \t|  8.1903e-07     \t|  7392           \t|  0.0060542      \t|  0.00025291     \t|\n",
      "|  [LightningModule]LitInception.on_before_backward                                                                                                               \t|  8.1716e-07     \t|  7392           \t|  0.0060405      \t|  0.00025234     \t|\n",
      "|  [Callback]ModelSummary.on_before_backward                                                                                                                      \t|  8.1176e-07     \t|  7392           \t|  0.0060006      \t|  0.00025067     \t|\n",
      "|  [Callback]ModelSummary.on_before_optimizer_step                                                                                                                \t|  7.846e-07      \t|  7392           \t|  0.0057998      \t|  0.00024228     \t|\n",
      "|  [Callback]ModelCheckpoint{'monitor': None, 'mode': 'min', 'every_n_train_steps': 0, 'every_n_epochs': 1, 'train_time_interval': None}.on_train_batch_start     \t|  7.7334e-07     \t|  7392           \t|  0.0057165      \t|  0.00023881     \t|\n",
      "|  [Callback]TQDMProgressBar.on_before_backward                                                                                                                   \t|  7.2844e-07     \t|  7392           \t|  0.0053846      \t|  0.00022494     \t|\n",
      "|  [Callback]ModelCheckpoint{'monitor': None, 'mode': 'min', 'every_n_train_steps': 0, 'every_n_epochs': 1, 'train_time_interval': None}.on_before_zero_grad      \t|  7.253e-07      \t|  7392           \t|  0.0053615      \t|  0.00022397     \t|\n",
      "|  [Callback]ModelCheckpoint{'monitor': None, 'mode': 'min', 'every_n_train_steps': 0, 'every_n_epochs': 1, 'train_time_interval': None}.on_before_optimizer_step \t|  7.1279e-07     \t|  7392           \t|  0.0052689      \t|  0.00022011     \t|\n",
      "|  [Callback]ModelCheckpoint{'monitor': None, 'mode': 'min', 'every_n_train_steps': 0, 'every_n_epochs': 1, 'train_time_interval': None}.on_before_backward       \t|  6.9386e-07     \t|  7392           \t|  0.005129       \t|  0.00021426     \t|\n",
      "|  [Callback]ModelSummary.on_validation_batch_end                                                                                                                 \t|  2.0992e-06     \t|  632            \t|  0.0013267      \t|  5.5422e-05     \t|\n",
      "|  [Callback]EarlyStopping{'monitor': 'val_loss', 'mode': 'min'}.on_validation_batch_end                                                                          \t|  1.9997e-06     \t|  632            \t|  0.0012638      \t|  5.2795e-05     \t|\n",
      "|  [Callback]EarlyStopping{'monitor': 'val_loss', 'mode': 'min'}.on_validation_batch_start                                                                        \t|  1.975e-06      \t|  632            \t|  0.0012482      \t|  5.2143e-05     \t|\n",
      "|  [LightningModule]LitInception.lr_scheduler_step                                                                                                                \t|  5.633e-05      \t|  21             \t|  0.0011829      \t|  4.9416e-05     \t|\n",
      "|  [Callback]ModelCheckpoint{'monitor': None, 'mode': 'min', 'every_n_train_steps': 0, 'every_n_epochs': 1, 'train_time_interval': None}.on_validation_end        \t|  4.0994e-05     \t|  22             \t|  0.00090187     \t|  3.7675e-05     \t|\n",
      "|  [LightningModule]LitInception.configure_optimizers                                                                                                             \t|  0.00080848     \t|  1              \t|  0.00080848     \t|  3.3774e-05     \t|\n",
      "|  [LightningModule]LitInception.on_validation_batch_start                                                                                                        \t|  9.9564e-07     \t|  632            \t|  0.00062924     \t|  2.6286e-05     \t|\n",
      "|  [LightningModule]LitInception.on_validation_batch_end                                                                                                          \t|  9.7099e-07     \t|  632            \t|  0.00061367     \t|  2.5636e-05     \t|\n",
      "|  [Callback]ModelCheckpoint{'monitor': None, 'mode': 'min', 'every_n_train_steps': 0, 'every_n_epochs': 1, 'train_time_interval': None}.on_validation_batch_end  \t|  9.6775e-07     \t|  632            \t|  0.00061162     \t|  2.555e-05      \t|\n",
      "|  [Callback]ModelSummary.on_validation_batch_start                                                                                                               \t|  9.5215e-07     \t|  632            \t|  0.00060176     \t|  2.5138e-05     \t|\n",
      "|  [Callback]ModelCheckpoint{'monitor': None, 'mode': 'min', 'every_n_train_steps': 0, 'every_n_epochs': 1, 'train_time_interval': None}.on_validation_batch_start\t|  7.5996e-07     \t|  632            \t|  0.00048029     \t|  2.0064e-05     \t|\n",
      "|  [Callback]TQDMProgressBar.on_train_end                                                                                                                         \t|  0.0004625      \t|  1              \t|  0.0004625      \t|  1.9321e-05     \t|\n",
      "|  [LightningDataModule]LitLaMemDataModule.train_dataloader                                                                                                       \t|  0.00028704     \t|  1              \t|  0.00028704     \t|  1.1991e-05     \t|\n",
      "|  [LightningDataModule]LitLaMemDataModule.val_dataloader                                                                                                         \t|  0.00025597     \t|  1              \t|  0.00025597     \t|  1.0693e-05     \t|\n",
      "|  [Callback]ModelCheckpoint{'monitor': None, 'mode': 'min', 'every_n_train_steps': 0, 'every_n_epochs': 1, 'train_time_interval': None}.setup                    \t|  0.00021718     \t|  1              \t|  0.00021718     \t|  9.0726e-06     \t|\n",
      "|  [Callback]EarlyStopping{'monitor': 'val_loss', 'mode': 'min'}.on_validation_end                                                                                \t|  5.2682e-06     \t|  22             \t|  0.0001159      \t|  4.8417e-06     \t|\n",
      "|  [Callback]EarlyStopping{'monitor': 'val_loss', 'mode': 'min'}.on_validation_start                                                                              \t|  3.8072e-06     \t|  22             \t|  8.3759e-05     \t|  3.499e-06      \t|\n",
      "|  [Callback]EarlyStopping{'monitor': 'val_loss', 'mode': 'min'}.on_train_epoch_start                                                                             \t|  3.2986e-06     \t|  21             \t|  6.9271e-05     \t|  2.8938e-06     \t|\n",
      "|  [Callback]EarlyStopping{'monitor': 'val_loss', 'mode': 'min'}.on_validation_epoch_end                                                                          \t|  2.6055e-06     \t|  22             \t|  5.7321e-05     \t|  2.3946e-06     \t|\n",
      "|  [Callback]ModelSummary.on_validation_start                                                                                                                     \t|  2.4929e-06     \t|  22             \t|  5.4843e-05     \t|  2.291e-06      \t|\n",
      "|  [Callback]ModelSummary.on_validation_end                                                                                                                       \t|  2.2058e-06     \t|  22             \t|  4.8529e-05     \t|  2.0273e-06     \t|\n",
      "|  [Callback]ModelSummary.on_train_epoch_end                                                                                                                      \t|  1.8131e-06     \t|  21             \t|  3.8075e-05     \t|  1.5906e-06     \t|\n",
      "|  [Callback]ModelSummary.on_train_epoch_start                                                                                                                    \t|  1.8043e-06     \t|  21             \t|  3.789e-05      \t|  1.5828e-06     \t|\n",
      "|  [LightningModule]LitInception.on_validation_end                                                                                                                \t|  1.3614e-06     \t|  22             \t|  2.9951e-05     \t|  1.2512e-06     \t|\n",
      "|  [LightningModule]LitInception.on_train_epoch_start                                                                                                             \t|  1.364e-06      \t|  21             \t|  2.8645e-05     \t|  1.1966e-06     \t|\n",
      "|  [Callback]EarlyStopping{'monitor': 'val_loss', 'mode': 'min'}.on_save_checkpoint                                                                               \t|  1.3285e-06     \t|  21             \t|  2.7899e-05     \t|  1.1655e-06     \t|\n",
      "|  [LightningDataModule]LitLaMemDataModule.state_dict                                                                                                             \t|  1.3038e-06     \t|  21             \t|  2.738e-05      \t|  1.1438e-06     \t|\n",
      "|  [Callback]EarlyStopping{'monitor': 'val_loss', 'mode': 'min'}.on_validation_epoch_start                                                                        \t|  1.2181e-06     \t|  22             \t|  2.6798e-05     \t|  1.1195e-06     \t|\n",
      "|  [Strategy]SingleDeviceStrategy.on_validation_end                                                                                                               \t|  1.2038e-06     \t|  22             \t|  2.6483e-05     \t|  1.1063e-06     \t|\n",
      "|  [LightningModule]LitInception.on_validation_start                                                                                                              \t|  1.0565e-06     \t|  22             \t|  2.3243e-05     \t|  9.7097e-07     \t|\n",
      "|  [Callback]ModelSummary.on_validation_epoch_end                                                                                                                 \t|  9.8963e-07     \t|  22             \t|  2.1772e-05     \t|  9.0951e-07     \t|\n",
      "|  [Callback]ModelCheckpoint{'monitor': None, 'mode': 'min', 'every_n_train_steps': 0, 'every_n_epochs': 1, 'train_time_interval': None}.on_train_epoch_start     \t|  1.0257e-06     \t|  21             \t|  2.154e-05      \t|  8.9984e-07     \t|\n",
      "|  [Callback]ModelCheckpoint{'monitor': None, 'mode': 'min', 'every_n_train_steps': 0, 'every_n_epochs': 1, 'train_time_interval': None}.on_validation_start      \t|  8.9993e-07     \t|  22             \t|  1.9799e-05     \t|  8.2708e-07     \t|\n",
      "|  [Callback]TQDMProgressBar.on_validation_epoch_end                                                                                                              \t|  8.871e-07      \t|  22             \t|  1.9516e-05     \t|  8.1528e-07     \t|\n",
      "|  [LightningModule]LitInception.on_train_epoch_end                                                                                                               \t|  8.8786e-07     \t|  21             \t|  1.8645e-05     \t|  7.7889e-07     \t|\n",
      "|  [LightningModule]LitInception.on_validation_epoch_start                                                                                                        \t|  8.2987e-07     \t|  22             \t|  1.8257e-05     \t|  7.6269e-07     \t|\n",
      "|  [Strategy]SingleDeviceStrategy.on_validation_start                                                                                                             \t|  8.1569e-07     \t|  22             \t|  1.7945e-05     \t|  7.4965e-07     \t|\n",
      "|  [Callback]ModelCheckpoint{'monitor': None, 'mode': 'min', 'every_n_train_steps': 0, 'every_n_epochs': 1, 'train_time_interval': None}.on_save_checkpoint       \t|  8.4728e-07     \t|  21             \t|  1.7793e-05     \t|  7.4329e-07     \t|\n",
      "|  [LightningModule]LitInception.on_validation_epoch_end                                                                                                          \t|  8.021e-07      \t|  22             \t|  1.7646e-05     \t|  7.3716e-07     \t|\n",
      "|  [Callback]ModelCheckpoint{'monitor': None, 'mode': 'min', 'every_n_train_steps': 0, 'every_n_epochs': 1, 'train_time_interval': None}.on_validation_epoch_end  \t|  7.5546e-07     \t|  22             \t|  1.662e-05      \t|  6.943e-07      \t|\n",
      "|  [Callback]TQDMProgressBar.on_save_checkpoint                                                                                                                   \t|  7.4139e-07     \t|  21             \t|  1.5569e-05     \t|  6.504e-07      \t|\n",
      "|  [Callback]TQDMProgressBar.on_validation_epoch_start                                                                                                            \t|  6.8988e-07     \t|  22             \t|  1.5177e-05     \t|  6.3403e-07     \t|\n",
      "|  [Callback]ModelCheckpoint{'monitor': None, 'mode': 'min', 'every_n_train_steps': 0, 'every_n_epochs': 1, 'train_time_interval': None}.on_validation_epoch_start\t|  6.3706e-07     \t|  22             \t|  1.4015e-05     \t|  5.8548e-07     \t|\n",
      "|  [Callback]ModelSummary.on_validation_epoch_start                                                                                                               \t|  6.0558e-07     \t|  22             \t|  1.3323e-05     \t|  5.5655e-07     \t|\n",
      "|  [Callback]ModelSummary.on_save_checkpoint                                                                                                                      \t|  6.0542e-07     \t|  21             \t|  1.2714e-05     \t|  5.3111e-07     \t|\n",
      "|  [LightningModule]LitInception.on_save_checkpoint                                                                                                               \t|  6.0453e-07     \t|  21             \t|  1.2695e-05     \t|  5.3034e-07     \t|\n",
      "|  [Callback]EarlyStopping{'monitor': 'val_loss', 'mode': 'min'}.on_train_start                                                                                   \t|  8.687e-06      \t|  1              \t|  8.687e-06      \t|  3.629e-07      \t|\n",
      "|  [Callback]ModelCheckpoint{'monitor': None, 'mode': 'min', 'every_n_train_steps': 0, 'every_n_epochs': 1, 'train_time_interval': None}.on_train_start           \t|  7.294e-06      \t|  1              \t|  7.294e-06      \t|  3.047e-07      \t|\n",
      "|  [Callback]TQDMProgressBar.on_sanity_check_end                                                                                                                  \t|  7.274e-06      \t|  1              \t|  7.274e-06      \t|  3.0387e-07     \t|\n",
      "|  [Callback]EarlyStopping{'monitor': 'val_loss', 'mode': 'min'}.setup                                                                                            \t|  4.278e-06      \t|  1              \t|  4.278e-06      \t|  1.7871e-07     \t|\n",
      "|  [Callback]TQDMProgressBar.setup                                                                                                                                \t|  3.5861e-06     \t|  1              \t|  3.5861e-06     \t|  1.4981e-07     \t|\n",
      "|  [Callback]ModelCheckpoint{'monitor': None, 'mode': 'min', 'every_n_train_steps': 0, 'every_n_epochs': 1, 'train_time_interval': None}.on_fit_start             \t|  2.915e-06      \t|  1              \t|  2.915e-06      \t|  1.2177e-07     \t|\n",
      "|  [Strategy]SingleDeviceStrategy.on_train_start                                                                                                                  \t|  2.905e-06      \t|  1              \t|  2.905e-06      \t|  1.2136e-07     \t|\n",
      "|  [LightningDataModule]LitLaMemDataModule.prepare_data                                                                                                           \t|  2.8251e-06     \t|  1              \t|  2.8251e-06     \t|  1.1802e-07     \t|\n",
      "|  [LightningModule]LitInception.on_train_start                                                                                                                   \t|  2.7149e-06     \t|  1              \t|  2.7149e-06     \t|  1.1341e-07     \t|\n",
      "|  [Callback]EarlyStopping{'monitor': 'val_loss', 'mode': 'min'}.on_fit_end                                                                                       \t|  2.6349e-06     \t|  1              \t|  2.6349e-06     \t|  1.1007e-07     \t|\n",
      "|  [Callback]EarlyStopping{'monitor': 'val_loss', 'mode': 'min'}.on_train_end                                                                                     \t|  2.3551e-06     \t|  1              \t|  2.3551e-06     \t|  9.8383e-08     \t|\n",
      "|  [Callback]EarlyStopping{'monitor': 'val_loss', 'mode': 'min'}.on_sanity_check_start                                                                            \t|  2.334e-06      \t|  1              \t|  2.334e-06      \t|  9.7502e-08     \t|\n",
      "|  [Callback]ModelSummary.on_sanity_check_start                                                                                                                   \t|  2.284e-06      \t|  1              \t|  2.284e-06      \t|  9.5411e-08     \t|\n",
      "|  [Callback]EarlyStopping{'monitor': 'val_loss', 'mode': 'min'}.on_sanity_check_end                                                                              \t|  2.004e-06      \t|  1              \t|  2.004e-06      \t|  8.3715e-08     \t|\n",
      "|  [LightningModule]LitInception.setup                                                                                                                            \t|  1.9841e-06     \t|  1              \t|  1.9841e-06     \t|  8.2884e-08     \t|\n",
      "|  [Callback]ModelSummary.on_train_start                                                                                                                          \t|  1.964e-06      \t|  1              \t|  1.964e-06      \t|  8.2047e-08     \t|\n",
      "|  [LightningModule]LitInception.configure_callbacks                                                                                                              \t|  1.9331e-06     \t|  1              \t|  1.9331e-06     \t|  8.0753e-08     \t|\n",
      "|  [Callback]EarlyStopping{'monitor': 'val_loss', 'mode': 'min'}.on_fit_start                                                                                     \t|  1.894e-06      \t|  1              \t|  1.894e-06      \t|  7.9119e-08     \t|\n",
      "|  [Callback]ModelSummary.on_train_end                                                                                                                            \t|  1.743e-06      \t|  1              \t|  1.743e-06      \t|  7.2812e-08     \t|\n",
      "|  [Callback]ModelSummary.setup                                                                                                                                   \t|  1.373e-06      \t|  1              \t|  1.373e-06      \t|  5.7357e-08     \t|\n",
      "|  [Callback]EarlyStopping{'monitor': 'val_loss', 'mode': 'min'}.teardown                                                                                         \t|  1.263e-06      \t|  1              \t|  1.263e-06      \t|  5.2761e-08     \t|\n",
      "|  [LightningDataModule]LitLaMemDataModule.teardown                                                                                                               \t|  1.212e-06      \t|  1              \t|  1.212e-06      \t|  5.0631e-08     \t|\n",
      "|  [Callback]TQDMProgressBar.on_fit_start                                                                                                                         \t|  1.042e-06      \t|  1              \t|  1.042e-06      \t|  4.3531e-08     \t|\n",
      "|  [Callback]ModelCheckpoint{'monitor': None, 'mode': 'min', 'every_n_train_steps': 0, 'every_n_epochs': 1, 'train_time_interval': None}.on_train_end             \t|  9.8208e-07     \t|  1              \t|  9.8208e-07     \t|  4.1026e-08     \t|\n",
      "|  [LightningModule]LitInception.prepare_data                                                                                                                     \t|  9.3202e-07     \t|  1              \t|  9.3202e-07     \t|  3.8935e-08     \t|\n",
      "|  [Callback]ModelSummary.on_fit_end                                                                                                                              \t|  9.12e-07       \t|  1              \t|  9.12e-07       \t|  3.8098e-08     \t|\n",
      "|  [Callback]TQDMProgressBar.on_fit_end                                                                                                                           \t|  8.9104e-07     \t|  1              \t|  8.9104e-07     \t|  3.7223e-08     \t|\n",
      "|  [LightningModule]LitInception.on_train_end                                                                                                                     \t|  8.709e-07      \t|  1              \t|  8.709e-07      \t|  3.6382e-08     \t|\n",
      "|  [Callback]ModelCheckpoint{'monitor': None, 'mode': 'min', 'every_n_train_steps': 0, 'every_n_epochs': 1, 'train_time_interval': None}.on_fit_end               \t|  8.51e-07       \t|  1              \t|  8.51e-07       \t|  3.555e-08      \t|\n",
      "|  [LightningModule]LitInception.on_fit_start                                                                                                                     \t|  8.2201e-07     \t|  1              \t|  8.2201e-07     \t|  3.4339e-08     \t|\n",
      "|  [Callback]TQDMProgressBar.teardown                                                                                                                             \t|  8.12e-07       \t|  1              \t|  8.12e-07       \t|  3.3921e-08     \t|\n",
      "|  [Callback]ModelSummary.teardown                                                                                                                                \t|  8.0199e-07     \t|  1              \t|  8.0199e-07     \t|  3.3503e-08     \t|\n",
      "|  [Callback]ModelCheckpoint{'monitor': None, 'mode': 'min', 'every_n_train_steps': 0, 'every_n_epochs': 1, 'train_time_interval': None}.on_sanity_check_start    \t|  8.0105e-07     \t|  1              \t|  8.0105e-07     \t|  3.3464e-08     \t|\n",
      "|  [Callback]ModelCheckpoint{'monitor': None, 'mode': 'min', 'every_n_train_steps': 0, 'every_n_epochs': 1, 'train_time_interval': None}.on_sanity_check_end      \t|  7.9093e-07     \t|  1              \t|  7.9093e-07     \t|  3.3041e-08     \t|\n",
      "|  [Callback]ModelCheckpoint{'monitor': None, 'mode': 'min', 'every_n_train_steps': 0, 'every_n_epochs': 1, 'train_time_interval': None}.teardown                 \t|  7.8196e-07     \t|  1              \t|  7.8196e-07     \t|  3.2666e-08     \t|\n",
      "|  [LightningModule]LitInception.on_fit_end                                                                                                                       \t|  7.2201e-07     \t|  1              \t|  7.2201e-07     \t|  3.0162e-08     \t|\n",
      "|  [Callback]ModelSummary.on_sanity_check_end                                                                                                                     \t|  6.8103e-07     \t|  1              \t|  6.8103e-07     \t|  2.845e-08      \t|\n",
      "|  [LightningModule]LitInception.teardown                                                                                                                         \t|  6.4098e-07     \t|  1              \t|  6.4098e-07     \t|  2.6777e-08     \t|\n",
      "|  [Strategy]SingleDeviceStrategy.on_train_end                                                                                                                    \t|  6.1095e-07     \t|  1              \t|  6.1095e-07     \t|  2.5522e-08     \t|\n",
      "--------------------------------------------------------------------------------------------------------------------------------------------------------------------------------------------------------------------------------------------------------------------------\n",
      "\n"
     ]
    }
   ],
   "source": [
    "data_path = \"../data/LaMem/lamem_images/lamem/\"\n",
    "datamodule = LitLaMemDataModule(\n",
    "    root=data_path, batch_size=128, num_workers=3, dev_mode=False\n",
    ")\n",
    "tb_logger = TensorBoardLogger(\"./inception_lalem\")\n",
    "\n",
    "# 0.0003019951720402019\n",
    "model = LitInception(learning_rate=0.0003019951720402019)\n",
    "\n",
    "trainer = Trainer(\n",
    "    max_epochs=500,\n",
    "    callbacks=[EarlyStopping(monitor=\"val_loss\", mode=\"min\", patience=10)],\n",
    "    fast_dev_run=False,\n",
    "    devices=\"auto\",\n",
    "    accelerator=\"gpu\",\n",
    "    num_nodes=1,\n",
    "    strategy=\"auto\",\n",
    "    # overfit_batches=0.1,\n",
    "    gradient_clip_val=0.5,\n",
    "    logger=tb_logger,\n",
    "    profiler=\"simple\",\n",
    "    # check_val_every_n_epoch = 1,\n",
    "    # log_every_n_steps=1\n",
    ")\n",
    "\n",
    "trainer.fit(model=model, datamodule=datamodule)"
   ]
  },
  {
   "cell_type": "code",
   "execution_count": null,
   "metadata": {},
   "outputs": [],
   "source": [
    "data_path = \"../data/LaMem/lamem_images/lamem/\"\n",
    "datamodule = LitLaMemDataModule(\n",
    "    root=data_path, batch_size=128, num_workers=2, dev_mode=False\n",
    ")\n",
    "tb_logger = TensorBoardLogger(\"./inception_lalem\")\n",
    "\n",
    "model = LitInception(learning_rate=0.01)\n",
    "\n",
    "trainer = Trainer(\n",
    "    max_epochs=200,\n",
    "    # callbacks=[EarlyStopping(monitor=\"val_loss\", mode=\"min\", patience=10)],\n",
    "    callbacks=[StochasticWeightAveraging(swa_lrs=1e-2)],\n",
    "    fast_dev_run=False,\n",
    "    devices=\"auto\",\n",
    "    accelerator=\"gpu\",\n",
    "    num_nodes=1,\n",
    "    strategy=\"auto\",\n",
    "    # overfit_batches=1,\n",
    "    gradient_clip_val=0.5,\n",
    "    logger=tb_logger,\n",
    "    # check_val_every_n_epoch = 1,\n",
    "    # log_every_n_steps=1\n",
    ")\n",
    "\n",
    "# trainer.fit(model=model, datamodule=datamodule)\n",
    "\n",
    "tuner = Tuner(trainer)\n",
    "# Auto-scale batch size by growing it exponentially (default)\n",
    "# tuner.scale_batch_size(model, datamodule=datamodule, mode=\"power\")\n",
    "\n",
    "# finds learning rate automatically\n",
    "# sets hparams.lr or hparams.learning_rate to that learning rate\n",
    "# Run learning rate finder\n",
    "lr_finder = tuner.lr_find(model, datamodule=datamodule)\n",
    "\n",
    "# Results can be found in\n",
    "print(lr_finder.results)\n",
    "\n",
    "# Pick point based on plot, or get suggestion\n",
    "new_lr = lr_finder.suggestion()\n",
    "\n",
    "fig = lr_finder.plot(suggest=True)\n",
    "\n",
    "# # update hparams of the model\n",
    "# model.hparams.learning_rate = new_lr"
   ]
  },
  {
   "cell_type": "code",
   "execution_count": null,
   "metadata": {},
   "outputs": [],
   "source": [
    "fig = lr_finder.plot(suggest=True)\n",
    "new_lr = lr_finder.suggestion()"
   ]
  },
  {
   "cell_type": "code",
   "execution_count": null,
   "metadata": {},
   "outputs": [],
   "source": [
    "new_lr"
   ]
  },
  {
   "cell_type": "code",
   "execution_count": null,
   "metadata": {},
   "outputs": [],
   "source": [
    "import torch\n",
    "import torch.nn as nn\n",
    "from torchvision.models import inception_v3\n",
    "import lightning as L\n",
    "import torch.optim as optim\n",
    "\n",
    "\n",
    "class InceptionRegression(nn.Module):\n",
    "    def __init__(self, num_output_features=1):\n",
    "        super().__init__()\n",
    "        # Load a pre-trained ResNet-50 model\n",
    "        self.inception = inception_v3(aux_logits=False, weights=None, init_weights=True)\n",
    "        # Replace the classifier layer for regression\n",
    "        num_ftrs = self.inception.fc.in_features\n",
    "        self.inception.fc = nn.Linear(num_ftrs, num_output_features)\n",
    "        # If your targets are in the range [0, 1], you might want to add a sigmoid layer:\n",
    "        self.sigmoid = nn.Sigmoid()\n",
    "\n",
    "    def forward(self, x):\n",
    "        # Get the main output from the GoogLeNet model\n",
    "        outputs = self.inception(x)\n",
    "        if isinstance(outputs, torch.Tensor):\n",
    "            x = outputs\n",
    "        else:  # If outputs are GoogLeNetOutputs, extract the main output\n",
    "            x = outputs.logits\n",
    "\n",
    "        # Apply the sigmoid function to the main output\n",
    "        x = self.sigmoid(x)\n",
    "        return x"
   ]
  },
  {
   "cell_type": "code",
   "execution_count": null,
   "metadata": {},
   "outputs": [],
   "source": [
    "x = torch.rand((1, 3, 224, 224))\n",
    "model = InceptionRegression()\n",
    "output = model(x)\n",
    "\n",
    "output.size()"
   ]
  }
 ],
 "metadata": {
  "kernelspec": {
   "display_name": "Python 3 (ipykernel)",
   "language": "python",
   "name": "python3"
  },
  "language_info": {
   "codemirror_mode": {
    "name": "ipython",
    "version": 3
   },
   "file_extension": ".py",
   "mimetype": "text/x-python",
   "name": "python",
   "nbconvert_exporter": "python",
   "pygments_lexer": "ipython3",
   "version": "3.11.2"
  }
 },
 "nbformat": 4,
 "nbformat_minor": 4
}
