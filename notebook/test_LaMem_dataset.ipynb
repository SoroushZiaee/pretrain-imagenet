{
 "cells": [
  {
   "cell_type": "markdown",
   "metadata": {
    "jp-MarkdownHeadingCollapsed": true
   },
   "source": [
    "# Pesudocode"
   ]
  },
  {
   "cell_type": "code",
   "execution_count": null,
   "metadata": {},
   "outputs": [],
   "source": [
    "%load_ext lab_black\n",
    "%load_ext autoreload\n",
    "%autoreload 2"
   ]
  },
  {
   "cell_type": "code",
   "execution_count": null,
   "metadata": {},
   "outputs": [],
   "source": [
    "import sys\n",
    "\n",
    "if not \"..\" in sys.path:\n",
    "    sys.path.append(\"..\")"
   ]
  },
  {
   "cell_type": "code",
   "execution_count": null,
   "metadata": {},
   "outputs": [],
   "source": [
    "import torch\n",
    "\n",
    "from lit_modules.litdatamodules.lit_lamem import LitLaMemDataModule\n",
    "from datasets.LaMem.LaMemDataset import LaMem"
   ]
  },
  {
   "cell_type": "code",
   "execution_count": null,
   "metadata": {},
   "outputs": [],
   "source": [
    "root = \"/home/soroush1/projects/def-kohitij/soroush1/pretrain-imagenet/data/LaMem/preprocessed/dataset\"\n",
    "obj = LaMem(root, [\"train_1.csv\"])\n",
    "\n",
    "x, y = obj[0]"
   ]
  },
  {
   "cell_type": "code",
   "execution_count": null,
   "metadata": {},
   "outputs": [],
   "source": [
    "%%timeit\n",
    "from time import time\n",
    "\n",
    "start = time()\n",
    "root = \"/home/soroush1/projects/def-kohitij/soroush1/pretrain-imagenet/data/LaMem/preprocessed/dataset\"\n",
    "\n",
    "data = LitLaMemDataModule(root=root, num_workers=20, batch_size=96, dev_mode=True)\n",
    "data.setup(\"train\")\n",
    "\n",
    "train_dl = data.train_dataloader()\n",
    "x, y = next(iter(train_dl))\n",
    "\n",
    "# print(f\"{abs(start - time())}\")\n",
    "print(f\"{x.size() = }\")"
   ]
  },
  {
   "cell_type": "code",
   "execution_count": null,
   "metadata": {},
   "outputs": [],
   "source": [
    "import gc\n",
    "\n",
    "del data, train_dl, x, y\n",
    "\n",
    "gc.collect()"
   ]
  },
  {
   "cell_type": "code",
   "execution_count": null,
   "metadata": {},
   "outputs": [],
   "source": [
    "from torchvision.transforms import ToPILImage\n",
    "import matplotlib.pyplot as plt\n",
    "import numpy as np\n",
    "\n",
    "# Select 20 random images and their scores\n",
    "indices = torch.randperm(len(x))[:20]\n",
    "selected_images = x[indices]\n",
    "selected_scores = y[indices]\n",
    "\n",
    "# Convert images to PIL images for plotting\n",
    "to_pil = ToPILImage()\n",
    "\n",
    "# Plotting the images with memorability scores as titles\n",
    "fig, axes = plt.subplots(4, 5, figsize=(20, 16))  # Adjust the size as needed\n",
    "axes = axes.ravel()\n",
    "\n",
    "for i, (img, score) in enumerate(zip(selected_images, selected_scores)):\n",
    "    img = to_pil(img)  # Convert to PIL for display\n",
    "    axes[i].imshow(np.asarray(img))\n",
    "    axes[i].set_title(f\"Memorability Score = {score:.2f}\")\n",
    "    axes[i].axis(\"off\")  # Hide axes\n",
    "\n",
    "plt.tight_layout()\n",
    "plt.show()"
   ]
  },
  {
   "cell_type": "code",
   "execution_count": null,
   "metadata": {},
   "outputs": [],
   "source": [
    "from lit_modules.litmodels.lit_vgg import VGGRegression\n",
    "import torch.nn.functional as F"
   ]
  },
  {
   "cell_type": "code",
   "execution_count": null,
   "metadata": {},
   "outputs": [],
   "source": [
    "# Example usage\n",
    "model = VGGRegression(output_dim=1)\n",
    "\n",
    "# Example input tensor (batch size, channels, height, width)\n",
    "input_tensor = torch.randn(8, 3, 256, 256)\n",
    "\n",
    "# Get the regression output\n",
    "output = model(input_tensor)\n",
    "print(output)"
   ]
  },
  {
   "cell_type": "code",
   "execution_count": null,
   "metadata": {},
   "outputs": [],
   "source": [
    "from tqdm.notebook import tqdm"
   ]
  },
  {
   "cell_type": "code",
   "execution_count": null,
   "metadata": {},
   "outputs": [],
   "source": [
    "device = torch.device(\"cuda\" if torch.cuda.is_available() else \"cpu\")\n",
    "\n",
    "root = \"/home/soroush1/projects/def-kohitij/soroush1/pretrain-imagenet/data/LaMem/lamem_images/lamem/\"\n",
    "\n",
    "data = LitLaMemDataModule(root=root, num_workers=1, batch_size=32, dev_mode=True)\n",
    "data.setup(\"train\")\n",
    "\n",
    "train_dl = data.train_dataloader()\n",
    "x, y = next(iter(train_dl))\n",
    "\n",
    "\n",
    "model = VGGRegression(output_dim=1)\n",
    "model.to(device)\n",
    "\n",
    "\n",
    "for x, y in tqdm(train_dl):\n",
    "    x = x.to(device)\n",
    "    y = y.to(device)\n",
    "    \n",
    "    output = model(x)\n",
    "    \n",
    "    loss = F.mse_loss(output.squeeze(), y)\n",
    "    \n",
    "    print(f\"{loss = }\")\n",
    "\n",
    "del x, y, data, train_dl\n",
    "del model\n",
    "\n",
    "import gc\n",
    "\n",
    "# Clear GPU cache\n",
    "if torch.cuda.is_available():\n",
    "    torch.cuda.empty_cache()\n",
    "\n",
    "# Collect garbage\n",
    "gc.collect()"
   ]
  },
  {
   "cell_type": "markdown",
   "metadata": {},
   "source": [
    "# Lightning"
   ]
  },
  {
   "cell_type": "code",
   "execution_count": null,
   "metadata": {},
   "outputs": [],
   "source": [
    "%load_ext lab_black\n",
    "%load_ext autoreload\n",
    "%autoreload 2"
   ]
  },
  {
   "cell_type": "code",
   "execution_count": null,
   "metadata": {},
   "outputs": [],
   "source": [
    "import sys\n",
    "\n",
    "if not \"..\" in sys.path:\n",
    "    sys.path.append(\"..\")"
   ]
  },
  {
   "cell_type": "code",
   "execution_count": null,
   "metadata": {},
   "outputs": [],
   "source": [
    "import torch\n",
    "\n",
    "from lit_modules.litdatamodules.lit_lamem import LitLaMemDataModule\n",
    "from lit_modules.litmodels.lit_vgg import LitVGG\n",
    "\n",
    "from lightning.pytorch.callbacks.early_stopping import EarlyStopping\n",
    "from lightning.pytorch.callbacks import DeviceStatsMonitor, StochasticWeightAveraging\n",
    "\n",
    "from lightning.pytorch.tuner import Tuner\n",
    "from lightning.pytorch.loggers import TensorBoardLogger\n",
    "\n",
    "from lightning import Trainer\n",
    "\n",
    "from tqdm.notebook import tqdm"
   ]
  },
  {
   "cell_type": "markdown",
   "metadata": {},
   "source": [
    "### Experiments \n",
    "\n",
    "- Version0\n",
    "- Version1\n",
    "- Version2\n",
    "    - Experiment:\n",
    "        - First Run on LaMem Dataset\n",
    "        - Finding the Batch size\n",
    "        - Finding the Learning Rate\n",
    "    - Result:\n",
    "        - Batch size = 96\n",
    "        - LR = 1e-4\n",
    "\n",
    "- Version7\n",
    "    - Experiment:\n",
    "        - First Run on LaMem Dataset"
   ]
  },
  {
   "cell_type": "code",
   "execution_count": null,
   "metadata": {},
   "outputs": [],
   "source": [
    "data_path = \"../data/LaMem/preprocessed/dataset/\"\n",
    "datamodule = LitLaMemDataModule(\n",
    "    root=data_path, batch_size=64, num_workers=5, dev_mode=False\n",
    ")\n",
    "tb_logger = TensorBoardLogger(\"./memorability\")\n",
    "\n",
    "model = LitVGG(learning_rate=1e-5)\n",
    "\n",
    "trainer = Trainer(\n",
    "    max_epochs=500,\n",
    "    # callbacks=[EarlyStopping(monitor=\"val_loss\", mode=\"min\", patience=10)],\n",
    "    callbacks=[StochasticWeightAveraging(swa_lrs=1e-2)],\n",
    "    fast_dev_run=False,\n",
    "    devices=\"auto\",\n",
    "    accelerator=\"gpu\",\n",
    "    num_nodes=1,\n",
    "    strategy=\"auto\",\n",
    "    overfit_batches=0.1,\n",
    "    gradient_clip_val=0.5,\n",
    "    logger=tb_logger,\n",
    "    profiler=\"simple\",\n",
    "    # check_val_every_n_epoch = 1,\n",
    "    # log_every_n_steps=1\n",
    ")\n",
    "\n",
    "trainer.fit(model=model, datamodule=datamodule)"
   ]
  },
  {
   "cell_type": "code",
   "execution_count": null,
   "metadata": {},
   "outputs": [],
   "source": [
    "data_path = \"../data/LaMem/preprocessed/dataset/\"\n",
    "datamodule = LitLaMemDataModule(\n",
    "    root=data_path, batch_size=64, num_workers=3, dev_mode=False\n",
    ")\n",
    "tb_logger = TensorBoardLogger(\"./memorability\")\n",
    "\n",
    "model = LitVGG(learning_rate=0.01)\n",
    "\n",
    "trainer = Trainer(\n",
    "    max_epochs=200,\n",
    "    # callbacks=[EarlyStopping(monitor=\"val_loss\", mode=\"min\", patience=10)],\n",
    "    callbacks=[StochasticWeightAveraging(swa_lrs=1e-2)],\n",
    "    fast_dev_run=False,\n",
    "    devices=\"auto\",\n",
    "    accelerator=\"gpu\",\n",
    "    num_nodes=1,\n",
    "    strategy=\"auto\",\n",
    "    overfit_batches=1,\n",
    "    gradient_clip_val=0.5,\n",
    "    logger=tb_logger,\n",
    "    # check_val_every_n_epoch = 1,\n",
    "    # log_every_n_steps=1\n",
    ")\n",
    "\n",
    "# trainer.fit(model=model, datamodule=datamodule)\n",
    "\n",
    "tuner = Tuner(trainer)\n",
    "# Auto-scale batch size by growing it exponentially (default)\n",
    "tuner.scale_batch_size(model, datamodule=datamodule, mode=\"power\")\n",
    "\n",
    "# finds learning rate automatically\n",
    "# sets hparams.lr or hparams.learning_rate to that learning rate\n",
    "# Run learning rate finder\n",
    "lr_finder = tuner.lr_find(model, datamodule=datamodule)\n",
    "\n",
    "# Results can be found in\n",
    "print(lr_finder.results)\n",
    "\n",
    "# Pick point based on plot, or get suggestion\n",
    "new_lr = lr_finder.suggestion()\n",
    "\n",
    "fig = lr_finder.plot(suggest=True)\n",
    "\n",
    "# # update hparams of the model\n",
    "# model.hparams.learning_rate = new_lr"
   ]
  },
  {
   "cell_type": "code",
   "execution_count": null,
   "metadata": {},
   "outputs": [],
   "source": [
    "fig = lr_finder.plot(suggest=True)\n",
    "new_lr = lr_finder.suggestion()"
   ]
  },
  {
   "cell_type": "code",
   "execution_count": null,
   "metadata": {},
   "outputs": [],
   "source": [
    "new_lr"
   ]
  }
 ],
 "metadata": {
  "kernelspec": {
   "display_name": "Python 3 (ipykernel)",
   "language": "python",
   "name": "python3"
  },
  "language_info": {
   "codemirror_mode": {
    "name": "ipython",
    "version": 3
   },
   "file_extension": ".py",
   "mimetype": "text/x-python",
   "name": "python",
   "nbconvert_exporter": "python",
   "pygments_lexer": "ipython3",
   "version": "3.11.2"
  }
 },
 "nbformat": 4,
 "nbformat_minor": 4
}
