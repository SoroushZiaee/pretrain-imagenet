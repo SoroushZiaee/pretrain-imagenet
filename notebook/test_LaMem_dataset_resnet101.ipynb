{
 "cells": [
  {
   "cell_type": "markdown",
   "metadata": {
    "jp-MarkdownHeadingCollapsed": true
   },
   "source": [
    "# Pesudocode"
   ]
  },
  {
   "cell_type": "code",
   "execution_count": null,
   "metadata": {},
   "outputs": [],
   "source": [
    "%load_ext lab_black\n",
    "%load_ext autoreload\n",
    "%autoreload 2"
   ]
  },
  {
   "cell_type": "code",
   "execution_count": null,
   "metadata": {},
   "outputs": [],
   "source": [
    "import sys\n",
    "\n",
    "if not \"..\" in sys.path:\n",
    "    sys.path.append(\"..\")"
   ]
  },
  {
   "cell_type": "code",
   "execution_count": null,
   "metadata": {},
   "outputs": [],
   "source": [
    "import torch\n",
    "\n",
    "from lit_modules.litdatamodules.lit_lamem import LitLaMemDataModule\n",
    "from datasets.LaMem.LaMemDataset import LaMem"
   ]
  },
  {
   "cell_type": "code",
   "execution_count": null,
   "metadata": {
    "scrolled": true
   },
   "outputs": [],
   "source": [
    "from time import time\n",
    "\n",
    "start = time()\n",
    "root = \"/home/soroush1/projects/def-kohitij/soroush1/pretrain-imagenet/data/LaMem/lamem_images/lamem\"\n",
    "\n",
    "data = LitLaMemDataModule(\n",
    "    root=root, num_workers=1, batch_size=128, dev_mode=False, desired_image_size=224\n",
    ")\n",
    "data.setup(\"train\")\n",
    "\n",
    "train_dl = data.train_dataloader()\n",
    "x, y = next(iter(train_dl))\n",
    "\n",
    "print(f\"{abs(start - time())}\")\n",
    "print(f\"{x.size() = }\")"
   ]
  },
  {
   "cell_type": "code",
   "execution_count": null,
   "metadata": {},
   "outputs": [],
   "source": [
    "import gc\n",
    "\n",
    "del data, train_dl, x, y\n",
    "\n",
    "gc.collect()"
   ]
  },
  {
   "cell_type": "code",
   "execution_count": null,
   "metadata": {},
   "outputs": [],
   "source": [
    "from torchvision.transforms import ToPILImage\n",
    "import matplotlib.pyplot as plt\n",
    "import numpy as np\n",
    "\n",
    "# Select 20 random images and their scores\n",
    "indices = torch.randperm(len(x))[:20]\n",
    "selected_images = x[indices]\n",
    "selected_scores = y[indices]\n",
    "\n",
    "# Convert images to PIL images for plotting\n",
    "to_pil = ToPILImage()\n",
    "\n",
    "# Plotting the images with memorability scores as titles\n",
    "fig, axes = plt.subplots(4, 5, figsize=(20, 16))  # Adjust the size as needed\n",
    "axes = axes.ravel()\n",
    "\n",
    "for i, (img, score) in enumerate(zip(selected_images, selected_scores)):\n",
    "    img = to_pil(img)  # Convert to PIL for display\n",
    "    axes[i].imshow(np.asarray(img))\n",
    "    axes[i].set_title(f\"Memorability Score = {score:.2f}\")\n",
    "    axes[i].axis(\"off\")  # Hide axes\n",
    "\n",
    "plt.tight_layout()\n",
    "plt.show()"
   ]
  },
  {
   "cell_type": "code",
   "execution_count": null,
   "metadata": {},
   "outputs": [],
   "source": [
    "from lit_modules.litmodels.lit_vgg import VGGRegression\n",
    "\n",
    "from lit_modules.litmodels.lit_resnet import LitResNet50\n",
    "\n",
    "import torch.nn.functional as F"
   ]
  },
  {
   "cell_type": "code",
   "execution_count": null,
   "metadata": {},
   "outputs": [],
   "source": [
    "# Example usage\n",
    "model = LitResNet50(learning_rate=1e-4)\n",
    "\n",
    "# Example input tensor (batch size, channels, height, width)\n",
    "input_tensor = torch.randn(8, 3, 224, 224)\n",
    "\n",
    "# Get the regression output\n",
    "output = model(input_tensor)\n",
    "print(output)"
   ]
  },
  {
   "cell_type": "code",
   "execution_count": null,
   "metadata": {},
   "outputs": [],
   "source": [
    "from tqdm.notebook import tqdm"
   ]
  },
  {
   "cell_type": "code",
   "execution_count": null,
   "metadata": {},
   "outputs": [],
   "source": [
    "device = torch.device(\"cuda\" if torch.cuda.is_available() else \"cpu\")\n",
    "\n",
    "root = \"/home/soroush1/projects/def-kohitij/soroush1/pretrain-imagenet/data/LaMem/lamem_images/lamem/\"\n",
    "\n",
    "data = LitLaMemDataModule(root=root, num_workers=1, batch_size=32, dev_mode=True)\n",
    "data.setup(\"train\")\n",
    "\n",
    "train_dl = data.train_dataloader()\n",
    "x, y = next(iter(train_dl))\n",
    "\n",
    "\n",
    "model = VGGRegression(output_dim=1)\n",
    "model.to(device)\n",
    "\n",
    "\n",
    "for x, y in tqdm(train_dl):\n",
    "    x = x.to(device)\n",
    "    y = y.to(device)\n",
    "    \n",
    "    output = model(x)\n",
    "    \n",
    "    loss = F.mse_loss(output.squeeze(), y)\n",
    "    \n",
    "    print(f\"{loss = }\")\n",
    "\n",
    "del x, y, data, train_dl\n",
    "del model\n",
    "\n",
    "import gc\n",
    "\n",
    "# Clear GPU cache\n",
    "if torch.cuda.is_available():\n",
    "    torch.cuda.empty_cache()\n",
    "\n",
    "# Collect garbage\n",
    "gc.collect()"
   ]
  },
  {
   "cell_type": "markdown",
   "metadata": {},
   "source": [
    "# Lightning"
   ]
  },
  {
   "cell_type": "code",
   "execution_count": 1,
   "metadata": {},
   "outputs": [],
   "source": [
    "%load_ext lab_black\n",
    "%load_ext autoreload\n",
    "%autoreload 2"
   ]
  },
  {
   "cell_type": "code",
   "execution_count": 2,
   "metadata": {},
   "outputs": [],
   "source": [
    "import sys\n",
    "\n",
    "if not \"..\" in sys.path:\n",
    "    sys.path.append(\"..\")"
   ]
  },
  {
   "cell_type": "code",
   "execution_count": 3,
   "metadata": {},
   "outputs": [],
   "source": [
    "import torch\n",
    "\n",
    "from lit_modules.litdatamodules.lit_lamem import LitLaMemDataModule\n",
    "from lit_modules.litmodels.lit_resnet101 import LitResNet101\n",
    "\n",
    "\n",
    "from lightning.pytorch.callbacks.early_stopping import EarlyStopping\n",
    "from lightning.pytorch.callbacks import DeviceStatsMonitor, StochasticWeightAveraging\n",
    "\n",
    "from lightning.pytorch.tuner import Tuner\n",
    "from lightning.pytorch.loggers import TensorBoardLogger\n",
    "\n",
    "from lightning import Trainer\n",
    "\n",
    "from tqdm.notebook import tqdm"
   ]
  },
  {
   "cell_type": "markdown",
   "metadata": {},
   "source": [
    "### Experiments \n",
    "\n",
    "- Version0\n",
    "- Version1\n",
    "- Version2\n",
    "    - Experiment:\n",
    "        - First Run on LaMem Dataset\n",
    "        - Finding the Batch size\n",
    "        - Finding the Learning Rate\n",
    "    - Result:\n",
    "        - Batch size = 96\n",
    "        - LR = 1e-4\n",
    "\n",
    "- Version7\n",
    "    - Experiment:\n",
    "        - First Run on LaMem Dataset"
   ]
  },
  {
   "cell_type": "code",
   "execution_count": null,
   "metadata": {},
   "outputs": [],
   "source": [
    "data_path = \"../data/LaMem/lamem_images/lamem/\"\n",
    "datamodule = LitLaMemDataModule(\n",
    "    root=data_path, batch_size=128, num_workers=3, dev_mode=False\n",
    ")\n",
    "tb_logger = TensorBoardLogger(\"./resnet101_lalem\")\n",
    "\n",
    "# 8.317637711026709e-05\n",
    "model = LitResNet101(learning_rate=8.317637711026709e-05)\n",
    "\n",
    "trainer = Trainer(\n",
    "    max_epochs=500,\n",
    "    callbacks=[EarlyStopping(monitor=\"val_loss\", mode=\"min\", patience=10)],\n",
    "    fast_dev_run=False,\n",
    "    devices=\"auto\",\n",
    "    accelerator=\"gpu\",\n",
    "    num_nodes=1,\n",
    "    strategy=\"auto\",\n",
    "    # overfit_batches=0.1,\n",
    "    gradient_clip_val=0.5,\n",
    "    logger=tb_logger,\n",
    "    profiler=\"simple\",\n",
    "    # check_val_every_n_epoch = 1,\n",
    "    # log_every_n_steps=1\n",
    ")\n",
    "\n",
    "trainer.fit(model=model, datamodule=datamodule)"
   ]
  },
  {
   "cell_type": "code",
   "execution_count": 5,
   "metadata": {},
   "outputs": [
    {
     "name": "stderr",
     "output_type": "stream",
     "text": [
      "/lustre06/project/6067616/soroush1/pretrain-imagenet/.venv/lib/python3.11/site-packages/lightning/fabric/plugins/environments/slurm.py:204: The `srun` command is available on your system but is not used. HINT: If your intention is to run Lightning on SLURM, prepend your python command with `srun` like so: srun python /lustre06/project/6067616/soroush1/pretrain-imagenet ...\n",
      "GPU available: True (cuda), used: True\n",
      "TPU available: False, using: 0 TPU cores\n",
      "IPU available: False, using: 0 IPUs\n",
      "HPU available: False, using: 0 HPUs\n",
      "/lustre06/project/6067616/soroush1/pretrain-imagenet/.venv/lib/python3.11/site-packages/lightning/fabric/plugins/environments/slurm.py:204: The `srun` command is available on your system but is not used. HINT: If your intention is to run Lightning on SLURM, prepend your python command with `srun` like so: srun python /lustre06/project/6067616/soroush1/pretrain-imagenet ...\n",
      "You are using a CUDA device ('NVIDIA A100-SXM4-40GB') that has Tensor Cores. To properly utilize them, you should set `torch.set_float32_matmul_precision('medium' | 'high')` which will trade-off precision for performance. For more details, read https://pytorch.org/docs/stable/generated/torch.set_float32_matmul_precision.html#torch.set_float32_matmul_precision\n",
      "Missing logger folder: ./resnet101_lalem/lightning_logs\n",
      "LOCAL_RANK: 0 - CUDA_VISIBLE_DEVICES: [0]\n"
     ]
    },
    {
     "data": {
      "application/vnd.jupyter.widget-view+json": {
       "model_id": "33d28f347635405b86c78d6aa3bb70bb",
       "version_major": 2,
       "version_minor": 0
      },
      "text/plain": [
       "Finding best initial lr:   0%|          | 0/100 [00:00<?, ?it/s]"
      ]
     },
     "metadata": {},
     "output_type": "display_data"
    },
    {
     "name": "stderr",
     "output_type": "stream",
     "text": [
      "`Trainer.fit` stopped: `max_steps=100` reached.\n",
      "Learning rate set to 8.317637711026709e-05\n",
      "Restoring states from the checkpoint path at /lustre06/project/6067616/soroush1/pretrain-imagenet/notebook/.lr_find_659e41ba-543c-45f7-955b-6f6df07747ec.ckpt\n",
      "Restored all states from the checkpoint at /lustre06/project/6067616/soroush1/pretrain-imagenet/notebook/.lr_find_659e41ba-543c-45f7-955b-6f6df07747ec.ckpt\n"
     ]
    },
    {
     "name": "stdout",
     "output_type": "stream",
     "text": [
      "{'lr': [1e-08, 1.4454397707459274e-08, 1.7378008287493753e-08, 2.0892961308540398e-08, 2.51188643150958e-08, 3.019951720402016e-08, 3.630780547701014e-08, 4.36515832240166e-08, 5.248074602497726e-08, 6.309573444801934e-08, 7.585775750291837e-08, 9.120108393559096e-08, 1.0964781961431852e-07, 1.3182567385564074e-07, 1.5848931924611133e-07, 1.9054607179632475e-07, 2.2908676527677735e-07, 2.7542287033381663e-07, 3.311311214825911e-07, 3.9810717055349735e-07, 4.786300923226383e-07, 5.75439937337157e-07, 6.918309709189366e-07, 8.317637711026709e-07, 1e-06, 1.2022644346174132e-06, 1.445439770745928e-06, 1.7378008287493761e-06, 2.089296130854039e-06, 2.5118864315095797e-06, 3.0199517204020163e-06, 3.630780547701014e-06, 4.365158322401661e-06, 5.248074602497728e-06, 6.3095734448019305e-06, 7.585775750291836e-06, 9.120108393559096e-06, 1.0964781961431852e-05, 1.3182567385564076e-05, 1.584893192461114e-05, 1.9054607179632464e-05, 2.2908676527677725e-05, 2.7542287033381663e-05, 3.311311214825911e-05, 3.9810717055349735e-05, 4.786300923226385e-05, 5.7543993733715664e-05, 6.918309709189363e-05, 8.317637711026709e-05, 0.0001, 0.00012022644346174131, 0.0001445439770745928, 0.00017378008287493763, 0.0002089296130854041, 0.0002511886431509582, 0.0003019951720402019, 0.000363078054770101, 0.0004365158322401656, 0.0005248074602497723, 0.000630957344480193, 0.0007585775750291836, 0.0009120108393559097, 0.0010964781961431851, 0.0013182567385564075, 0.001584893192461114, 0.0019054607179632484, 0.0022908676527677745, 0.002754228703338169, 0.003311311214825908, 0.003981071705534969, 0.00478630092322638, 0.005754399373371567, 0.006918309709189364, 0.008317637711026709, 0.01, 0.012022644346174132, 0.01445439770745928, 0.017378008287493765, 0.02089296130854041, 0.025118864315095822, 0.030199517204020192, 0.036307805477010104, 0.04365158322401657, 0.05248074602497723, 0.0630957344480193, 0.07585775750291836, 0.09120108393559097, 0.10964781961431852, 0.13182567385564073, 0.15848931924611143, 0.19054607179632482, 0.2290867652767775, 0.2754228703338169, 0.3311311214825908, 0.3981071705534969, 0.47863009232263803, 0.5754399373371567, 0.6918309709189363, 0.8317637711026709, 1.0], 'loss': [0.1315025970189257, 0.16966273108885693, 0.18366659934340976, 0.19201671964196, 0.19973623838518345, 0.2046530029107395, 0.2080770552875644, 0.2117654615125993, 0.21525285666482463, 0.21702581944002533, 0.21842672848994943, 0.2186767366450625, 0.2191721353513603, 0.22113635162348722, 0.22290889826247232, 0.2244793132976169, 0.22459150999425812, 0.22583539710777553, 0.22546413325847106, 0.22543475206574984, 0.22649989699330283, 0.22725902047717836, 0.22762358793370013, 0.22853899370684974, 0.2282323597921546, 0.22874968475011387, 0.22884704364824765, 0.22807794336584086, 0.22699884100512893, 0.22726529897859282, 0.22677361748088787, 0.22684526338012023, 0.2265867032837414, 0.22594757732469403, 0.22590212345456218, 0.22468165920396443, 0.223026960111598, 0.2216873361869049, 0.2199984431559486, 0.21813705919013068, 0.21606603467067537, 0.21339542857528634, 0.2100570048385612, 0.20705613728410172, 0.20353387670519096, 0.19964311970235282, 0.19515010986435968, 0.190160415780983, 0.1851548087239293, 0.18013913737716694, 0.175358358686839, 0.17094830857236348, 0.16647240109846884, 0.1622906308329162, 0.15830277900353057, 0.1542809701808083, 0.15063488640028874, 0.14694720802573194, 0.14361257544779932, 0.14028139402568118, 0.13700685914300353, 0.13421475559089932, 0.13101896953092465, 0.12900210845842167, 0.1261807052901759, 0.12385453266618902, 0.12125322152567912, 0.11850798999173394, 0.11588046520729059, 0.11325086090618157, 0.1106421122954537, 0.1083089095889882, 0.1060916835312085, 0.10408676167705135, 0.10189631026192636, 0.09993338232574403, 0.09797984703990605, 0.09614847779789006, 0.09428246548258154, 0.09235335427855765, 0.0905008135370991, 0.088910557712805, 0.0873888984750846, 0.08575917445047217, 0.08436831390972736, 0.08336867903966567, 0.08289992716425658, 0.0826980490966164, 0.08237290399276354, 0.08151276608326281, 0.09270107672630226, 0.10414409351672986, 0.11580528543132702, 0.12639585100101977, 0.1369726250709655, 0.14711687817673288, 0.15710329089900313, 0.16716344269879807, 0.17720980299442468, 0.18617046527132916]}\n"
     ]
    },
    {
     "data": {
      "image/png": "[encoded data removed]",
      "text/plain": [
       "<Figure size 640x480 with 1 Axes>"
      ]
     },
     "metadata": {},
     "output_type": "display_data"
    }
   ],
   "source": [
    "data_path = \"../data/LaMem/lamem_images/lamem/\"\n",
    "datamodule = LitLaMemDataModule(\n",
    "    root=data_path, batch_size=128, num_workers=2, dev_mode=False\n",
    ")\n",
    "tb_logger = TensorBoardLogger(\"./resnet101_lalem\")\n",
    "\n",
    "model = LitResNet101(learning_rate=0.01)\n",
    "\n",
    "trainer = Trainer(\n",
    "    max_epochs=200,\n",
    "    # callbacks=[EarlyStopping(monitor=\"val_loss\", mode=\"min\", patience=10)],\n",
    "    callbacks=[StochasticWeightAveraging(swa_lrs=1e-2)],\n",
    "    fast_dev_run=False,\n",
    "    devices=\"auto\",\n",
    "    accelerator=\"gpu\",\n",
    "    num_nodes=1,\n",
    "    strategy=\"auto\",\n",
    "    # overfit_batches=1,\n",
    "    gradient_clip_val=0.5,\n",
    "    logger=tb_logger,\n",
    "    # check_val_every_n_epoch = 1,\n",
    "    # log_every_n_steps=1\n",
    ")\n",
    "\n",
    "# trainer.fit(model=model, datamodule=datamodule)\n",
    "\n",
    "tuner = Tuner(trainer)\n",
    "# Auto-scale batch size by growing it exponentially (default)\n",
    "# tuner.scale_batch_size(model, datamodule=datamodule, mode=\"power\")\n",
    "\n",
    "# finds learning rate automatically\n",
    "# sets hparams.lr or hparams.learning_rate to that learning rate\n",
    "# Run learning rate finder\n",
    "lr_finder = tuner.lr_find(model, datamodule=datamodule)\n",
    "\n",
    "# Results can be found in\n",
    "print(lr_finder.results)\n",
    "\n",
    "# Pick point based on plot, or get suggestion\n",
    "new_lr = lr_finder.suggestion()\n",
    "\n",
    "fig = lr_finder.plot(suggest=True)\n",
    "\n",
    "# # update hparams of the model\n",
    "# model.hparams.learning_rate = new_lr"
   ]
  },
  {
   "cell_type": "code",
   "execution_count": null,
   "metadata": {},
   "outputs": [],
   "source": [
    "fig = lr_finder.plot(suggest=True)\n",
    "new_lr = lr_finder.suggestion()"
   ]
  },
  {
   "cell_type": "code",
   "execution_count": 6,
   "metadata": {},
   "outputs": [
    {
     "data": {
      "text/plain": [
       "8.317637711026709e-05"
      ]
     },
     "execution_count": 6,
     "metadata": {},
     "output_type": "execute_result"
    }
   ],
   "source": [
    "new_lr"
   ]
  },
  {
   "cell_type": "code",
   "execution_count": null,
   "metadata": {},
   "outputs": [],
   "source": [
    "import torch\n",
    "import torch.nn as nn\n",
    "from torchvision.models import resnet101\n",
    "import lightning as L\n",
    "import torch.optim as optim\n",
    "\n",
    "\n",
    "class ResNet101Regression(nn.Module):\n",
    "    def __init__(self, num_output_features=1):\n",
    "        super().__init__()\n",
    "        # Load a pre-trained ResNet-50 model\n",
    "        self.resnet = resnet101(weights=None)\n",
    "        # Replace the classifier layer for regression\n",
    "        num_ftrs = self.resnet.fc.in_features\n",
    "        self.resnet.fc = nn.Linear(num_ftrs, num_output_features)\n",
    "        # If your targets are in the range [0, 1], you might want to add a sigmoid layer:\n",
    "        self.sigmoid = nn.Sigmoid()\n",
    "\n",
    "    def forward(self, x):\n",
    "        x = self.resnet(x)\n",
    "        x = self.sigmoid(x)\n",
    "        return x"
   ]
  },
  {
   "cell_type": "code",
   "execution_count": null,
   "metadata": {},
   "outputs": [],
   "source": [
    "model = ResNet101Regression(num_output_features=1)"
   ]
  },
  {
   "cell_type": "code",
   "execution_count": null,
   "metadata": {},
   "outputs": [],
   "source": [
    "model"
   ]
  }
 ],
 "metadata": {
  "kernelspec": {
   "display_name": "Python 3 (ipykernel)",
   "language": "python",
   "name": "python3"
  },
  "language_info": {
   "codemirror_mode": {
    "name": "ipython",
    "version": 3
   },
   "file_extension": ".py",
   "mimetype": "text/x-python",
   "name": "python",
   "nbconvert_exporter": "python",
   "pygments_lexer": "ipython3",
   "version": "3.11.2"
  }
 },
 "nbformat": 4,
 "nbformat_minor": 4
}
